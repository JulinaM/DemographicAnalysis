{
 "cells": [
  {
   "cell_type": "code",
   "execution_count": 2,
   "id": "9abaa34c-5200-4c4b-bace-be89b77614ea",
   "metadata": {},
   "outputs": [],
   "source": [
    "import pandas as pd\n",
    "import numpy as np\n",
    "import pandas as pd\n",
    "import matplotlib.pyplot as plt\n",
    "from matplotlib import rc\n",
    "import re,os\n",
    "import glob, traceback\n",
    "import seaborn as sns\n",
    "import matplotlib.dates as mdates"
   ]
  },
  {
   "cell_type": "markdown",
   "id": "bc894643-a3f2-4a38-85fc-028feb893bc3",
   "metadata": {},
   "source": [
    "## 0. Read all csv files"
   ]
  },
  {
   "cell_type": "code",
   "execution_count": 7,
   "id": "46c06b8a-315b-4ef7-bfeb-70e63d6eb386",
   "metadata": {},
   "outputs": [
    {
     "data": {
      "text/html": [
       "<div>\n",
       "<style scoped>\n",
       "    .dataframe tbody tr th:only-of-type {\n",
       "        vertical-align: middle;\n",
       "    }\n",
       "\n",
       "    .dataframe tbody tr th {\n",
       "        vertical-align: top;\n",
       "    }\n",
       "\n",
       "    .dataframe thead th {\n",
       "        text-align: right;\n",
       "    }\n",
       "</style>\n",
       "<table border=\"1\" class=\"dataframe\">\n",
       "  <thead>\n",
       "    <tr style=\"text-align: right;\">\n",
       "      <th></th>\n",
       "      <th>id</th>\n",
       "      <th>created_at</th>\n",
       "      <th>text</th>\n",
       "      <th>user_id</th>\n",
       "      <th>name</th>\n",
       "      <th>screen_name</th>\n",
       "      <th>description</th>\n",
       "      <th>DrugAbuse</th>\n",
       "      <th>lang</th>\n",
       "      <th>gender</th>\n",
       "      <th>age</th>\n",
       "      <th>org</th>\n",
       "      <th>date</th>\n",
       "      <th>is_teenage</th>\n",
       "      <th>drug_type</th>\n",
       "      <th>sent_score</th>\n",
       "      <th>sentiment</th>\n",
       "      <th>race</th>\n",
       "    </tr>\n",
       "  </thead>\n",
       "  <tbody>\n",
       "    <tr>\n",
       "      <th>0</th>\n",
       "      <td>1083147454290247680</td>\n",
       "      <td>Wed Jan 09 23:44:11 +0000 2019</td>\n",
       "      <td>USER forever get chill HTTPURL</td>\n",
       "      <td>1008830740308680704</td>\n",
       "      <td>'</td>\n",
       "      <td>caprogers1940</td>\n",
       "      <td>-This is the fight of our lives-  @holdmyshiel...</td>\n",
       "      <td>1</td>\n",
       "      <td>en</td>\n",
       "      <td>male</td>\n",
       "      <td>&lt;=18</td>\n",
       "      <td>non-org</td>\n",
       "      <td>2020-01-01</td>\n",
       "      <td>1</td>\n",
       "      <td>[]</td>\n",
       "      <td>0.0</td>\n",
       "      <td>neu</td>\n",
       "      <td>api</td>\n",
       "    </tr>\n",
       "  </tbody>\n",
       "</table>\n",
       "</div>"
      ],
      "text/plain": [
       "                    id                      created_at  \\\n",
       "0  1083147454290247680  Wed Jan 09 23:44:11 +0000 2019   \n",
       "\n",
       "                             text              user_id name    screen_name  \\\n",
       "0  USER forever get chill HTTPURL  1008830740308680704    '  caprogers1940   \n",
       "\n",
       "                                         description  DrugAbuse lang gender  \\\n",
       "0  -This is the fight of our lives-  @holdmyshiel...          1   en   male   \n",
       "\n",
       "    age      org        date  is_teenage drug_type  sent_score sentiment race  \n",
       "0  <=18  non-org  2020-01-01           1        []         0.0       neu  api  "
      ]
     },
     "execution_count": 7,
     "metadata": {},
     "output_type": "execute_result"
    }
   ],
   "source": [
    "df_2019.head(1)"
   ]
  },
  {
   "cell_type": "code",
   "execution_count": 4,
   "id": "d0d0404d-bdd2-4dc3-9148-e04dabea5ef4",
   "metadata": {},
   "outputs": [
    {
     "data": {
      "text/plain": [
       "((2799726, 17), (1811516, 18), (2799726, 18))"
      ]
     },
     "execution_count": 4,
     "metadata": {},
     "output_type": "execute_result"
    }
   ],
   "source": [
    "df = pd.read_csv('/data2/julina/scripts/tweets/cleaned_data_by_year/2019.csv')\n",
    "df.drop_duplicates(subset=['text', 'created_at'], inplace=True)\n",
    "df = df.loc[:, ~df.columns.str.match('Unnamed')]\n",
    "\n",
    "df_r = pd.read_csv('/data2/julina/scripts/tweets/cleaned_data_by_year/2019_race.csv')\n",
    "df_r.drop_duplicates(subset=['text', 'created_at'], inplace=True)\n",
    "df_r = df_r.loc[:, ~df_r.columns.str.match('Unnamed')]\n",
    "\n",
    "df_2019 = pd.merge(df, df_r[['id', 'user_id', 'race']],  how='left', on=['id','user_id'])\n",
    "df_2019.shape\n",
    "\n",
    "df.shape, df_r.shape, df_2019.shape"
   ]
  },
  {
   "cell_type": "code",
   "execution_count": 5,
   "id": "6f5e8764-03dd-42f7-ba90-b1f2d5df264d",
   "metadata": {},
   "outputs": [
    {
     "data": {
      "text/plain": [
       "((3502171, 17), (2275943, 18), (3502171, 18))"
      ]
     },
     "execution_count": 5,
     "metadata": {},
     "output_type": "execute_result"
    }
   ],
   "source": [
    "df = pd.read_csv('/data2/julina/scripts/tweets/cleaned_data_by_year/2020.csv')\n",
    "df.drop_duplicates(subset=['text', 'created_at'], inplace=True)\n",
    "df = df.loc[:, ~df.columns.str.match('Unnamed')]\n",
    "\n",
    "df_r = pd.read_csv('/data2/julina/scripts/tweets/cleaned_data_by_year/2020_race.csv')\n",
    "df_r.drop_duplicates(subset=['text', 'created_at'], inplace=True)\n",
    "df_r = df_r.loc[:, ~df_r.columns.str.match('Unnamed')]\n",
    "\n",
    "df_2020 = pd.merge(df, df_r[['id', 'user_id', 'race']],  how='left', on=['id','user_id'])\n",
    "df_2020.shape\n",
    "\n",
    "df.shape, df_r.shape, df_2020.shape"
   ]
  },
  {
   "cell_type": "code",
   "execution_count": 6,
   "id": "3eda58fe-4f48-4c71-8baa-5e6bd58361c7",
   "metadata": {},
   "outputs": [
    {
     "data": {
      "text/plain": [
       "((2553235, 17), (1723470, 18), (2553235, 18))"
      ]
     },
     "execution_count": 6,
     "metadata": {},
     "output_type": "execute_result"
    }
   ],
   "source": [
    "df = pd.read_csv('/data2/julina/scripts/tweets/cleaned_data_by_year/2021.csv')\n",
    "df.drop_duplicates(subset=['text', 'created_at'], inplace=True)\n",
    "df = df.loc[:, ~df.columns.str.match('Unnamed')]\n",
    "\n",
    "df_r = pd.read_csv('/data2/julina/scripts/tweets/cleaned_data_by_year/2021_race.csv')\n",
    "df_r.drop_duplicates(subset=['text', 'created_at'], inplace=True)\n",
    "df_r = df_r.loc[:, ~df_r.columns.str.match('Unnamed')]\n",
    "\n",
    "df_2021 = pd.merge(df, df_r[['id', 'user_id', 'race']],  how='left', on=['id','user_id'])\n",
    "df_2021.shape\n",
    "\n",
    "df.shape, df_r.shape, df_2021.shape"
   ]
  },
  {
   "cell_type": "code",
   "execution_count": 8,
   "id": "86fdfb77-d42a-4343-958f-475c4fd155f7",
   "metadata": {},
   "outputs": [],
   "source": [
    "drug_keywords_map= {\n",
    "'tobacco' : ['nicotine', 'tobacco', 'cigarette', 'cigarrette', 'cigar', 'bidis', 'snuff'],\n",
    "'alcohol' : ['liquor', 'beer', 'wine'],\n",
    "'cannabinoids' : ['marijuana', 'blunt', 'dope', 'ganja', 'grass', 'herb', 'joint', 'bud', 'mary jane', 'pot', 'reefer', 'green', 'trees', 'smoke', 'sinsemilla', 'skunk', 'weed','hashish', 'boom', 'gangster', 'hash', 'hash oil', 'hemp'],\n",
    "'opioids' : ['heroin', 'smack', 'horse', 'brown sugar', 'dope', \n",
    "             # 'H',\n",
    "             'junk', 'skag', 'skunk', 'white horse', 'China white','opium', 'laudanum', 'paregoric', 'big O', 'black stuff', 'block', 'gum', 'hop'],\n",
    "'stimulants': ['cocaine', 'hydrochloride', 'blow', 'bump',\n",
    "               # 'C',\n",
    "                'candy', 'Charlie', 'coke', 'crack', 'flake', 'rock', 'snow', 'toot','amphetamine', 'Biphetamine', 'Dexedrine', 'bennies', 'black beauties', 'crosses', 'hearts', 'LA turnaround', 'speed', 'truck drivers', 'uppers','methamphetamine', 'Desoxyn','meth', 'ice', 'crank', 'chalk', 'crystal', 'fire', 'glass', 'go fast', 'speed'],\n",
    "'club_drugs':['mdma', 'ecstasy', 'adam', 'clarity', 'eve', \"lover's speed\", 'peace', 'uppers','flunitrazepam', 'rohypnol', 'forget-me pill', 'mexican valium', 'r2', 'roach', 'roche', 'roffles', 'roofinol', 'rope', 'rophies','ghb', 'Gamma-hydroxybutyrate', \n",
    "              # 'G',\n",
    "              'Georgia home boy', 'grievous bodily harm', 'liquid ecstasy', 'soap', 'scoop', 'goop', 'liquid X'],\n",
    "'dissociative_drugs':['ketamine', 'Ketalar SV', 'cat Valium',\n",
    "                      # 'K',\n",
    "                      'Special K', 'vitamin K','pcp and analogs', 'phencyclidine' 'angel dust', 'boat', 'hog', 'love boat', 'peace pill','salvia divinorum', 'salvia', 'shepherdess’s herb', 'maria pastora', 'magic mint', 'sally-d','dextromethorphan', 'dxm',  'robotripping', 'robo', 'triple'],\n",
    "'hallucinogens':['lsd','Lysergic acid diethylamide', 'acid', 'blotter', 'cubes', 'microdot', 'yellow sunshine', 'blue heaven', 'mescaline', 'Buttons', 'cactus', 'mesc', 'peyote', 'psilocybin', 'Magic mushrooms', 'purple passion', 'shrooms', 'little smoke'],\n",
    "'other_compounds':['anabolic_steroids', 'Anadrol', 'Oxandrin', 'Durabolin', 'Depo-Testosterone', 'Equipoise', 'roids', 'juice', 'gym candy', 'pumpers','inhalants', 'Solvents', 'paint thinners', 'gasoline', 'glues', 'gasses', 'butane', 'propane', 'aerosol propellants', 'nitrous oxide',  'nitrites' ,'isoamyl', 'isobutyl', 'cyclohexyl','laughing gas', 'poppers', 'snappers', 'whippets'],\n",
    "'prescription_medications':['cns_depressants', 'stimulants', 'opioid pain relievers', 'OxyContin','Oxycodone', 'Vicodin', 'Norco', 'Lortab', 'Hydrocodone', 'Acetaminophen', 'Percocet ', 'Oxycodone', 'Acetaminophen','Tramadol','Codeine','Morphine','Methadone','Demerol', 'meperidine','Acetaminophen','Tylenol', 'Excedrin', 'Vanquish','Aspirin', 'Bayer', 'Bufferin', 'Ecotrin', 'Excedrin', 'Vanquish','Diclofenac', 'Voltaren Gel','Ibuprofen', 'Advil', 'Motrin IB','Naproxen', 'Aleve']\n",
    "}\n",
    "\n",
    "drug_cols = drug_keywords_map.keys()"
   ]
  },
  {
   "cell_type": "code",
   "execution_count": 9,
   "id": "358428ee-0945-42cb-85d1-e07aa2e91dbf",
   "metadata": {},
   "outputs": [],
   "source": [
    "# https://nida.nih.gov/sites/default/files/cadchart.pdf\n",
    "for keyword, words in drug_keywords_map.items():\n",
    "    pattern = fr'\\b(?:{\"|\".join(words)})\\b'\n",
    "    # print(f'Keyword: {keyword}, Pattern: {pattern}')\n",
    "    df_2019[keyword] = df_2019['text'].str.contains(pattern, case=False).astype(int)\n",
    "    df_2020[keyword] = df_2020['text'].str.contains(pattern, case=False).astype(int)\n",
    "    df_2021[keyword] = df_2021['text'].str.contains(pattern, case=False).astype(int)"
   ]
  },
  {
   "cell_type": "code",
   "execution_count": 10,
   "id": "da9c6f87-ce06-46bf-bf00-4aa7c84868a8",
   "metadata": {},
   "outputs": [],
   "source": [
    "drug_cols = list(drug_keywords_map.keys())"
   ]
  },
  {
   "cell_type": "code",
   "execution_count": 11,
   "id": "b02caeaf-63a2-4024-afaa-07e31e964441",
   "metadata": {},
   "outputs": [],
   "source": [
    "df_2019['drug_type'] = df_2019[drug_cols].apply(lambda row: next((col for col, val in zip(drug_cols, row) if val == 1), None), axis=1)\n",
    "df_2020['drug_type'] = df_2020[drug_cols].apply(lambda row: next((col for col, val in zip(drug_cols, row) if val == 1), None), axis=1)\n",
    "df_2021['drug_type'] = df_2021[drug_cols].apply(lambda row: next((col for col, val in zip(drug_cols, row) if val == 1), None), axis=1)"
   ]
  },
  {
   "cell_type": "code",
   "execution_count": 12,
   "id": "1bf19f5f-d14d-4891-9ce0-65371a593233",
   "metadata": {},
   "outputs": [],
   "source": [
    "# df_2019['drug_type'].value_counts(), df_2020['drug_type'].value_counts(), df_2021['drug_type'].value_counts()"
   ]
  },
  {
   "cell_type": "markdown",
   "id": "164d699d-facc-42c4-a662-82c5d7cfb478",
   "metadata": {},
   "source": [
    "# 1. Statistical Distribution by demographics"
   ]
  },
  {
   "cell_type": "code",
   "execution_count": 13,
   "id": "bf183bb8-5a3a-43c1-b93b-12a89408036e",
   "metadata": {},
   "outputs": [],
   "source": [
    "def get_the_agg_results(data, agg_by_user=False, race=False):\n",
    "    years = [2019, 2020, 2021]\n",
    "    age_groups = ['<=18','19-29', '30-39', '>=40']\n",
    "    race_groups = ['api', 'white', 'hispanic', 'black']\n",
    "    metrics = ['Total Tweets', 'Org', 'Person', 'Female', 'Male', \n",
    "           'Teenage', 'Adult', 'Teenage Female', 'Teenage Male', 'Adult Female', 'Adult Male'] + age_groups + ['Neutral', 'Positive', 'Negative']\n",
    "    if race:\n",
    "        metrics += race_groups \n",
    "    \n",
    "    results = {metric: [] for metric in metrics}\n",
    "    for i in range(3):\n",
    "        dff = data[i]\n",
    "        year = years[i]\n",
    "        if agg_by_user:\n",
    "            dff = dff.drop_duplicates(subset=['user_id'], keep='first')\n",
    "        is_org = dff[dff['org'] == 'is-org']\n",
    "        non_org = dff[dff['org'] != 'is-org']\n",
    "\n",
    "        total_tweets = dff.shape[0]\n",
    "        count_is_org = is_org.shape[0]\n",
    "        count_non_org = non_org.shape[0]\n",
    "        percent_is_org = (count_is_org / total_tweets) * 100\n",
    "        percent_non_org = (count_non_org / total_tweets) * 100\n",
    "\n",
    "        total_user_tweets = count_non_org\n",
    "        total_female_tweets = non_org[non_org['gender'] == 'female'].shape[0]\n",
    "        total_male_tweets = non_org[non_org['gender'] == 'male'].shape[0]\n",
    "        percent_female = (total_female_tweets / total_user_tweets) * 100\n",
    "        percent_male = (total_male_tweets / total_user_tweets) * 100\n",
    "\n",
    "        total_teenagers_tweets = non_org[non_org['is_teenage'] == 1].shape[0]\n",
    "        total_adult_tweets = non_org[non_org['is_teenage'] != 1].shape[0]\n",
    "        percent_teenage = (total_teenagers_tweets / total_user_tweets) * 100\n",
    "        percent_adult = (total_adult_tweets / total_user_tweets) * 100\n",
    "\n",
    "        tf = non_org[(non_org['is_teenage'] == 1) & (non_org['gender'] == 'female')].shape[0]\n",
    "        tm = non_org[(non_org['is_teenage'] == 1) & (non_org['gender'] == 'male')].shape[0]\n",
    "        af = non_org[(non_org['is_teenage'] != 1) & (non_org['gender'] == 'female')].shape[0]\n",
    "        am = non_org[(non_org['is_teenage'] != 1) & (non_org['gender'] == 'male')].shape[0]\n",
    "        percent_tf = (tf / total_user_tweets) * 100\n",
    "        percent_tm = (tm / total_user_tweets) * 100\n",
    "        percent_af = (af / total_user_tweets) * 100\n",
    "        percent_am = (am / total_user_tweets) * 100\n",
    "\n",
    "        total_neu_tweets = dff[(dff['sentiment'] == 'neu')].shape[0]\n",
    "        total_pos_tweets = dff[(dff['sentiment'] == 'pos')].shape[0]\n",
    "        total_neg_tweets = dff[(dff['sentiment'] == 'neg')].shape[0]\n",
    "        percent_neu = (total_neu_tweets / total_tweets) * 100\n",
    "        percent_pos = (total_pos_tweets / total_tweets) * 100\n",
    "        percent_neg = (total_neg_tweets / total_tweets) * 100\n",
    "\n",
    "        totals = {}\n",
    "        percentages = {}\n",
    "        for age_group in age_groups:\n",
    "            totals[age_group] = non_org[non_org['age'] == age_group].shape[0]\n",
    "            percentages[age_group] = (totals[age_group] / non_org.shape[0]) * 100\n",
    "\n",
    "        if race:\n",
    "            for race in race_groups:\n",
    "                totals[race] = non_org[non_org['race'] == race].shape[0]\n",
    "                percentages[race] = (totals[race] / non_org.shape[0]) * 100\n",
    "\n",
    "        results['Total Tweets'].append(total_tweets)\n",
    "        results['Org'].append(f\"{count_is_org} ({percent_is_org:.2f}%)\")\n",
    "        results['Person'].append(f\"{count_non_org} ({percent_non_org:.2f}%)\")\n",
    "        # results['Non Org User Tweets'].append(total_user_tweets)\n",
    "        results['Female'].append(f\"{total_female_tweets} ({percent_female:.2f}%)\")\n",
    "        results['Male'].append(f\"{total_male_tweets} ({percent_male:.2f}%)\")\n",
    "        results['Teenage'].append(f\"{total_teenagers_tweets} ({percent_teenage:.2f}%)\")\n",
    "        results['Adult'].append(f\"{total_adult_tweets} ({percent_adult:.2f}%)\")\n",
    "        results['Teenage Female'].append(f\"{tf} ({percent_tf:.2f}%)\")\n",
    "        results['Teenage Male'].append(f\"{tm} ({percent_tm:.2f}%)\")\n",
    "        results['Adult Female'].append(f\"{af} ({percent_af:.2f}%)\")\n",
    "        results['Adult Male'].append(f\"{am} ({percent_am:.2f}%)\")\n",
    "\n",
    "        results['Neutral'].append(f\"{total_neu_tweets} ({percent_neu:.2f}%)\")\n",
    "        results['Positive'].append(f\"{total_pos_tweets} ({percent_pos:.2f}%)\")\n",
    "        results['Negative'].append(f\"{total_neg_tweets} ({percent_neg:.2f}%)\")\n",
    "\n",
    "        for age_group in age_groups:\n",
    "            results[f\"{age_group}\"].append(f\"{totals[age_group]} ({percentages[age_group]:.2f}%)\")\n",
    "\n",
    "        if race:\n",
    "            for race in race_groups:\n",
    "                results[f\"{race}\"].append(f\"{totals[race]} ({percentages[race]:.2f}%)\")\n",
    "\n",
    "    # Convert results to DataFrame\n",
    "    results_df = pd.DataFrame(results, index=years).T\n",
    "    # Print the pivoted DataFrame\n",
    "    # print(results_df)\n",
    "    return results_df"
   ]
  },
  {
   "cell_type": "code",
   "execution_count": 14,
   "id": "97c61d9b-b80b-4084-a64c-3151df1a802e",
   "metadata": {},
   "outputs": [
    {
     "name": "stdout",
     "output_type": "stream",
     "text": [
      "                            2019              2020              2021\n",
      "Total Tweets             2799726           3502171           2553235\n",
      "Org               221934 (7.93%)    291136 (8.31%)    232207 (9.09%)\n",
      "Person          2577792 (92.07%)  3211035 (91.69%)  2321028 (90.91%)\n",
      "Female          1318063 (51.13%)  1558219 (48.53%)  1081682 (46.60%)\n",
      "Male            1259729 (48.87%)  1652816 (51.47%)  1239346 (53.40%)\n",
      "Teenage         1019817 (39.56%)  1257269 (39.15%)   968414 (41.72%)\n",
      "Adult           1557975 (60.44%)  1953766 (60.85%)  1352614 (58.28%)\n",
      "Teenage Female   609320 (23.64%)   711873 (22.17%)   534702 (23.04%)\n",
      "Teenage Male     410497 (15.92%)   545396 (16.99%)   433712 (18.69%)\n",
      "Adult Female     708743 (27.49%)   846346 (26.36%)   546980 (23.57%)\n",
      "Adult Male       849232 (32.94%)  1107420 (34.49%)   805634 (34.71%)\n",
      "<=18            1019817 (39.56%)  1257269 (39.15%)   968414 (41.72%)\n",
      "19-29            772388 (29.96%)   849019 (26.44%)   542770 (23.38%)\n",
      "30-39            468354 (18.17%)   638334 (19.88%)   488024 (21.03%)\n",
      ">=40             317233 (12.31%)   466413 (14.53%)   321820 (13.87%)\n",
      "Neutral          985973 (35.22%)  1254059 (35.81%)   938201 (36.75%)\n",
      "Positive         814611 (29.10%)  1006366 (28.74%)   788800 (30.89%)\n",
      "Negative         999142 (35.69%)  1241746 (35.46%)   826234 (32.36%)\n",
      "api              303500 (11.77%)   406301 (12.65%)   302074 (13.01%)\n",
      "white           1215550 (47.15%)  1506359 (46.91%)  1142020 (49.20%)\n",
      "hispanic          126121 (4.89%)    148930 (4.64%)    107018 (4.61%)\n",
      "black              12596 (0.49%)     16045 (0.50%)     12068 (0.52%)\n"
     ]
    }
   ],
   "source": [
    "results_df = get_the_agg_results([df_2019, df_2020, df_2021], agg_by_user=False, race=True)\n",
    "print(results_df)\n",
    "# results_df.to_csv('demo_dist_agg_by_post.csv')"
   ]
  },
  {
   "cell_type": "code",
   "execution_count": null,
   "id": "4662c890-b2af-450f-aa27-9d793b73932b",
   "metadata": {},
   "outputs": [],
   "source": [
    "results_udf = get_the_agg_results([df_2019, df_2020, df_2021], agg_by_user=True, race=True)\n",
    "print(results_udf)\n",
    "# results_df.to_csv('demo_dist_agg_by_user.csv')"
   ]
  },
  {
   "cell_type": "markdown",
   "id": "048d4718-e830-4769-89ce-ee13bfb51caa",
   "metadata": {},
   "source": [
    "# 2. Distribution across different drug types"
   ]
  },
  {
   "cell_type": "code",
   "execution_count": null,
   "id": "40de5327-664e-493c-8be1-917308b11e42",
   "metadata": {},
   "outputs": [],
   "source": [
    "def get_the_dist_of_drugs_results(data, agg_by_user=False, race=False):\n",
    "    years = [2019, 2020, 2021]\n",
    "    # Initialize an empty dictionary to collect results\n",
    "    results_dict = {}\n",
    "    age_groups = ['<=18','19-29', '30-39', '>=40']\n",
    "    race_groups = ['api', 'white', 'hispanic', 'black']\n",
    "\n",
    "    for i in range(3):\n",
    "        year = years[i]\n",
    "        dff = data[i]\n",
    "        if agg_by_user:\n",
    "            dff = dff.drop_duplicates(subset=['user_id'], keep='first')\n",
    "        org = dff[dff['org'] == 'is-org']\n",
    "        non_org = dff[dff['org'] != 'is-org']\n",
    "\n",
    "        female = non_org[(non_org['gender'] == 'female')]\n",
    "        male = non_org[(non_org['gender'] == 'male')]\n",
    "        adult = non_org[(non_org['is_teenage'] == 1)]\n",
    "        teenage = non_org[(non_org['is_teenage'] != 1)]\n",
    "\n",
    "        to_value_counts = dff['drug_type'].value_counts()\n",
    "        to_percentages = (to_value_counts / dff.shape[0]) * 100\n",
    "\n",
    "        o_value_counts = org['drug_type'].value_counts()\n",
    "        p_value_counts = non_org['drug_type'].value_counts()\n",
    "        o_percentages = (o_value_counts / dff.shape[0]) * 100\n",
    "        p_percentages = (p_value_counts /dff.shape[0]) * 100\n",
    "\n",
    "        f_value_counts = female['drug_type'].value_counts()\n",
    "        m_value_counts = male['drug_type'].value_counts()\n",
    "        f_percentages = (f_value_counts / dff.shape[0]) * 100\n",
    "        m_percentages = (m_value_counts / dff.shape[0]) * 100\n",
    "\n",
    "        a_value_counts = adult['drug_type'].value_counts()\n",
    "        t_value_counts = teenage['drug_type'].value_counts()\n",
    "        a_percentages = (a_value_counts / dff.shape[0]) * 100\n",
    "        t_percentages = (t_value_counts / dff.shape[0]) * 100\n",
    "\n",
    "        value_counts = {}\n",
    "        percentages = {}\n",
    "        for age_group in age_groups:\n",
    "            age_filter = non_org[non_org['age'] == age_group]\n",
    "            value_counts[age_group] = age_filter['drug_type'].value_counts()\n",
    "            percentages[age_group] = (value_counts[age_group] / dff.shape[0]) * 100\n",
    "\n",
    "        if race:\n",
    "            for race in race_groups:\n",
    "                race_filter = non_org[non_org['race'] == race]\n",
    "                value_counts[race] = race_filter['drug_type'].value_counts()\n",
    "                percentages[race] = (value_counts[race] / non_org.shape[0]) * 100\n",
    "\n",
    "        # Combine the counts and percentages into a DataFrame\n",
    "        result = pd.DataFrame({\n",
    "            f'Total {year}': to_value_counts.astype(int).astype(str) + ' (' + to_percentages.map('{:.2f}%'.format) + ')',        \n",
    "            f'Org {year}': o_value_counts.astype(int).astype(str) + ' (' + o_percentages.map('{:.2f}%'.format) + ')',        \n",
    "            f'Person {year}': p_value_counts.astype(int).astype(str) + ' (' + p_percentages.map('{:.2f}%'.format) + ')',        \n",
    "            f'Female {year}': f_value_counts.astype(int).astype(str) + ' (' + f_percentages.map('{:.2f}%'.format) + ')',\n",
    "            f'Male {year}': m_value_counts.astype(int).astype(str) + ' (' + m_percentages.map('{:.2f}%'.format) + ')',\n",
    "            f'Adult {year}': a_value_counts.astype(int).astype(str) + ' (' + a_percentages.map('{:.2f}%'.format) + ')',\n",
    "            f'Teenage {year}': t_value_counts.astype(int).astype(str) + ' (' + t_percentages.map('{:.2f}%'.format) + ')'\n",
    "        })\n",
    "\n",
    "        for age_group in age_groups:\n",
    "            result[f'{age_group} {year}'] = value_counts[age_group].astype(int).astype(str) + ' (' + percentages[age_group].map('{:.2f}%'.format) + ')'\n",
    "\n",
    "        if race:\n",
    "            for race in race_groups:\n",
    "                result[f'{race} {year}'] = value_counts[race].astype(int).astype(str) + ' (' + percentages[race].map('{:.2f}%'.format) + ')'\n",
    "       \n",
    "        # Fill NaN values with 0 for better readability\n",
    "        result = result.fillna('0 (0.00%)')\n",
    "\n",
    "        # Add the result to the dictionary\n",
    "        results_dict[year] = result\n",
    "\n",
    "    # Concatenate all results along columns\n",
    "    combined_result = pd.concat(results_dict.values(), axis=1)\n",
    "\n",
    "    # Prepare multi-index for columns\n",
    "    columns = pd.MultiIndex.from_product([combined_result.index, years], names=['Drug', 'Year'])\n",
    "    \n",
    "    # Reorganize the DataFrame to have drug types as columns and two rows for male and female\n",
    "    groups = ['Total', 'Org', 'Person', 'Female', 'Male', 'Adult', 'Teenage'] + age_groups + race_groups\n",
    "    final_result = pd.DataFrame(index= groups, columns=columns)\n",
    "\n",
    "    for drug_type in combined_result.index:\n",
    "        for year in years:\n",
    "            final_result[(drug_type, year)] = [\n",
    "\n",
    "                combined_result.at[drug_type, f'Total {year}'],\n",
    "                combined_result.at[drug_type, f'Org {year}'],\n",
    "                combined_result.at[drug_type, f'Person {year}'],\n",
    "                combined_result.at[drug_type, f'Female {year}'],\n",
    "                combined_result.at[drug_type, f'Male {year}'],\n",
    "                combined_result.at[drug_type, f'Teenage {year}'],\n",
    "                combined_result.at[drug_type, f'Adult {year}'],\n",
    "                combined_result.at[drug_type, f'<=18 {year}'],\n",
    "                combined_result.at[drug_type, f'19-29 {year}'],\n",
    "                combined_result.at[drug_type, f'30-39 {year}'],\n",
    "                combined_result.at[drug_type, f'>=40 {year}'],\n",
    "                combined_result.at[drug_type, f'api {year}'],\n",
    "                combined_result.at[drug_type, f'white {year}'],\n",
    "                combined_result.at[drug_type, f'black {year}'],\n",
    "                combined_result.at[drug_type, f'hispanic {year}'],\n",
    "                # combined_result.at[drug_type, f'Total {year}'],\n",
    "            ]\n",
    "\n",
    "    return final_result"
   ]
  },
  {
   "cell_type": "code",
   "execution_count": null,
   "id": "fd144e97-b6ea-4865-9545-aa27875530df",
   "metadata": {},
   "outputs": [],
   "source": [
    "final_results= get_the_dist_of_drugs_results([df_2019, df_2020, df_2021], agg_by_user = False, race = True)\n",
    "# final_results.to_csv('drug_demo_dist_by_post.csv')\n",
    "# df=results_dict[2020].T\n",
    "# df.to_csv('2020_by_demo_drug.csv')\n",
    "# df=results_dict[2019].T\n",
    "# df.to_csv('2019_by_demo_drug.csv')\n",
    "# df=results_dict[2021].T\n",
    "# df.to_csv('2021_by_demo_drug.csv')"
   ]
  },
  {
   "cell_type": "code",
   "execution_count": null,
   "id": "1110ef03-07b4-4b49-8a44-147c680b591d",
   "metadata": {},
   "outputs": [],
   "source": [
    "final_results"
   ]
  },
  {
   "cell_type": "code",
   "execution_count": 15,
   "id": "50d966f4-f241-4799-818b-5204ce840194",
   "metadata": {},
   "outputs": [],
   "source": [
    "final_results= get_the_dist_of_drugs_results([df_2019, df_2020, df_2021], agg_by_user = True, race = True)\n",
    "# final_results.to_csv('drug_demo_dist_by_user.csv')"
   ]
  },
  {
   "cell_type": "code",
   "execution_count": null,
   "id": "7c5a5781-8f60-473c-b45e-04b3d9ace4c3",
   "metadata": {},
   "outputs": [],
   "source": [
    "# results_dict = {}\n",
    "# result = pd.DataFrame({\n",
    "#     '2019': df_2019['drug_type'].value_counts(),\n",
    "#     '2020': df_2020['drug_type'].value_counts(),\n",
    "#     '2021':  df_2021['drug_type'].value_counts()\n",
    "#     })\n",
    "# results_dict['drug_type'] = result\n",
    "# result = pd.DataFrame({\n",
    "#     '2019': df_2019['race'].value_counts(),\n",
    "#     '2020': df_2020['race'].value_counts(),\n",
    "#     '2021':  df_2021['race'].value_counts()\n",
    "#     })\n",
    "# results_dict['race'] = result\n",
    "# combined_result = pd.concat(results_dict.values(), axis=0) #axis=1\n",
    "# combined_result"
   ]
  },
  {
   "cell_type": "markdown",
   "id": "54c3b5b4-86cf-4963-996f-fe519aed492d",
   "metadata": {},
   "source": [
    "## 3. Quartly Trend Analysis"
   ]
  },
  {
   "cell_type": "code",
   "execution_count": null,
   "id": "21e045a7-e5b0-449c-b7e4-fba5beaef6b3",
   "metadata": {},
   "outputs": [],
   "source": [
    "data= pd.concat([df_2019, df_2020, df_2021], ignore_index=True)"
   ]
  },
  {
   "cell_type": "code",
   "execution_count": null,
   "id": "906f09fd",
   "metadata": {},
   "outputs": [],
   "source": [
    "data['created_at'] = pd.to_datetime(data['created_at'], format='%a %b %d %H:%M:%S %z %Y')"
   ]
  },
  {
   "cell_type": "code",
   "execution_count": null,
   "id": "41db46e3-ee1b-4519-b2c6-c2b2e63bbb53",
   "metadata": {},
   "outputs": [],
   "source": [
    "data['quarter'] = data['created_at'].dt.to_period('Q')\n",
    "data['month'] = data['created_at'].dt.to_period('M')"
   ]
  },
  {
   "cell_type": "code",
   "execution_count": null,
   "id": "b2b75d1f-83c4-442a-a3de-c83220205182",
   "metadata": {},
   "outputs": [],
   "source": [
    "data['week'] = data['created_at'].dt.to_period('W')"
   ]
  },
  {
   "cell_type": "code",
   "execution_count": null,
   "id": "a769b03c-e66b-4266-93cc-412ab83b1743",
   "metadata": {},
   "outputs": [],
   "source": [
    "def calculate_percentages(data, period, category_col, categories, drug_type=None):\n",
    "    if drug_type:\n",
    "        sub_data = data[data['drug_type']==drug_type]\n",
    "        df = sub_data[[period, category_col]]\n",
    "    else:   \n",
    "        df = data[[period, category_col]]\n",
    "            \n",
    "    g = df.groupby([period, category_col]).size().unstack(fill_value=0).reset_index()\n",
    "    g['total'] = data.groupby([period]).size().reset_index(name='Count')['Count']\n",
    "    g['all'] = g[categories].sum(axis=1)\n",
    "    g['all_pct'] = (g['all'] / g['total']) * 100\n",
    "    for cat in categories:\n",
    "        g[cat + '_pct'] = (g[cat] / g['total']) * 100\n",
    "    return g\n",
    "\n",
    "def calculate_ratio(data, period, category_col, categories, drug_type=None):\n",
    "    if drug_type:\n",
    "        sub_data = data[data['drug_type']==drug_type]\n",
    "        df = sub_data[[period, category_col]]\n",
    "        user_data = sub_data.drop_duplicates(subset=['user_id'], keep='first')\n",
    "    else:   \n",
    "        df = data[[period, category_col]]\n",
    "        user_data = data.drop_duplicates(subset=['user_id'], keep='first')\n",
    "            \n",
    "    g = df.groupby([period, category_col]).size().unstack(fill_value=0).reset_index()\n",
    "    g['total'] = data.groupby([period]).size().reset_index(name='Count')['Count']\n",
    "    g['all'] = g[categories].sum(axis=1)\n",
    "    g['all_pct'] = (g['all'] / g['total']) * 100\n",
    "    for cat in categories:\n",
    "        g[cat + '_pct'] = (g[cat] / g['total']) * 100\n",
    "        \n",
    "    u_g = user_data[[period, category_col]]\n",
    "    u_g = u_g.groupby([period, category_col]).size().unstack(fill_value=0).reset_index()\n",
    "    u_g['all'] = u_g[categories].sum(axis=1)\n",
    "    u_g['all_pct'] = g['all'] / u_g['all']\n",
    "    for cat in categories:\n",
    "        u_g[cat+'_pct'] = g[cat]/u_g[cat] # renaming _pct for now \"change it to _ratio\"\n",
    "    return u_g\n",
    "\n",
    "def prepare_grouped_data(data, period, columns, drug_type=None, user_ratio =False):\n",
    "    groups = {\n",
    "        'age_groups': ['<=18', '19-29', '30-39', '>=40'],\n",
    "        'gender_types': ['male', 'female'],\n",
    "        'user_types': ['is-org', 'non-org'],\n",
    "        'sentiment_types': ['neu', 'pos', 'neg'],\n",
    "        'race_groups': ['api', 'white', 'hispanic', 'black'],\n",
    "        # 'teen_adult': ['1', '0']\n",
    "    }\n",
    "    \n",
    "    if user_ratio:\n",
    "        grouped_data = {\n",
    "            'age_g': calculate_ratio(data, period, 'age', groups['age_groups'], drug_type),\n",
    "            'gender_g': calculate_ratio(data, period, 'gender', groups['gender_types'], drug_type),\n",
    "            'user_g': calculate_ratio(data, period, 'org', groups['user_types'], drug_type),\n",
    "            'sentiment_g': calculate_ratio(data, period, 'sentiment', groups['sentiment_types'], drug_type),\n",
    "            'race_g': calculate_ratio(data, period, 'race', groups['race_groups'], drug_type),\n",
    "            # 'teen_adult_g': calculate_ratio(data, period, 'is_teenage', groups['teen_adult'], drug_type)\n",
    "        }\n",
    "    else:\n",
    "        grouped_data = {\n",
    "            'age_g': calculate_percentages(data, period, 'age', groups['age_groups'], drug_type),\n",
    "            'gender_g': calculate_percentages(data, period, 'gender', groups['gender_types'], drug_type),\n",
    "            'user_g': calculate_percentages(data, period, 'org', groups['user_types'], drug_type),\n",
    "            'sentiment_g': calculate_percentages(data, period, 'sentiment', groups['sentiment_types'], drug_type),\n",
    "            'race_g': calculate_percentages(data, period, 'race', groups['race_groups'], drug_type),\n",
    "            # 'teen_adult_g': calculate_percentages(data, period, 'is_teenage', groups['teen_adult'], drug_type)\n",
    "        }\n",
    "    return groups, grouped_data"
   ]
  },
  {
   "cell_type": "code",
   "execution_count": null,
   "id": "47d9ad84-18a2-4931-b88d-32a37efdbe9d",
   "metadata": {},
   "outputs": [],
   "source": [
    "def plot_trend(groups, grouped_df, period, category, ax, drug_type=None):\n",
    "    colors = ['blue', 'green', 'red', 'black']\n",
    "    markers = ['^', 's', 'o', '*']\n",
    "    s = 50 if period == 'month' else 100\n",
    "    label = {'is-org': 'Org', 'non-org': 'Person',\n",
    "             'neu': 'Neutral', 'pos': 'Positive', 'neg': 'Negative',\n",
    "             'api':'API', 'white': 'White', 'hispanic': 'Hispanic', 'black':'Black',\n",
    "             'male':'Male', 'female':'Female'\n",
    "            }\n",
    "    if groups:\n",
    "        for i in range(len(groups)):\n",
    "            a = groups[i]\n",
    "            c = colors[i]\n",
    "            m = markers[i]\n",
    "            ax.plot(grouped_df[period].index, grouped_df[a + '_pct'], color=c)\n",
    "            ax.scatter(grouped_df[period].index, grouped_df[a + '_pct'], marker=m, s=s, color=c, label= label[a] if a in label.keys() else a)\n",
    "    else:\n",
    "        ax.plot(grouped_df[period].index, grouped_df['all_pct'], color='Orange')\n",
    "        ax.scatter(grouped_df[period].index, grouped_df['all_pct'], marker='D', s=s, color='Orange', label='all posts')\n",
    "  \n",
    "    tick_positions = [-1, 3, 7, 11]\n",
    "    tick_labels = ['2019Q1', '2020Q1', '2021Q1', '2022Q1']\n",
    "    if period == 'month':\n",
    "        tick_positions = [-1, 5, 11, 17, 23, 29, 35]\n",
    "        tick_labels = ['2019-01', '2019-06', '2020-01', '2020-06', '2021-01', '2021-06', '2022-01']\n",
    "    ax.set_xticks(tick_positions)\n",
    "    ax.set_xticklabels(tick_labels)\n",
    "    ax.set_xlabel('Quarter' if period=='quarter' else 'Month', fontsize=12)\n",
    "    ax.set_ylabel('Percentage', fontsize=12)\n",
    "    ax.legend(fontsize=10)\n",
    "    ax.grid(False)\n",
    "    \n",
    "    # ax.axvspan(3,5, color='blue', alpha=0.2)  # Adjust alpha for transparency\n",
    "    start = 4 if period =='quarter' else 14\n",
    "    xlim = ax.get_xlim()\n",
    "    ax.axvline(start, color='gray', linestyle='--', linewidth=1.5)"
   ]
  },
  {
   "cell_type": "code",
   "execution_count": null,
   "id": "2f3f1d85-b660-449c-a957-416139e33b76",
   "metadata": {},
   "outputs": [],
   "source": [
    "def plot_all_trends(groups, grouped_data, period, main_title, filename, drug_type=None):\n",
    "    fig, axs = plt.subplots(3, 2, figsize=(15, 18))  # Adjust the grid size (3x2) and figure size as needed\n",
    "    axs = axs.flatten()\n",
    "\n",
    "    params = [(None, grouped_data['user_g'], 'Default')] if drug_type else []\n",
    "    # List of parameters for each plot\n",
    "    params += [\n",
    "        (groups['user_types'], grouped_data['user_g'], 'User Type'),\n",
    "        (groups['age_groups'], grouped_data['age_g'], 'Age Group'),\n",
    "        (groups['gender_types'], grouped_data['gender_g'], 'Gender'),\n",
    "        (groups['race_groups'], grouped_data['race_g'], 'Race'),\n",
    "        (groups['sentiment_types'], grouped_data['sentiment_g'], 'Sentiment')\n",
    "    ]\n",
    "\n",
    "    # Plot each trend on a different subplot\n",
    "    for i, (group, grouped_df, category) in enumerate(params):\n",
    "        plot_trend(group, grouped_df, period, category, axs[i], drug_type)\n",
    "        axs[i].set_title(f'Trend by {category}', fontsize=12)  # Individual subplot titles\n",
    "\n",
    "    # Remove any empty subplots if there are fewer plots than subplots\n",
    "    for j in range(len(params), len(axs)):\n",
    "        fig.delaxes(axs[j])\n",
    "\n",
    "    plt.subplots_adjust(top=0.95)  \n",
    "    fig.suptitle(main_title, fontsize=16)\n",
    "\n",
    "    # plt.savefig(filename+'_combined_plots.png', bbox_inches='tight')\n",
    "    plt.show()"
   ]
  },
  {
   "cell_type": "code",
   "execution_count": null,
   "id": "66c187f3-0683-4617-8a1f-e121427710c7",
   "metadata": {},
   "outputs": [],
   "source": [
    "# Main logic\n",
    "period = 'quarter'\n",
    "groups, grouped_data = prepare_grouped_data(data, period, ['age', 'gender', 'org', 'sentiment', 'race', 'is_teenage'], None)\n",
    "main_title = \"Prevalence of (All) Drug Use Posts by Various Categories from 2019 through 2021\"\n",
    "plot_all_trends(groups, grouped_data, period, main_title, 'All')"
   ]
  },
  {
   "cell_type": "code",
   "execution_count": null,
   "id": "7f01bbbc-5487-4610-b07a-c141418d373d",
   "metadata": {},
   "outputs": [],
   "source": [
    "period = 'quarter'\n",
    "user_data = data.drop_duplicates(subset=['user_id'], keep='first')\n",
    "groups, grouped_data = prepare_grouped_data(user_data, period, ['age', 'gender', 'org', 'sentiment', 'race', 'is_teenage'], None)\n",
    "main_title = \"Prevalence of (All) Drug Users by Various Categories from 2019 through 2021\"\n",
    "plot_all_trends(groups, grouped_data, period, main_title, 'All_users')"
   ]
  },
  {
   "cell_type": "code",
   "execution_count": null,
   "id": "d8a8b282-2dfd-47d0-9407-b175ea46def0",
   "metadata": {},
   "outputs": [],
   "source": [
    "drugs_map = {\n",
    "            'tobacco' :'Tobacco',\n",
    "            'alcohol' : 'Alcohol',\n",
    "            'cannabinoids' : 'Cannabinoids',\n",
    "            'opioids' : 'Opioids',\n",
    "            'stimulants' : 'Stimulants',\n",
    "            'club_drugs' : 'Club Drugs',\n",
    "            'dissociative_drugs': 'Dissociative Drugs',\n",
    "            'hallucinogens' : 'Hallucinogens',\n",
    "            'other_compounds' : 'Other Compounds',\n",
    "            'prescription_medications' : 'Prescription Medications'\n",
    "}"
   ]
  },
  {
   "cell_type": "markdown",
   "id": "8ec3e34e-5ccb-4395-9203-f95be9699337",
   "metadata": {},
   "source": [
    "## 4. Trend in drug types"
   ]
  },
  {
   "cell_type": "code",
   "execution_count": null,
   "id": "dc12e173-c7c9-4711-939f-202eaf480133",
   "metadata": {},
   "outputs": [],
   "source": [
    "i =1\n",
    "for drug in drug_cols:\n",
    "    period = 'month'\n",
    "    groups, grouped_data = prepare_grouped_data(data, period, ['age', 'gender', 'org', 'sentiment', 'race', 'is_teenage'], drug)\n",
    "    main_title = f'{drugname_map[drug]}: Prevalence of Drug Use Posts by Various Categories from 2019 through 2021'\n",
    "    plot_all_trends(groups, grouped_data, period, main_title, f'{i}_{drug}', drug)\n",
    "    i+=1\n",
    "    # break\n",
    "# grouped_data"
   ]
  },
  {
   "cell_type": "code",
   "execution_count": null,
   "id": "4d897c63-a78f-4d23-b786-a02a5b2d8638",
   "metadata": {},
   "outputs": [],
   "source": [
    "i =1\n",
    "for drug in drug_cols:\n",
    "    period = 'month'\n",
    "    user_data = data.drop_duplicates(subset=['user_id'], keep='first')\n",
    "    groups, grouped_data = prepare_grouped_data(user_data, period, ['age', 'gender', 'org', 'sentiment', 'race', 'is_teenage'], drug, user_ratio=True)\n",
    "    main_title = f'{drugname_map[drug]}: Ratio of Drug Use Posts Per User by Various Categories from 2019 through 2021'\n",
    "    plot_all_trends(groups, grouped_data, period, main_title, f'{i}_{drug}_user', drug)\n",
    "    i+=1\n",
    "    # break\n",
    "# grouped_data"
   ]
  },
  {
   "cell_type": "code",
   "execution_count": null,
   "id": "a90c2c1c-1645-404f-994e-a568ab799a62",
   "metadata": {},
   "outputs": [],
   "source": [
    "def plot_single_plot(data, period, ax, handles, labels, name):\n",
    "    colors = ['red', 'green', 'blue', 'black', 'orange', 'teal', 'pink', 'purple', 'brown', 'gray', 'Magenta']\n",
    "    for i,d in enumerate(drug_cols):\n",
    "        c = colors[i]\n",
    "        sub_data = data[data['drug_type']==d]\n",
    "        _, df = prepare_grouped_data(sub_data, period, ['age', 'gender', 'org', 'sentiment', 'race', 'is_teenage'], d)\n",
    "        line, = ax.plot(df['gender_g'][period].index, df['gender_g']['all'], color= c, label= d)\n",
    "        handles.append(line)\n",
    "        labels.append(d)\n",
    "        \n",
    "    tick_positions = [-1, 3, 7, 11]\n",
    "    tick_labels = ['2019Q1', '2020Q1', '2021Q1', '2022Q1']\n",
    "    if period == 'month' :\n",
    "        tick_positions = [-1, 5, 11, 17, 23, 29, 35]\n",
    "        tick_labels = ['2019-01', '2019-06', '2020-01', '2020-06', '2021-01', '2021-06', '2022-01']\n",
    "    elif period =='week' :\n",
    "        tick_positions = [-1, 25, 50, 75, 100, 125, 150]\n",
    "        tick_labels = ['2019-01', '2019-06', '2020-01', '2020-06', '2021-01', '2021-06', '2022-01']\n",
    "    ax.set_xticks(tick_positions)\n",
    "    ax.set_xticklabels(tick_labels)\n",
    "    ax.set_xlabel('Time', fontsize=12)\n",
    "    ax.set_ylabel(f'Number of {name}s', fontsize=12)\n",
    "    ax.legend(fontsize=6)\n",
    "    ax.grid(False)\n",
    "\n",
    "    start = 60 if period =='week' else 14 \n",
    "    xlim = ax.get_xlim()\n",
    "    ax.axvline(start, color='gray', linestyle='--', linewidth=1.5)"
   ]
  },
  {
   "cell_type": "code",
   "execution_count": null,
   "id": "21370618-4240-4ce4-a208-83580a30363a",
   "metadata": {},
   "outputs": [],
   "source": [
    "def plot_drug_distributions(data, period):\n",
    "    fig, axs = plt.subplots(2, 1, figsize=(10, 9.5))  # Adjust the grid size (3x2) and figure size as needed\n",
    "    axs = axs.flatten()\n",
    "    \n",
    "    user_data = data.drop_duplicates(subset=['user_id'], keep='first')\n",
    "    handles = []\n",
    "    labels = []\n",
    "    for i,d in enumerate([data, user_data]):\n",
    "        name = 'Post' if i ==0 else 'User'\n",
    "        plot_single_plot(d, period, axs[i], handles, labels, name)\n",
    "        axs[i].set_title(f' By {name} ', fontsize=12) \n",
    "\n",
    "    for j in range(2, len(axs)):\n",
    "        fig.delaxes(axs[j])\n",
    "\n",
    "    plt.subplots_adjust(wspace=0.6,hspace=0.4, top=0.90)  \n",
    "    fig.suptitle(\"Distribution by Post and User\", fontsize=16, fontweight='bold')\n",
    "    # fig.legend(handles[:10], labels[:10], loc='center right', bbox_to_anchor=(0.9, 0.4), ncol=1, fontsize=8)\n",
    "    # plt.savefig(period+'_post_user_distribution.png', bbox_inches='tight')\n",
    "    plt.show()\n",
    " "
   ]
  },
  {
   "cell_type": "code",
   "execution_count": null,
   "id": "a13c0957",
   "metadata": {},
   "outputs": [],
   "source": [
    "plot_drug_distributions(data, 'week')"
   ]
  },
  {
   "cell_type": "code",
   "execution_count": 1,
   "id": "79794e6a-fb8c-44e7-956a-649053f563da",
   "metadata": {},
   "outputs": [
    {
     "ename": "NameError",
     "evalue": "name 'data' is not defined",
     "output_type": "error",
     "traceback": [
      "\u001b[0;31m---------------------------------------------------------------------------\u001b[0m",
      "\u001b[0;31mNameError\u001b[0m                                 Traceback (most recent call last)",
      "Cell \u001b[0;32mIn[1], line 3\u001b[0m\n\u001b[1;32m      1\u001b[0m period \u001b[38;5;241m=\u001b[39m \u001b[38;5;124m'\u001b[39m\u001b[38;5;124mmonth\u001b[39m\u001b[38;5;124m'\u001b[39m\n\u001b[1;32m      2\u001b[0m drug \u001b[38;5;241m=\u001b[39m \u001b[38;5;124m'\u001b[39m\u001b[38;5;124malcohol\u001b[39m\u001b[38;5;124m'\u001b[39m\n\u001b[0;32m----> 3\u001b[0m user_data \u001b[38;5;241m=\u001b[39m \u001b[43mdata\u001b[49m\u001b[38;5;241m.\u001b[39mdrop_duplicates(subset\u001b[38;5;241m=\u001b[39m[\u001b[38;5;124m'\u001b[39m\u001b[38;5;124muser_id\u001b[39m\u001b[38;5;124m'\u001b[39m], keep\u001b[38;5;241m=\u001b[39m\u001b[38;5;124m'\u001b[39m\u001b[38;5;124mfirst\u001b[39m\u001b[38;5;124m'\u001b[39m)\n\u001b[1;32m      4\u001b[0m groups, grouped_data \u001b[38;5;241m=\u001b[39m prepare_grouped_data(user_data, period, [\u001b[38;5;124m'\u001b[39m\u001b[38;5;124mage\u001b[39m\u001b[38;5;124m'\u001b[39m, \u001b[38;5;124m'\u001b[39m\u001b[38;5;124mgender\u001b[39m\u001b[38;5;124m'\u001b[39m, \u001b[38;5;124m'\u001b[39m\u001b[38;5;124morg\u001b[39m\u001b[38;5;124m'\u001b[39m, \u001b[38;5;124m'\u001b[39m\u001b[38;5;124msentiment\u001b[39m\u001b[38;5;124m'\u001b[39m, \u001b[38;5;124m'\u001b[39m\u001b[38;5;124mrace\u001b[39m\u001b[38;5;124m'\u001b[39m, \u001b[38;5;124m'\u001b[39m\u001b[38;5;124mis_teenage\u001b[39m\u001b[38;5;124m'\u001b[39m], drug)\n\u001b[1;32m      5\u001b[0m main_title \u001b[38;5;241m=\u001b[39m \u001b[38;5;124mf\u001b[39m\u001b[38;5;124m'\u001b[39m\u001b[38;5;132;01m{\u001b[39;00mdrugname_map[drug]\u001b[38;5;132;01m}\u001b[39;00m\u001b[38;5;124m: Prevalence of Drug Users by Various Categories from 2019 through 2021\u001b[39m\u001b[38;5;124m'\u001b[39m\n",
      "\u001b[0;31mNameError\u001b[0m: name 'data' is not defined"
     ]
    }
   ],
   "source": [
    "period = 'month'\n",
    "drug = 'alcohol'\n",
    "user_data = data.drop_duplicates(subset=['user_id'], keep='first')\n",
    "groups, grouped_data = prepare_grouped_data(user_data, period, ['age', 'gender', 'org', 'sentiment', 'race', 'is_teenage'], drug)\n",
    "main_title = f'{drugname_map[drug]}: Prevalence of Drug Users by Various Categories from 2019 through 2021'\n",
    "plot_all_trends(groups, grouped_data, period, main_title, f'{i}_{drug}_user', drug)\n",
    "i+=1\n",
    "# break\n",
    "# grouped_data"
   ]
  },
  {
   "cell_type": "code",
   "execution_count": null,
   "id": "938486b9-7026-4663-97ea-84d36e41327f",
   "metadata": {},
   "outputs": [],
   "source": []
  }
 ],
 "metadata": {
  "kernelspec": {
   "display_name": "gpu2",
   "language": "python",
   "name": "gpu2"
  },
  "language_info": {
   "codemirror_mode": {
    "name": "ipython",
    "version": 3
   },
   "file_extension": ".py",
   "mimetype": "text/x-python",
   "name": "python",
   "nbconvert_exporter": "python",
   "pygments_lexer": "ipython3",
   "version": "3.10.14"
  }
 },
 "nbformat": 4,
 "nbformat_minor": 5
}
