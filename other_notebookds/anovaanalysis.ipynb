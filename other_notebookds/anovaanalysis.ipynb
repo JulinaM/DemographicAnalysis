{
 "cells": [
  {
   "cell_type": "code",
   "execution_count": 32,
   "id": "9abaa34c-5200-4c4b-bace-be89b77614ea",
   "metadata": {},
   "outputs": [],
   "source": [
    "import pandas as pd\n",
    "import numpy as np\n",
    "import pandas as pd\n",
    "import matplotlib.pyplot as plt\n",
    "from matplotlib import rc\n",
    "import re,os\n",
    "import glob, traceback\n",
    "import seaborn as sns\n",
    "from sklearn.feature_extraction.text import TfidfVectorizer\n",
    "from sklearn.decomposition import LatentDirichletAllocation"
   ]
  },
  {
   "cell_type": "code",
   "execution_count": 33,
   "id": "1fbe5fe1-37e6-4516-a8c7-34eb5d7f5c28",
   "metadata": {},
   "outputs": [],
   "source": [
    "# !nvidia-smi"
   ]
  },
  {
   "cell_type": "markdown",
   "id": "bc894643-a3f2-4a38-85fc-028feb893bc3",
   "metadata": {},
   "source": [
    "## 0. Read all csv files"
   ]
  },
  {
   "cell_type": "code",
   "execution_count": 2,
   "id": "d0d0404d-bdd2-4dc3-9148-e04dabea5ef4",
   "metadata": {},
   "outputs": [
    {
     "data": {
      "text/plain": [
       "(3502171, 19)"
      ]
     },
     "execution_count": 2,
     "metadata": {},
     "output_type": "execute_result"
    }
   ],
   "source": [
    "dff = pd.read_csv('/data2/julina/scripts/tweets/cleaned_data_by_year/2020_emo.csv')\n",
    "dff.shape"
   ]
  },
  {
   "cell_type": "code",
   "execution_count": 34,
   "id": "5897b170-d403-46a1-9318-d10716a8b4d2",
   "metadata": {},
   "outputs": [
    {
     "data": {
      "text/plain": [
       "(2147729, 19)"
      ]
     },
     "execution_count": 34,
     "metadata": {},
     "output_type": "execute_result"
    }
   ],
   "source": [
    "dff.drop_duplicates(subset=['text', 'date'], inplace=True)\n",
    "dff.shape"
   ]
  },
  {
   "cell_type": "code",
   "execution_count": 4,
   "id": "6eca5e94-59c7-45f6-9a52-ca44a21e4396",
   "metadata": {},
   "outputs": [],
   "source": [
    "# dff= dff[:10000]"
   ]
  },
  {
   "cell_type": "code",
   "execution_count": 5,
   "id": "7b0b5e36-c28f-4a55-bc8b-9c8a900936ef",
   "metadata": {},
   "outputs": [],
   "source": [
    "dff = dff.loc[:, ~dff.columns.str.match('Unnamed')]"
   ]
  },
  {
   "cell_type": "code",
   "execution_count": 6,
   "id": "761e6d44-0889-4786-a9af-36df5503966b",
   "metadata": {},
   "outputs": [
    {
     "data": {
      "text/html": [
       "<div>\n",
       "<style scoped>\n",
       "    .dataframe tbody tr th:only-of-type {\n",
       "        vertical-align: middle;\n",
       "    }\n",
       "\n",
       "    .dataframe tbody tr th {\n",
       "        vertical-align: top;\n",
       "    }\n",
       "\n",
       "    .dataframe thead th {\n",
       "        text-align: right;\n",
       "    }\n",
       "</style>\n",
       "<table border=\"1\" class=\"dataframe\">\n",
       "  <thead>\n",
       "    <tr style=\"text-align: right;\">\n",
       "      <th></th>\n",
       "      <th>id</th>\n",
       "      <th>created_at</th>\n",
       "      <th>text</th>\n",
       "      <th>user_id</th>\n",
       "      <th>name</th>\n",
       "      <th>screen_name</th>\n",
       "      <th>description</th>\n",
       "      <th>DrugAbuse</th>\n",
       "      <th>lang</th>\n",
       "      <th>gender</th>\n",
       "      <th>age</th>\n",
       "      <th>org</th>\n",
       "      <th>sentiment</th>\n",
       "      <th>sent_score</th>\n",
       "      <th>date</th>\n",
       "      <th>is_teenage</th>\n",
       "      <th>drug_type</th>\n",
       "      <th>emotion</th>\n",
       "    </tr>\n",
       "  </thead>\n",
       "  <tbody>\n",
       "    <tr>\n",
       "      <th>1263938</th>\n",
       "      <td>1256422838900326401</td>\n",
       "      <td>Sat May 02 03:18:42 +0000 2020</td>\n",
       "      <td>USER border interceptor border patrol seize ne...</td>\n",
       "      <td>2165719802</td>\n",
       "      <td>CHRIS PEAK</td>\n",
       "      <td>cpskins44</td>\n",
       "      <td>BIG WASHINGTON REDSKINS and LOUISVILLE CARDINA...</td>\n",
       "      <td>1</td>\n",
       "      <td>en</td>\n",
       "      <td>male</td>\n",
       "      <td>&gt;=40</td>\n",
       "      <td>non-org</td>\n",
       "      <td>pos</td>\n",
       "      <td>0.4404</td>\n",
       "      <td>2020-05-01</td>\n",
       "      <td>0</td>\n",
       "      <td>['stimulants']</td>\n",
       "      <td>['anger', 'disgust']</td>\n",
       "    </tr>\n",
       "    <tr>\n",
       "      <th>107738</th>\n",
       "      <td>1221395220530679808</td>\n",
       "      <td>Sun Jan 26 11:31:27 +0000 2020</td>\n",
       "      <td>USER legs high HTTPURL</td>\n",
       "      <td>1205336912111833088</td>\n",
       "      <td>chico87</td>\n",
       "      <td>chico0287</td>\n",
       "      <td>Pasarla bien</td>\n",
       "      <td>1</td>\n",
       "      <td>en</td>\n",
       "      <td>male</td>\n",
       "      <td>30-39</td>\n",
       "      <td>is-org</td>\n",
       "      <td>neu</td>\n",
       "      <td>0.0000</td>\n",
       "      <td>2020-01-01</td>\n",
       "      <td>0</td>\n",
       "      <td>[]</td>\n",
       "      <td>[]</td>\n",
       "    </tr>\n",
       "  </tbody>\n",
       "</table>\n",
       "</div>"
      ],
      "text/plain": [
       "                          id                      created_at  \\\n",
       "1263938  1256422838900326401  Sat May 02 03:18:42 +0000 2020   \n",
       "107738   1221395220530679808  Sun Jan 26 11:31:27 +0000 2020   \n",
       "\n",
       "                                                      text  \\\n",
       "1263938  USER border interceptor border patrol seize ne...   \n",
       "107738                              USER legs high HTTPURL   \n",
       "\n",
       "                     user_id        name screen_name  \\\n",
       "1263938           2165719802  CHRIS PEAK   cpskins44   \n",
       "107738   1205336912111833088     chico87   chico0287   \n",
       "\n",
       "                                               description  DrugAbuse lang  \\\n",
       "1263938  BIG WASHINGTON REDSKINS and LOUISVILLE CARDINA...          1   en   \n",
       "107738                                        Pasarla bien          1   en   \n",
       "\n",
       "        gender    age      org sentiment  sent_score        date  is_teenage  \\\n",
       "1263938   male   >=40  non-org       pos      0.4404  2020-05-01           0   \n",
       "107738    male  30-39   is-org       neu      0.0000  2020-01-01           0   \n",
       "\n",
       "              drug_type               emotion  \n",
       "1263938  ['stimulants']  ['anger', 'disgust']  \n",
       "107738               []                    []  "
      ]
     },
     "execution_count": 6,
     "metadata": {},
     "output_type": "execute_result"
    }
   ],
   "source": [
    "dff.sample(2)"
   ]
  },
  {
   "cell_type": "code",
   "execution_count": 7,
   "id": "a5b9246c-da9e-442f-9f63-edae30d47c62",
   "metadata": {},
   "outputs": [
    {
     "data": {
      "text/plain": [
       "(2147729, 18)"
      ]
     },
     "execution_count": 7,
     "metadata": {},
     "output_type": "execute_result"
    }
   ],
   "source": [
    "dff.shape"
   ]
  },
  {
   "cell_type": "code",
   "execution_count": 11,
   "id": "e3d844a4-0ed7-49b0-8898-5e41a6fe3fd3",
   "metadata": {},
   "outputs": [],
   "source": [
    "df = dff[:100]"
   ]
  },
  {
   "cell_type": "code",
   "execution_count": 34,
   "id": "06f4d459-a558-4183-9b56-1274f73b77ec",
   "metadata": {},
   "outputs": [
    {
     "name": "stdout",
     "output_type": "stream",
     "text": [
      "One-way ANOVA - Gender: F-statistic: 2.44462978868458, P-value: 0.12115127441946298\n"
     ]
    }
   ],
   "source": [
    "import scipy.stats as stats\n",
    "\n",
    "# Prepare data for one-way ANOVA\n",
    "anova_data = [df[df['org'] == group]['sent_score'] for group in df['org'].unique()]\n",
    "\n",
    "# Perform one-way ANOVA\n",
    "f_statistic, p_value = stats.f_oneway(*anova_data)\n",
    "\n",
    "print(f\"One-way ANOVA - Gender: F-statistic: {f_statistic}, P-value: {p_value}\")"
   ]
  },
  {
   "cell_type": "code",
   "execution_count": 35,
   "id": "e64c3784-1337-4a1a-8f84-0e96279d27c4",
   "metadata": {},
   "outputs": [
    {
     "data": {
      "text/plain": [
       "[0      0.0000\n",
       " 1      0.0000\n",
       " 2     -0.3400\n",
       " 3      0.2263\n",
       " 5      0.0000\n",
       "         ...  \n",
       " 122    0.0000\n",
       " 124    0.3182\n",
       " 125    0.0000\n",
       " 126   -0.6486\n",
       " 127    0.0000\n",
       " Name: sent_score, Length: 93, dtype: float64,\n",
       " 4      0.0000\n",
       " 14     0.2732\n",
       " 26     0.0000\n",
       " 62     0.7003\n",
       " 67     0.0000\n",
       " 96     0.0000\n",
       " 114    0.0000\n",
       " Name: sent_score, dtype: float64]"
      ]
     },
     "execution_count": 35,
     "metadata": {},
     "output_type": "execute_result"
    }
   ],
   "source": [
    "anova_data"
   ]
  },
  {
   "cell_type": "code",
   "execution_count": 32,
   "id": "c39303be-1d58-46af-82b9-cdbc67cc70da",
   "metadata": {},
   "outputs": [
    {
     "name": "stdout",
     "output_type": "stream",
     "text": [
      "One-way ANOVA - Age Group: F-statistic: nan, P-value: nan\n"
     ]
    }
   ],
   "source": [
    "f_statistic, p_value = stats.f_oneway(*anova_data)\n",
    "print(f\"One-way ANOVA - Age Group: F-statistic: {f_statistic}, P-value: {p_value}\")"
   ]
  },
  {
   "cell_type": "code",
   "execution_count": 57,
   "id": "d87e116b-f654-4cd6-8398-698e8a58e87c",
   "metadata": {},
   "outputs": [
    {
     "name": "stdout",
     "output_type": "stream",
     "text": [
      "[457546] [734455] [467816] [487912]\n"
     ]
    }
   ],
   "source": [
    "# Create samples for each theme\n",
    "# sample_size = 100  # Define a sample size\n",
    "samples = {age: dff[dff['age'] == age] for age in  dff['age'].unique()}\n",
    "\n",
    "# Extract counts\n",
    "sample_counts = {age: sample.groupby('DrugAbuse').size() for age, sample in samples.items()}\n",
    "\n",
    "# Convert to a list of lists for ANOVA\n",
    "anova_data = [list(counts) for counts in sample_counts.values()]\n",
    "\n",
    "print(*anova_data)\n"
   ]
  },
  {
   "cell_type": "code",
   "execution_count": 58,
   "id": "3e6d149e-d6d3-4e82-ac2a-b10f0809ed53",
   "metadata": {},
   "outputs": [
    {
     "name": "stdout",
     "output_type": "stream",
     "text": [
      "F-statistic: nan\n",
      "P-value: nan\n"
     ]
    },
    {
     "name": "stderr",
     "output_type": "stream",
     "text": [
      "/home/jmaharja/anaconda3/envs/gpu2/lib/python3.10/site-packages/scipy/stats/_stats_py.py:4102: DegenerateDataWarning: all input arrays have length 1.  f_oneway requires that at least one input has length greater than 1.\n",
      "  if _f_oneway_is_too_small(samples):\n"
     ]
    }
   ],
   "source": [
    "import numpy as np\n",
    "import scipy.stats as stats\n",
    "\n",
    "# Prepare data for ANOVA\n",
    "values = anova_data\n",
    "\n",
    "# Perform ANOVA\n",
    "f_statistic, p_value = stats.f_oneway(*values)\n",
    "\n",
    "print(f\"F-statistic: {f_statistic}\")\n",
    "print(f\"P-value: {p_value}\")\n"
   ]
  },
  {
   "cell_type": "markdown",
   "id": "17a98e75-913e-4861-9d0e-4b6ff60d714c",
   "metadata": {},
   "source": [
    "## 1. Stats "
   ]
  },
  {
   "cell_type": "code",
   "execution_count": 35,
   "id": "8e8c08e1-004e-43c3-b0ce-8a070931623e",
   "metadata": {},
   "outputs": [],
   "source": [
    "is_org = dff[dff['org'] =='is-org']\n",
    "non_org = dff[dff['org'] !='is-org']"
   ]
  },
  {
   "cell_type": "code",
   "execution_count": 36,
   "id": "b3453b9b-7be5-479a-9bda-1f401addc766",
   "metadata": {},
   "outputs": [
    {
     "data": {
      "text/plain": [
       "2147729"
      ]
     },
     "execution_count": 36,
     "metadata": {},
     "output_type": "execute_result"
    }
   ],
   "source": [
    "total = dff.shape[0]\n",
    "total"
   ]
  },
  {
   "cell_type": "code",
   "execution_count": 37,
   "id": "340b4728-f221-49da-a278-77bd52f43b35",
   "metadata": {},
   "outputs": [
    {
     "name": "stdout",
     "output_type": "stream",
     "text": [
      "Total Drug Abuse Identified tweets in 2020 = 2147729\n",
      "Org = 221815 (10.33%)\n",
      "Non Org = 1925914 (89.67%)\n"
     ]
    }
   ],
   "source": [
    "total_tweets = dff.shape[0]\n",
    "count_is_org = is_org.shape[0]\n",
    "count_non_org = non_org.shape[0]\n",
    "\n",
    "# Calculating percentages\n",
    "percent_is_org = (count_is_org / total_tweets) * 100\n",
    "percent_non_org = (count_non_org / total_tweets) * 100\n",
    "\n",
    "# Printing the results\n",
    "print(f\"Total Drug Abuse Identified tweets in 2020 = {total_tweets}\")\n",
    "print(f\"Org = {count_is_org} ({percent_is_org:.2f}%)\")\n",
    "print(f\"Non Org = {count_non_org} ({percent_non_org:.2f}%)\")"
   ]
  },
  {
   "cell_type": "code",
   "execution_count": 38,
   "id": "8c354827-02b4-4b7b-b6d9-5334f7705b0e",
   "metadata": {},
   "outputs": [
    {
     "name": "stdout",
     "output_type": "stream",
     "text": [
      "Total Drug Abuse Identified tweets by non-org users in 2020 = 2147729\n",
      "Female = 865271 (40.29%)\n",
      "Male = 1060643 (49.38%)\n"
     ]
    }
   ],
   "source": [
    "total_user_tweets = total_tweets # non_org.shape[0]\n",
    "total_female_tweets = non_org[(non_org['gender'] == 'female')].shape[0]\n",
    "total_male_tweets = non_org[(non_org['gender'] == 'male')].shape[0]\n",
    "percent_female = (total_female_tweets / total_user_tweets) * 100\n",
    "percent_male = (total_male_tweets / total_user_tweets) * 100\n",
    "\n",
    "# Printing the results\n",
    "print(f\"Total Drug Abuse Identified tweets by non-org users in 2020 = {total_user_tweets}\")\n",
    "print(f\"Female = {total_female_tweets} ({percent_female:.2f}%)\")\n",
    "print(f\"Male = {total_male_tweets} ({percent_male:.2f}%)\")"
   ]
  },
  {
   "cell_type": "code",
   "execution_count": 39,
   "id": "bfd40bc0-6240-42c9-a295-cd6de0750711",
   "metadata": {},
   "outputs": [
    {
     "name": "stdout",
     "output_type": "stream",
     "text": [
      "Total Drug Abuse Identified tweets by non-org users in 2020 = 2147729\n",
      "Teenage = 706511 (32.90%)\n",
      "Adult = 1219403 (56.78%)\n"
     ]
    }
   ],
   "source": [
    "total_users_tweets = total_tweets #non_org.shape[0]\n",
    "total_teenagers_tweets = non_org[(non_org['is_teenage'] == 1)].shape[0]\n",
    "total_adult_tweets = non_org[(non_org['is_teenage'] != 1)].shape[0]\n",
    "percent_teenage = (total_teenagers_tweets / total_user_tweets) * 100\n",
    "percent_adult = (total_adult_tweets / total_user_tweets) * 100\n",
    "\n",
    "# Printing the results\n",
    "print(f\"Total Drug Abuse Identified tweets by non-org users in 2020 = {total_user_tweets}\")\n",
    "print(f\"Teenage = {total_teenagers_tweets} ({percent_teenage:.2f}%)\")\n",
    "print(f\"Adult = {total_adult_tweets} ({percent_adult:.2f}%)\")"
   ]
  },
  {
   "cell_type": "code",
   "execution_count": 40,
   "id": "37e0517b-e0b0-4363-9f6f-a58372c4d5e0",
   "metadata": {},
   "outputs": [
    {
     "name": "stdout",
     "output_type": "stream",
     "text": [
      "Teenage and Female = 377487 (17.58%)\n",
      "Teenage and Male = 329024 (15.32%)\n",
      "Adult and Female = 487784 (22.71%)\n",
      "Adult and Male = 731619 (34.06%)\n"
     ]
    }
   ],
   "source": [
    "tf= non_org[(non_org['is_teenage'] == 1) & (non_org['gender'] == 'female')].shape[0]\n",
    "tm= non_org[(non_org['is_teenage'] == 1) & (non_org['gender'] == 'male')].shape[0]\n",
    "af= non_org[(non_org['is_teenage'] != 1) & (non_org['gender'] == 'female')].shape[0]\n",
    "am= non_org[(non_org['is_teenage'] != 1) & (non_org['gender'] == 'male')].shape[0]\n",
    "percent_tf = (tf / total_user_tweets) * 100\n",
    "percent_tm = (tm / total_user_tweets) * 100\n",
    "percent_af = (af / total_user_tweets) * 100\n",
    "percent_am = (am / total_user_tweets) * 100\n",
    "\n",
    "print(f\"Teenage and Female = {tf} ({percent_tf:.2f}%)\")\n",
    "print(f\"Teenage and Male = {tm} ({percent_tm:.2f}%)\")\n",
    "print(f\"Adult and Female = {af} ({percent_af:.2f}%)\")\n",
    "print(f\"Adult and Male = {am} ({percent_am:.2f}%)\")"
   ]
  },
  {
   "cell_type": "code",
   "execution_count": 41,
   "id": "7a3445e4-7163-46d6-b179-690cabd3b4df",
   "metadata": {},
   "outputs": [
    {
     "data": {
      "text/html": [
       "<div>\n",
       "<style scoped>\n",
       "    .dataframe tbody tr th:only-of-type {\n",
       "        vertical-align: middle;\n",
       "    }\n",
       "\n",
       "    .dataframe tbody tr th {\n",
       "        vertical-align: top;\n",
       "    }\n",
       "\n",
       "    .dataframe thead th {\n",
       "        text-align: right;\n",
       "    }\n",
       "</style>\n",
       "<table border=\"1\" class=\"dataframe\">\n",
       "  <thead>\n",
       "    <tr style=\"text-align: right;\">\n",
       "      <th></th>\n",
       "      <th>id</th>\n",
       "      <th>created_at</th>\n",
       "      <th>text</th>\n",
       "      <th>user_id</th>\n",
       "      <th>name</th>\n",
       "      <th>screen_name</th>\n",
       "      <th>description</th>\n",
       "      <th>DrugAbuse</th>\n",
       "      <th>lang</th>\n",
       "      <th>gender</th>\n",
       "      <th>age</th>\n",
       "      <th>org</th>\n",
       "      <th>sentiment</th>\n",
       "      <th>sent_score</th>\n",
       "      <th>date</th>\n",
       "      <th>is_teenage</th>\n",
       "      <th>drug_type</th>\n",
       "      <th>emotion</th>\n",
       "      <th>cleaned_text</th>\n",
       "    </tr>\n",
       "  </thead>\n",
       "  <tbody>\n",
       "    <tr>\n",
       "      <th>1237250</th>\n",
       "      <td>1257045915371782145</td>\n",
       "      <td>Sun May 03 20:34:35 +0000 2020</td>\n",
       "      <td>woke bestfriend beer bong white claw say bestf...</td>\n",
       "      <td>498418839</td>\n",
       "      <td>o l i v i a 🥺</td>\n",
       "      <td>icedteajc</td>\n",
       "      <td>one of a kind 🦋</td>\n",
       "      <td>1</td>\n",
       "      <td>en</td>\n",
       "      <td>female</td>\n",
       "      <td>&lt;=18</td>\n",
       "      <td>non-org</td>\n",
       "      <td>pos</td>\n",
       "      <td>0.2732</td>\n",
       "      <td>2020-05-01</td>\n",
       "      <td>1</td>\n",
       "      <td>['alcohol']</td>\n",
       "      <td>['joy', 'optimism']</td>\n",
       "      <td>woke bestfriend beer bong white claw say bestf...</td>\n",
       "    </tr>\n",
       "  </tbody>\n",
       "</table>\n",
       "</div>"
      ],
      "text/plain": [
       "                          id                      created_at  \\\n",
       "1237250  1257045915371782145  Sun May 03 20:34:35 +0000 2020   \n",
       "\n",
       "                                                      text    user_id  \\\n",
       "1237250  woke bestfriend beer bong white claw say bestf...  498418839   \n",
       "\n",
       "                  name screen_name      description  DrugAbuse lang  gender  \\\n",
       "1237250  o l i v i a 🥺   icedteajc  one of a kind 🦋          1   en  female   \n",
       "\n",
       "          age      org sentiment  sent_score        date  is_teenage  \\\n",
       "1237250  <=18  non-org       pos      0.2732  2020-05-01           1   \n",
       "\n",
       "           drug_type              emotion  \\\n",
       "1237250  ['alcohol']  ['joy', 'optimism']   \n",
       "\n",
       "                                              cleaned_text  \n",
       "1237250  woke bestfriend beer bong white claw say bestf...  "
      ]
     },
     "execution_count": 41,
     "metadata": {},
     "output_type": "execute_result"
    }
   ],
   "source": [
    "dff.sample(1)"
   ]
  },
  {
   "cell_type": "markdown",
   "id": "eb9854e9-255b-4859-9399-1fcfac55b412",
   "metadata": {},
   "source": [
    "## 1.1 By Sentiment"
   ]
  },
  {
   "cell_type": "code",
   "execution_count": 42,
   "id": "cb292fa0-8c10-4d23-bb26-20edd380a941",
   "metadata": {},
   "outputs": [
    {
     "name": "stdout",
     "output_type": "stream",
     "text": [
      "Total Drug Abuse Identified tweets by non-org users in 2020 = 2147729\n",
      "Neu = 691110 (32.18%)\n",
      "Pos = 578192 (26.92%)\n",
      "Neg = 656612 (30.57%)\n"
     ]
    }
   ],
   "source": [
    "total_users_tweets = total_tweets #non_org.shape[0]\n",
    "total_neu_tweets = non_org[(non_org['sentiment'] == 'neu')].shape[0]\n",
    "total_pos_tweets = non_org[(non_org['sentiment'] == 'pos')].shape[0]\n",
    "total_neg_tweets = non_org[(non_org['sentiment'] == 'neg')].shape[0]\n",
    "percent_neu = (total_neu_tweets / total_user_tweets) * 100\n",
    "percent_pos = (total_pos_tweets / total_user_tweets) * 100\n",
    "percent_neg = (total_neg_tweets / total_user_tweets) * 100\n",
    "\n",
    "# Printing the results\n",
    "print(f\"Total Drug Abuse Identified tweets by non-org users in 2020 = {total_user_tweets}\")\n",
    "print(f\"Neu = {total_neu_tweets} ({percent_neu:.2f}%)\")\n",
    "print(f\"Pos = {total_pos_tweets} ({percent_pos:.2f}%)\")\n",
    "print(f\"Neg = {total_neg_tweets} ({percent_neg:.2f}%)\")"
   ]
  },
  {
   "cell_type": "code",
   "execution_count": 53,
   "id": "30a07002-7554-41ba-9ed6-4a9b86dc957f",
   "metadata": {},
   "outputs": [
    {
     "data": {
      "text/plain": [
       "(2147729, 19)"
      ]
     },
     "execution_count": 53,
     "metadata": {},
     "output_type": "execute_result"
    }
   ],
   "source": [
    "dff.shape"
   ]
  },
  {
   "cell_type": "code",
   "execution_count": 54,
   "id": "9b618e24-6c78-4696-804f-f63a7607e468",
   "metadata": {},
   "outputs": [
    {
     "ename": "NameError",
     "evalue": "name 'org' is not defined",
     "output_type": "error",
     "traceback": [
      "\u001b[0;31m---------------------------------------------------------------------------\u001b[0m",
      "\u001b[0;31mNameError\u001b[0m                                 Traceback (most recent call last)",
      "Cell \u001b[0;32mIn[54], line 1\u001b[0m\n\u001b[0;32m----> 1\u001b[0m \u001b[43morg\u001b[49m\u001b[38;5;241m.\u001b[39mshape\n",
      "\u001b[0;31mNameError\u001b[0m: name 'org' is not defined"
     ]
    }
   ],
   "source": [
    "org.shape"
   ]
  },
  {
   "cell_type": "code",
   "execution_count": 52,
   "id": "81118a6e-918b-4eaa-838d-1595ca68eca1",
   "metadata": {},
   "outputs": [
    {
     "data": {
      "text/plain": [
       "(1925914, 19)"
      ]
     },
     "execution_count": 52,
     "metadata": {},
     "output_type": "execute_result"
    }
   ],
   "source": [
    "non_org.shape"
   ]
  },
  {
   "cell_type": "code",
   "execution_count": 43,
   "id": "b2940ae5-b0e5-4bed-937e-98abd591c1f3",
   "metadata": {},
   "outputs": [],
   "source": [
    "teenage = non_org[(non_org['is_teenage'] == 1)]\n",
    "adult = non_org[(non_org['is_teenage'] != 1)]"
   ]
  },
  {
   "cell_type": "code",
   "execution_count": 51,
   "id": "8718acc2-17ac-475b-bd0f-6a887e837b3d",
   "metadata": {},
   "outputs": [
    {
     "data": {
      "text/plain": [
       "(224945, 19)"
      ]
     },
     "execution_count": 51,
     "metadata": {},
     "output_type": "execute_result"
    }
   ],
   "source": [
    "teenage = teenage[teenage['drug_type'] != '[]']\n",
    "teenage.shape"
   ]
  },
  {
   "cell_type": "markdown",
   "id": "469dc23b-17f5-4fef-ba88-3325e5930dec",
   "metadata": {},
   "source": [
    "## 2. Analysis User demographics"
   ]
  },
  {
   "cell_type": "code",
   "execution_count": 14,
   "id": "b2ac8709-810d-4d6c-a3c0-ce734c4b1c24",
   "metadata": {},
   "outputs": [
    {
     "data": {
      "text/plain": [
       "915"
      ]
     },
     "execution_count": 14,
     "metadata": {},
     "output_type": "execute_result"
    }
   ],
   "source": [
    "non_org['user_id'].nunique()"
   ]
  },
  {
   "cell_type": "code",
   "execution_count": 15,
   "id": "1b2a1df8-9088-4348-8173-9da140bba5c3",
   "metadata": {},
   "outputs": [
    {
     "data": {
      "text/plain": [
       "(915, 17)"
      ]
     },
     "execution_count": 15,
     "metadata": {},
     "output_type": "execute_result"
    }
   ],
   "source": [
    "udf = non_org.drop_duplicates(subset=['user_id'], keep='first')\n",
    "udf.shape"
   ]
  },
  {
   "cell_type": "code",
   "execution_count": 17,
   "id": "72751675-6ea5-455c-89f7-87be8f9a4050",
   "metadata": {},
   "outputs": [
    {
     "name": "stdout",
     "output_type": "stream",
     "text": [
      "Cohort I: Teenage and Female = 241 (26.34%)\n",
      "Cohort II: Teenage and Male = 137 (14.97%)\n",
      "Cohort III: Adult and Female = 256 (27.98%)\n",
      "Cohort IV: Adult and Male = 281 (30.71%)\n"
     ]
    }
   ],
   "source": [
    "total_users = udf.shape[0]\n",
    "tf= udf[(udf['is_teenage'] == 1) & (udf['gender'] == 'female')].shape[0]\n",
    "tm= udf[(udf['is_teenage'] == 1) & (udf['gender'] == 'male')].shape[0]\n",
    "af= udf[(udf['is_teenage'] != 1) & (udf['gender'] == 'female')].shape[0]\n",
    "am= udf[(udf['is_teenage'] != 1) & (udf['gender'] == 'male')].shape[0]\n",
    "percent_tf = (tf / total_users) * 100\n",
    "percent_tm = (tm / total_users) * 100\n",
    "percent_af = (af / total_users) * 100\n",
    "percent_am = (am / total_users) * 100\n",
    "\n",
    "print(f\"Cohort I: Teenage and Female = {tf} ({percent_tf:.2f}%)\")\n",
    "print(f\"Cohort II: Teenage and Male = {tm} ({percent_tm:.2f}%)\")\n",
    "print(f\"Cohort III: Adult and Female = {af} ({percent_af:.2f}%)\")\n",
    "print(f\"Cohort IV: Adult and Male = {am} ({percent_am:.2f}%)\")"
   ]
  },
  {
   "cell_type": "markdown",
   "id": "8fa2a83b-a332-4995-ae2a-e627837b00c1",
   "metadata": {},
   "source": [
    "## Now Analysis of Tweets by Drug type in each cohort."
   ]
  },
  {
   "cell_type": "code",
   "execution_count": 18,
   "id": "0068d3b5-865e-4e4c-ac9a-082d388a2e5a",
   "metadata": {},
   "outputs": [
    {
     "data": {
      "text/plain": [
       "((241, 17), (137, 17), (256, 17), (281, 17))"
      ]
     },
     "execution_count": 18,
     "metadata": {},
     "output_type": "execute_result"
    }
   ],
   "source": [
    "tf_df = non_org[(non_org['is_teenage'] == 1) & (non_org['gender'] == 'female')]\n",
    "tm_df = non_org[(non_org['is_teenage'] == 1) & (non_org['gender'] == 'male')]\n",
    "af_df = non_org[(non_org['is_teenage'] != 1) & (non_org['gender'] == 'female')]\n",
    "am_df = non_org[(non_org['is_teenage'] != 1) & (non_org['gender'] == 'male')]\n",
    "tf_df.shape, tm_df.shape, af_df.shape, am_df.shape"
   ]
  },
  {
   "cell_type": "code",
   "execution_count": 19,
   "id": "25bcfc97-66f8-48f1-8bdb-038a096ddbad",
   "metadata": {},
   "outputs": [],
   "source": [
    "# print(f'Teenager:: \\n Total tweets by Female: { tf_df.shape[0]} \\n', tf_df['drug_type'].value_counts(), f'Total tweets by Male: { tm_df.shape[0]} \\n', tm_df['drug_type'].value_counts())\n",
    "# print(f'\\n Adult:: \\n Total tweets by Female: { af_df.shape[0]} \\n', af_df['drug_type'].value_counts(), f'Total tweets by Male: { am_df.shape[0]} \\n', am_df['drug_type'].value_counts())"
   ]
  },
  {
   "cell_type": "markdown",
   "id": "557b7eda-498b-42d0-be4a-4101ce953909",
   "metadata": {},
   "source": [
    "## LDA"
   ]
  },
  {
   "cell_type": "code",
   "execution_count": 21,
   "id": "ae4f4c51-570f-4ac1-a25d-81fad770e171",
   "metadata": {},
   "outputs": [],
   "source": [
    "# tf_df.shape\n",
    "vectorizer = TfidfVectorizer(analyzer='word', ngram_range=(1, 3), max_df=0.75, min_df=0.001, use_idf=True)\n",
    "posts_tfidf_bowdff = vectorizer.fit_transform(dff['cleaned_text'].values.astype('U'))"
   ]
  },
  {
   "cell_type": "code",
   "execution_count": 22,
   "id": "614a9eb5-a49d-40c7-bdf3-452b2c4b44e2",
   "metadata": {},
   "outputs": [],
   "source": [
    "lda_model = LatentDirichletAllocation(n_components=10,learning_method='online',random_state=42,max_iter=1) \n",
    "lda_top = lda_model.fit_transform(posts_tfidf_bowdff)"
   ]
  },
  {
   "cell_type": "code",
   "execution_count": null,
   "id": "ecc2f049-4e4e-4c3a-b47e-8ac8c3721382",
   "metadata": {},
   "outputs": [],
   "source": [
    "# vocab = vectorizer.get_feature_names()\n",
    "vocab = vectorizer.get_feature_names_out()\n",
    "for i, comp in enumerate(lda_model.components_):\n",
    "     vocab_comp = zip(vocab, comp)\n",
    "     sorted_words = sorted(vocab_comp, key= lambda x:x[1], reverse=True)[:20]\n",
    "     print(\"Topic \"+str(i)+\": \")\n",
    "     # print(sorted_words)\n",
    "     for t in sorted_words:\n",
    "        print(t[0], end=\" \")\n",
    "     print('\\n')"
   ]
  },
  {
   "cell_type": "markdown",
   "id": "4dec2f74-def2-4a15-80ef-d11b69277920",
   "metadata": {},
   "source": [
    "## BERT Topic"
   ]
  },
  {
   "cell_type": "code",
   "execution_count": 8,
   "id": "a979208c-0410-4ee7-9c45-66632cbf92b4",
   "metadata": {},
   "outputs": [
    {
     "name": "stderr",
     "output_type": "stream",
     "text": [
      "/home/jmaharja/anaconda3/envs/gpu2/lib/python3.10/site-packages/umap/distances.py:1063: NumbaDeprecationWarning: The 'nopython' keyword argument was not supplied to the 'numba.jit' decorator. The implicit default value for this argument is currently False, but it will be changed to True in Numba 0.59.0. See https://numba.readthedocs.io/en/stable/reference/deprecation.html#deprecation-of-object-mode-fall-back-behaviour-when-using-jit for details.\n",
      "  @numba.jit()\n",
      "/home/jmaharja/anaconda3/envs/gpu2/lib/python3.10/site-packages/umap/distances.py:1071: NumbaDeprecationWarning: The 'nopython' keyword argument was not supplied to the 'numba.jit' decorator. The implicit default value for this argument is currently False, but it will be changed to True in Numba 0.59.0. See https://numba.readthedocs.io/en/stable/reference/deprecation.html#deprecation-of-object-mode-fall-back-behaviour-when-using-jit for details.\n",
      "  @numba.jit()\n",
      "/home/jmaharja/anaconda3/envs/gpu2/lib/python3.10/site-packages/umap/distances.py:1086: NumbaDeprecationWarning: The 'nopython' keyword argument was not supplied to the 'numba.jit' decorator. The implicit default value for this argument is currently False, but it will be changed to True in Numba 0.59.0. See https://numba.readthedocs.io/en/stable/reference/deprecation.html#deprecation-of-object-mode-fall-back-behaviour-when-using-jit for details.\n",
      "  @numba.jit()\n",
      "/home/jmaharja/anaconda3/envs/gpu2/lib/python3.10/site-packages/tqdm/auto.py:21: TqdmWarning: IProgress not found. Please update jupyter and ipywidgets. See https://ipywidgets.readthedocs.io/en/stable/user_install.html\n",
      "  from .autonotebook import tqdm as notebook_tqdm\n",
      "/home/jmaharja/anaconda3/envs/gpu2/lib/python3.10/site-packages/umap/umap_.py:660: NumbaDeprecationWarning: The 'nopython' keyword argument was not supplied to the 'numba.jit' decorator. The implicit default value for this argument is currently False, but it will be changed to True in Numba 0.59.0. See https://numba.readthedocs.io/en/stable/reference/deprecation.html#deprecation-of-object-mode-fall-back-behaviour-when-using-jit for details.\n",
      "  @numba.jit()\n",
      "2024-06-14 12:20:45.789860: I tensorflow/core/util/port.cc:111] oneDNN custom operations are on. You may see slightly different numerical results due to floating-point round-off errors from different computation orders. To turn them off, set the environment variable `TF_ENABLE_ONEDNN_OPTS=0`.\n",
      "2024-06-14 12:20:45.845278: E tensorflow/compiler/xla/stream_executor/cuda/cuda_dnn.cc:9342] Unable to register cuDNN factory: Attempting to register factory for plugin cuDNN when one has already been registered\n",
      "2024-06-14 12:20:45.845310: E tensorflow/compiler/xla/stream_executor/cuda/cuda_fft.cc:609] Unable to register cuFFT factory: Attempting to register factory for plugin cuFFT when one has already been registered\n",
      "2024-06-14 12:20:45.845338: E tensorflow/compiler/xla/stream_executor/cuda/cuda_blas.cc:1518] Unable to register cuBLAS factory: Attempting to register factory for plugin cuBLAS when one has already been registered\n",
      "2024-06-14 12:20:45.854074: I tensorflow/core/platform/cpu_feature_guard.cc:182] This TensorFlow binary is optimized to use available CPU instructions in performance-critical operations.\n",
      "To enable the following instructions: AVX2 AVX512F AVX512_VNNI FMA, in other operations, rebuild TensorFlow with the appropriate compiler flags.\n",
      "2024-06-14 12:20:46.600026: W tensorflow/compiler/tf2tensorrt/utils/py_utils.cc:38] TF-TRT Warning: Could not find TensorRT\n"
     ]
    }
   ],
   "source": [
    "from bertopic import BERTopic"
   ]
  },
  {
   "cell_type": "code",
   "execution_count": 9,
   "id": "f29e6f94-583a-4aa3-949b-3372e4e20492",
   "metadata": {},
   "outputs": [],
   "source": [
    "words_to_remove = ['httpurl', 'hashtag', 'user']\n",
    "dff['cleaned_text'] = dff['text'].apply(lambda x: ' '.join(['' if word.lower() in words_to_remove else word for word in x.split()]))"
   ]
  },
  {
   "cell_type": "code",
   "execution_count": 19,
   "id": "416644e1-be9e-4351-82d5-d78f82fdd80f",
   "metadata": {},
   "outputs": [],
   "source": [
    "# sample = dff[dff['sentiment']=='neg']\n",
    "sample = dff.sample(10000)"
   ]
  },
  {
   "cell_type": "code",
   "execution_count": 20,
   "id": "ef065cba-37dc-4f10-9222-70866434574e",
   "metadata": {},
   "outputs": [
    {
     "data": {
      "text/plain": [
       "(10000, 19)"
      ]
     },
     "execution_count": 20,
     "metadata": {},
     "output_type": "execute_result"
    }
   ],
   "source": [
    "sample.shape"
   ]
  },
  {
   "cell_type": "code",
   "execution_count": 21,
   "id": "601158b5-e301-493f-b962-cd723254ee99",
   "metadata": {},
   "outputs": [],
   "source": [
    "# sample = sample[:10000]"
   ]
  },
  {
   "cell_type": "code",
   "execution_count": 22,
   "id": "140ba8c6-bb16-4ee1-967e-07780061566e",
   "metadata": {},
   "outputs": [],
   "source": [
    "docs = sample.cleaned_text.tolist()"
   ]
  },
  {
   "cell_type": "code",
   "execution_count": 23,
   "id": "03d8e153-4e91-4a8d-b200-e137daff1e1c",
   "metadata": {},
   "outputs": [
    {
     "name": "stderr",
     "output_type": "stream",
     "text": [
      "Batches: 100%|████████████████████████████████████████████████████████████████████████████████████████████████████████████████████████████████████████████████████████████| 313/313 [00:07<00:00, 42.80it/s]\n"
     ]
    }
   ],
   "source": [
    "from sentence_transformers import SentenceTransformer\n",
    "\n",
    "# Pre-calculate embeddings\n",
    "embedding_model = SentenceTransformer(\"all-MiniLM-L6-v2\")\n",
    "embeddings = embedding_model.encode(docs, show_progress_bar=True)"
   ]
  },
  {
   "cell_type": "code",
   "execution_count": 24,
   "id": "8eb733fd-cc6e-4e8f-b002-c8fc71c86538",
   "metadata": {},
   "outputs": [],
   "source": [
    "from umap import UMAP\n",
    "umap_model = UMAP(n_neighbors=15, n_components=5, min_dist=0.0, metric='cosine', random_state=42)"
   ]
  },
  {
   "cell_type": "code",
   "execution_count": 25,
   "id": "321d1ee2-7c9b-474e-909a-0895a6e61134",
   "metadata": {},
   "outputs": [],
   "source": [
    "from hdbscan import HDBSCAN\n",
    "hdbscan_model = HDBSCAN(min_cluster_size=150, metric='euclidean', cluster_selection_method='eom', prediction_data=True)"
   ]
  },
  {
   "cell_type": "code",
   "execution_count": 26,
   "id": "51ff38e6-2c0f-46f7-83c2-c8e71d0105d8",
   "metadata": {},
   "outputs": [],
   "source": [
    "from sklearn.feature_extraction.text import CountVectorizer\n",
    "# stop_words = stop_words + ['httpurl', 'hashtag', 'user']\n",
    "vectorizer_model = CountVectorizer(stop_words=\"english\", min_df=2, ngram_range=(1, 2))"
   ]
  },
  {
   "cell_type": "code",
   "execution_count": 27,
   "id": "4a8d9cfc-2b8e-4ec3-b16a-8560f0651ff4",
   "metadata": {},
   "outputs": [],
   "source": [
    "import openai\n",
    "from bertopic.representation import KeyBERTInspired, MaximalMarginalRelevance, OpenAI, PartOfSpeech\n",
    "\n",
    "# KeyBERT\n",
    "keybert_model = KeyBERTInspired()\n",
    "\n",
    "# Part-of-Speech\n",
    "# pos_model = PartOfSpeech(\"en_core_web_sm\")\n",
    "\n",
    "# MMR\n",
    "mmr_model = MaximalMarginalRelevance(diversity=0.3)\n",
    "\n",
    "# GPT-3.5\n",
    "openai.api_key = \"sk-proj-V9eUaxTcHBwbuk09RvpHT3BlbkFJiONTDMtF1Nb9SWIfmWIn\"\n",
    "prompt = \"\"\"\n",
    "I have a topic that contains the following documents: \n",
    "[DOCUMENTS]\n",
    "The topic is described by the following keywords: [KEYWORDS]\n",
    "\n",
    "Based on the information above, extract a short but highly descriptive topic label of at most 5 words. Make sure it is in the following format:\n",
    "topic: <topic label>\n",
    "\"\"\"\n",
    "openai_model = OpenAI(model=\"gpt-3.5-turbo\", exponential_backoff=True, chat=True, prompt=prompt)\n",
    "\n",
    "# All representation models\n",
    "representation_model = {\n",
    "    \"KeyBERT\": keybert_model,\n",
    "    \"OpenAI\": openai_model,  # Uncomment if you will use OpenAI\n",
    "    \"MMR\": mmr_model,\n",
    "    # \"POS\": pos_model\n",
    "}\n"
   ]
  },
  {
   "cell_type": "code",
   "execution_count": 29,
   "id": "d0e45df8-6786-40c8-bed2-701f17f958fc",
   "metadata": {},
   "outputs": [],
   "source": [
    "topic_model = BERTopic(\n",
    " # Pipeline models\n",
    "  embedding_model=embedding_model,\n",
    "  umap_model=umap_model,\n",
    "  hdbscan_model=hdbscan_model,\n",
    "  vectorizer_model=vectorizer_model,\n",
    "  representation_model=representation_model,\n",
    "\n",
    "  # Hyperparameters\n",
    "  top_n_words=10,\n",
    "  verbose=True\n",
    ")\n"
   ]
  },
  {
   "cell_type": "code",
   "execution_count": 30,
   "id": "ecdac41d-cb92-4fc9-a965-4c04ea4f1f3a",
   "metadata": {},
   "outputs": [
    {
     "name": "stderr",
     "output_type": "stream",
     "text": [
      "2024-06-14 12:23:59,119 - BERTopic - Reduced dimensionality\n",
      "2024-06-14 12:23:59,846 - BERTopic - Clustered reduced embeddings\n"
     ]
    },
    {
     "ename": "AttributeError",
     "evalue": "module 'openai' has no attribute 'error'",
     "output_type": "error",
     "traceback": [
      "\u001b[0;31m---------------------------------------------------------------------------\u001b[0m",
      "\u001b[0;31mAttributeError\u001b[0m                            Traceback (most recent call last)",
      "Cell \u001b[0;32mIn[30], line 2\u001b[0m\n\u001b[1;32m      1\u001b[0m \u001b[38;5;66;03m# Train model\u001b[39;00m\n\u001b[0;32m----> 2\u001b[0m topics, probs \u001b[38;5;241m=\u001b[39m \u001b[43mtopic_model\u001b[49m\u001b[38;5;241;43m.\u001b[39;49m\u001b[43mfit_transform\u001b[49m\u001b[43m(\u001b[49m\u001b[43mdocs\u001b[49m\u001b[43m,\u001b[49m\u001b[43m \u001b[49m\u001b[43membeddings\u001b[49m\u001b[43m)\u001b[49m\n",
      "File \u001b[0;32m~/anaconda3/envs/gpu2/lib/python3.10/site-packages/bertopic/_bertopic.py:411\u001b[0m, in \u001b[0;36mBERTopic.fit_transform\u001b[0;34m(self, documents, embeddings, images, y)\u001b[0m\n\u001b[1;32m    408\u001b[0m     \u001b[38;5;28mself\u001b[39m\u001b[38;5;241m.\u001b[39m_save_representative_docs(custom_documents)\n\u001b[1;32m    409\u001b[0m \u001b[38;5;28;01melse\u001b[39;00m:\n\u001b[1;32m    410\u001b[0m      \u001b[38;5;66;03m# Extract topics by calculating c-TF-IDF\u001b[39;00m\n\u001b[0;32m--> 411\u001b[0m     \u001b[38;5;28;43mself\u001b[39;49m\u001b[38;5;241;43m.\u001b[39;49m\u001b[43m_extract_topics\u001b[49m\u001b[43m(\u001b[49m\u001b[43mdocuments\u001b[49m\u001b[43m,\u001b[49m\u001b[43m \u001b[49m\u001b[43membeddings\u001b[49m\u001b[38;5;241;43m=\u001b[39;49m\u001b[43membeddings\u001b[49m\u001b[43m)\u001b[49m\n\u001b[1;32m    413\u001b[0m     \u001b[38;5;66;03m# Reduce topics\u001b[39;00m\n\u001b[1;32m    414\u001b[0m     \u001b[38;5;28;01mif\u001b[39;00m \u001b[38;5;28mself\u001b[39m\u001b[38;5;241m.\u001b[39mnr_topics:\n",
      "File \u001b[0;32m~/anaconda3/envs/gpu2/lib/python3.10/site-packages/bertopic/_bertopic.py:3296\u001b[0m, in \u001b[0;36mBERTopic._extract_topics\u001b[0;34m(self, documents, embeddings, mappings)\u001b[0m\n\u001b[1;32m   3294\u001b[0m documents_per_topic \u001b[38;5;241m=\u001b[39m documents\u001b[38;5;241m.\u001b[39mgroupby([\u001b[38;5;124m'\u001b[39m\u001b[38;5;124mTopic\u001b[39m\u001b[38;5;124m'\u001b[39m], as_index\u001b[38;5;241m=\u001b[39m\u001b[38;5;28;01mFalse\u001b[39;00m)\u001b[38;5;241m.\u001b[39magg({\u001b[38;5;124m'\u001b[39m\u001b[38;5;124mDocument\u001b[39m\u001b[38;5;124m'\u001b[39m: \u001b[38;5;124m'\u001b[39m\u001b[38;5;124m \u001b[39m\u001b[38;5;124m'\u001b[39m\u001b[38;5;241m.\u001b[39mjoin})\n\u001b[1;32m   3295\u001b[0m \u001b[38;5;28mself\u001b[39m\u001b[38;5;241m.\u001b[39mc_tf_idf_, words \u001b[38;5;241m=\u001b[39m \u001b[38;5;28mself\u001b[39m\u001b[38;5;241m.\u001b[39m_c_tf_idf(documents_per_topic)\n\u001b[0;32m-> 3296\u001b[0m \u001b[38;5;28mself\u001b[39m\u001b[38;5;241m.\u001b[39mtopic_representations_ \u001b[38;5;241m=\u001b[39m \u001b[38;5;28;43mself\u001b[39;49m\u001b[38;5;241;43m.\u001b[39;49m\u001b[43m_extract_words_per_topic\u001b[49m\u001b[43m(\u001b[49m\u001b[43mwords\u001b[49m\u001b[43m,\u001b[49m\u001b[43m \u001b[49m\u001b[43mdocuments\u001b[49m\u001b[43m)\u001b[49m\n\u001b[1;32m   3297\u001b[0m \u001b[38;5;28mself\u001b[39m\u001b[38;5;241m.\u001b[39m_create_topic_vectors(documents\u001b[38;5;241m=\u001b[39mdocuments, embeddings\u001b[38;5;241m=\u001b[39membeddings, mappings\u001b[38;5;241m=\u001b[39mmappings)\n\u001b[1;32m   3298\u001b[0m \u001b[38;5;28mself\u001b[39m\u001b[38;5;241m.\u001b[39mtopic_labels_ \u001b[38;5;241m=\u001b[39m {key: \u001b[38;5;124mf\u001b[39m\u001b[38;5;124m\"\u001b[39m\u001b[38;5;132;01m{\u001b[39;00mkey\u001b[38;5;132;01m}\u001b[39;00m\u001b[38;5;124m_\u001b[39m\u001b[38;5;124m\"\u001b[39m \u001b[38;5;241m+\u001b[39m \u001b[38;5;124m\"\u001b[39m\u001b[38;5;124m_\u001b[39m\u001b[38;5;124m\"\u001b[39m\u001b[38;5;241m.\u001b[39mjoin([word[\u001b[38;5;241m0\u001b[39m] \u001b[38;5;28;01mfor\u001b[39;00m word \u001b[38;5;129;01min\u001b[39;00m values[:\u001b[38;5;241m4\u001b[39m]])\n\u001b[1;32m   3299\u001b[0m                       \u001b[38;5;28;01mfor\u001b[39;00m key, values \u001b[38;5;129;01min\u001b[39;00m\n\u001b[1;32m   3300\u001b[0m                       \u001b[38;5;28mself\u001b[39m\u001b[38;5;241m.\u001b[39mtopic_representations_\u001b[38;5;241m.\u001b[39mitems()}\n",
      "File \u001b[0;32m~/anaconda3/envs/gpu2/lib/python3.10/site-packages/bertopic/_bertopic.py:3586\u001b[0m, in \u001b[0;36mBERTopic._extract_words_per_topic\u001b[0;34m(self, words, documents, c_tf_idf, calculate_aspects)\u001b[0m\n\u001b[1;32m   3584\u001b[0m                 \u001b[38;5;28mself\u001b[39m\u001b[38;5;241m.\u001b[39mtopic_aspects_[aspect] \u001b[38;5;241m=\u001b[39m aspects\n\u001b[1;32m   3585\u001b[0m             \u001b[38;5;28;01melif\u001b[39;00m \u001b[38;5;28misinstance\u001b[39m(aspect_model, BaseRepresentation):\n\u001b[0;32m-> 3586\u001b[0m                 \u001b[38;5;28mself\u001b[39m\u001b[38;5;241m.\u001b[39mtopic_aspects_[aspect] \u001b[38;5;241m=\u001b[39m \u001b[43maspect_model\u001b[49m\u001b[38;5;241;43m.\u001b[39;49m\u001b[43mextract_topics\u001b[49m\u001b[43m(\u001b[49m\u001b[38;5;28;43mself\u001b[39;49m\u001b[43m,\u001b[49m\u001b[43m \u001b[49m\u001b[43mdocuments\u001b[49m\u001b[43m,\u001b[49m\u001b[43m \u001b[49m\u001b[43mc_tf_idf\u001b[49m\u001b[43m,\u001b[49m\u001b[43m \u001b[49m\u001b[43maspects\u001b[49m\u001b[43m)\u001b[49m\n\u001b[1;32m   3588\u001b[0m \u001b[38;5;28;01mreturn\u001b[39;00m topics\n",
      "File \u001b[0;32m~/anaconda3/envs/gpu2/lib/python3.10/site-packages/bertopic/representation/_openai.py:188\u001b[0m, in \u001b[0;36mOpenAI.extract_topics\u001b[0;34m(self, topic_model, documents, c_tf_idf, topics)\u001b[0m\n\u001b[1;32m    186\u001b[0m kwargs \u001b[38;5;241m=\u001b[39m {\u001b[38;5;124m\"\u001b[39m\u001b[38;5;124mmodel\u001b[39m\u001b[38;5;124m\"\u001b[39m: \u001b[38;5;28mself\u001b[39m\u001b[38;5;241m.\u001b[39mmodel, \u001b[38;5;124m\"\u001b[39m\u001b[38;5;124mmessages\u001b[39m\u001b[38;5;124m\"\u001b[39m: messages, \u001b[38;5;241m*\u001b[39m\u001b[38;5;241m*\u001b[39m\u001b[38;5;28mself\u001b[39m\u001b[38;5;241m.\u001b[39mgenerator_kwargs}\n\u001b[1;32m    187\u001b[0m \u001b[38;5;28;01mif\u001b[39;00m \u001b[38;5;28mself\u001b[39m\u001b[38;5;241m.\u001b[39mexponential_backoff:\n\u001b[0;32m--> 188\u001b[0m     response \u001b[38;5;241m=\u001b[39m \u001b[43mchat_completions_with_backoff\u001b[49m\u001b[43m(\u001b[49m\u001b[38;5;241;43m*\u001b[39;49m\u001b[38;5;241;43m*\u001b[39;49m\u001b[43mkwargs\u001b[49m\u001b[43m)\u001b[49m\n\u001b[1;32m    189\u001b[0m \u001b[38;5;28;01melse\u001b[39;00m:\n\u001b[1;32m    190\u001b[0m     response \u001b[38;5;241m=\u001b[39m openai\u001b[38;5;241m.\u001b[39mChatCompletion\u001b[38;5;241m.\u001b[39mcreate(\u001b[38;5;241m*\u001b[39m\u001b[38;5;241m*\u001b[39mkwargs)\n",
      "File \u001b[0;32m~/anaconda3/envs/gpu2/lib/python3.10/site-packages/bertopic/representation/_openai.py:236\u001b[0m, in \u001b[0;36mchat_completions_with_backoff\u001b[0;34m(**kwargs)\u001b[0m\n\u001b[1;32m    235\u001b[0m \u001b[38;5;28;01mdef\u001b[39;00m \u001b[38;5;21mchat_completions_with_backoff\u001b[39m(\u001b[38;5;241m*\u001b[39m\u001b[38;5;241m*\u001b[39mkwargs):\n\u001b[0;32m--> 236\u001b[0m     \u001b[38;5;28;01mreturn\u001b[39;00m retry_with_exponential_backoff(openai\u001b[38;5;241m.\u001b[39mChatCompletion\u001b[38;5;241m.\u001b[39mcreate, errors\u001b[38;5;241m=\u001b[39m(\u001b[43mopenai\u001b[49m\u001b[38;5;241;43m.\u001b[39;49m\u001b[43merror\u001b[49m\u001b[38;5;241m.\u001b[39mRateLimitError,))(\u001b[38;5;241m*\u001b[39m\u001b[38;5;241m*\u001b[39mkwargs)\n",
      "\u001b[0;31mAttributeError\u001b[0m: module 'openai' has no attribute 'error'"
     ]
    }
   ],
   "source": [
    "# Train model\n",
    "topics, probs = topic_model.fit_transform(docs, embeddings)"
   ]
  },
  {
   "cell_type": "code",
   "execution_count": null,
   "id": "8a62c853-c076-41a8-b4ce-75e4b46d3459",
   "metadata": {},
   "outputs": [],
   "source": [
    "# print(topic_model.topics_)"
   ]
  },
  {
   "cell_type": "code",
   "execution_count": null,
   "id": "416765a4-4526-4013-8afd-199d6092ec03",
   "metadata": {},
   "outputs": [],
   "source": [
    "freq = topic_model.get_topic_info()\n",
    "freq.shape"
   ]
  },
  {
   "cell_type": "code",
   "execution_count": null,
   "id": "4cdc861e-d6d7-4704-bdde-cf8381f7c82b",
   "metadata": {},
   "outputs": [],
   "source": [
    "freq"
   ]
  },
  {
   "cell_type": "code",
   "execution_count": null,
   "id": "80b94bd6-4a75-494b-bb57-000bb172b3cc",
   "metadata": {},
   "outputs": [],
   "source": [
    "# topic_model.get_topic(-1)"
   ]
  },
  {
   "cell_type": "code",
   "execution_count": null,
   "id": "e9bae216-46b7-4454-8705-881684cc4bb9",
   "metadata": {},
   "outputs": [],
   "source": [
    "topic_model.visualize_barchart(top_n_topics=12)"
   ]
  },
  {
   "cell_type": "code",
   "execution_count": null,
   "id": "c1db386c-954a-43eb-bb3b-5c417b383a12",
   "metadata": {},
   "outputs": [],
   "source": [
    "dff.shape"
   ]
  },
  {
   "cell_type": "code",
   "execution_count": null,
   "id": "f5e9fae3-c865-4b5c-85b0-a9774d9f6249",
   "metadata": {},
   "outputs": [],
   "source": [
    "freq.iloc[-1]['Representative_Docs']"
   ]
  },
  {
   "cell_type": "code",
   "execution_count": null,
   "id": "f333e8bc-63d6-472f-ba56-b7d5dd3f12d3",
   "metadata": {},
   "outputs": [],
   "source": [
    "new_data = pd.Series(topics, name=int)\n",
    "df = dff[['id','date', 'text', 'user_id', 'age', 'is_teenage','gender','org','sentiment','emotion', 'cleaned_text', 'topic' ]]\n",
    "df['topic'] = new_data"
   ]
  },
  {
   "cell_type": "code",
   "execution_count": null,
   "id": "1c476fa2-598a-4b5d-82f6-745f262269a2",
   "metadata": {},
   "outputs": [],
   "source": [
    "df[df['topic']==-1]"
   ]
  },
  {
   "cell_type": "code",
   "execution_count": 32,
   "id": "c2d4576e-ca09-4d83-b167-ceedac9d704b",
   "metadata": {},
   "outputs": [],
   "source": [
    "topic_model.reduce_topics(docs, nr_topics=2)"
   ]
  }
 ],
 "metadata": {
  "kernelspec": {
   "display_name": "gpu2",
   "language": "python",
   "name": "gpu2"
  },
  "language_info": {
   "codemirror_mode": {
    "name": "ipython",
    "version": 3
   },
   "file_extension": ".py",
   "mimetype": "text/x-python",
   "name": "python",
   "nbconvert_exporter": "python",
   "pygments_lexer": "ipython3",
   "version": "3.10.14"
  }
 },
 "nbformat": 4,
 "nbformat_minor": 5
}
