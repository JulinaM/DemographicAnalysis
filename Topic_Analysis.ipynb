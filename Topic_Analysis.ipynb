{
 "cells": [
  {
   "cell_type": "code",
   "execution_count": 1,
   "id": "9abaa34c-5200-4c4b-bace-be89b77614ea",
   "metadata": {},
   "outputs": [],
   "source": [
    "import pandas as pd\n",
    "import numpy as np\n",
    "import matplotlib.pyplot as plt\n",
    "from matplotlib import rc\n",
    "import re,os\n",
    "import glob, traceback\n",
    "import seaborn as sns\n",
    "from sklearn.feature_extraction.text import TfidfVectorizer\n",
    "from sklearn.decomposition import LatentDirichletAllocation"
   ]
  },
  {
   "cell_type": "markdown",
   "id": "bc894643-a3f2-4a38-85fc-028feb893bc3",
   "metadata": {},
   "source": [
    "## 0. Read all csv files"
   ]
  },
  {
   "cell_type": "code",
   "execution_count": 2,
   "id": "d0d0404d-bdd2-4dc3-9148-e04dabea5ef4",
   "metadata": {},
   "outputs": [
    {
     "data": {
      "text/plain": [
       "((3502171, 17), (2275943, 18), (3502171, 18))"
      ]
     },
     "execution_count": 2,
     "metadata": {},
     "output_type": "execute_result"
    }
   ],
   "source": [
    "df = pd.read_csv('/data2/julina/scripts/tweets/cleaned_data_by_year/2020.csv')\n",
    "df.drop_duplicates(subset=['text', 'created_at'], inplace=True)\n",
    "df = df.loc[:, ~df.columns.str.match('Unnamed')]\n",
    "\n",
    "df_r = pd.read_csv('/data2/julina/scripts/tweets/cleaned_data_by_year/2020_race.csv')\n",
    "df_r.drop_duplicates(subset=['text', 'created_at'], inplace=True)\n",
    "df_r = df_r.loc[:, ~df_r.columns.str.match('Unnamed')]\n",
    "\n",
    "df_2020 = pd.merge(df, df_r[['id', 'user_id', 'race']],  how='left', on=['id','user_id'])\n",
    "df_2020.shape\n",
    "\n",
    "df.shape, df_r.shape, df_2020.shape"
   ]
  },
  {
   "cell_type": "code",
   "execution_count": 3,
   "id": "1ac65af7-f312-4c9a-ac50-9dfb4b3d8621",
   "metadata": {},
   "outputs": [],
   "source": [
    "drug_keywords_map= {\n",
    "# 'tobacco' : ['nicotine', 'tobacco', 'cigarette', 'cigarrette', 'cigar', 'bidis', 'snuff'],\n",
    "'alcohol' : ['liquor', 'beer', 'wine'],\n",
    "# 'cannabinoids' : ['marijuana', 'blunt', 'dope', 'ganja', 'grass', 'herb', 'joint', 'bud', 'mary jane', 'pot', 'reefer', 'green', 'trees', 'smoke', 'sinsemilla', 'skunk', 'weed','hashish', 'boom', 'gangster', 'hash', 'hash oil', 'hemp'],\n",
    "# 'opioids' : ['heroin', 'smack', 'horse', 'brown sugar', 'dope', \n",
    "#              # 'H',\n",
    "#              'junk', 'skag', 'skunk', 'white horse', 'China white','opium', 'laudanum', 'paregoric', 'big O', 'black stuff', 'block', 'gum', 'hop'],\n",
    "# 'stimulants': ['cocaine', 'hydrochloride', 'blow', 'bump',\n",
    "#                # 'C',\n",
    "#                 'candy', 'Charlie', 'coke', 'crack', 'flake', 'rock', 'snow', 'toot','amphetamine', 'Biphetamine', 'Dexedrine', 'bennies', 'black beauties', 'crosses', 'hearts', 'LA turnaround', 'speed', 'truck drivers', 'uppers','methamphetamine', 'Desoxyn','meth', 'ice', 'crank', 'chalk', 'crystal', 'fire', 'glass', 'go fast', 'speed'],\n",
    "# 'club_drugs':['mdma', 'ecstasy', 'adam', 'clarity', 'eve', \"lover's speed\", 'peace', 'uppers','flunitrazepam', 'rohypnol', 'forget-me pill', 'mexican valium', 'r2', 'roach', 'roche', 'roffles', 'roofinol', 'rope', 'rophies','ghb', 'Gamma-hydroxybutyrate', \n",
    "#               # 'G',\n",
    "#               'Georgia home boy', 'grievous bodily harm', 'liquid ecstasy', 'soap', 'scoop', 'goop', 'liquid X'],\n",
    "# 'dissociative_drugs':['ketamine', 'Ketalar SV', 'cat Valium',\n",
    "#                       # 'K',\n",
    "#                       'Special K', 'vitamin K','pcp and analogs', 'phencyclidine' 'angel dust', 'boat', 'hog', 'love boat', 'peace pill','salvia divinorum', 'salvia', 'shepherdess’s herb', 'maria pastora', 'magic mint', 'sally-d','dextromethorphan', 'dxm',  'robotripping', 'robo', 'triple'],\n",
    "# 'hallucinogens':['lsd','Lysergic acid diethylamide', 'acid', 'blotter', 'cubes', 'microdot', 'yellow sunshine', 'blue heaven', 'mescaline', 'Buttons', 'cactus', 'mesc', 'peyote', 'psilocybin', 'Magic mushrooms', 'purple passion', 'shrooms', 'little smoke'],\n",
    "# 'other_compounds':['anabolic_steroids', 'Anadrol', 'Oxandrin', 'Durabolin', 'Depo-Testosterone', 'Equipoise', 'roids', 'juice', 'gym candy', 'pumpers','inhalants', 'Solvents', 'paint thinners', 'gasoline', 'glues', 'gasses', 'butane', 'propane', 'aerosol propellants', 'nitrous oxide',  'nitrites' ,'isoamyl', 'isobutyl', 'cyclohexyl','laughing gas', 'poppers', 'snappers', 'whippets'],\n",
    "# 'prescription_medications':['cns_depressants', 'stimulants', 'opioid pain relievers', 'OxyContin','Oxycodone', 'Vicodin', 'Norco', 'Lortab', 'Hydrocodone', 'Acetaminophen', 'Percocet ', 'Oxycodone', 'Acetaminophen','Tramadol','Codeine','Morphine','Methadone','Demerol', 'meperidine','Acetaminophen','Tylenol', 'Excedrin', 'Vanquish','Aspirin', 'Bayer', 'Bufferin', 'Ecotrin', 'Excedrin', 'Vanquish','Diclofenac', 'Voltaren Gel','Ibuprofen', 'Advil', 'Motrin IB','Naproxen', 'Aleve']\n",
    "}\n",
    "\n",
    "drug_cols = drug_keywords_map.keys()"
   ]
  },
  {
   "cell_type": "code",
   "execution_count": 4,
   "id": "8a89fd2a-b4d3-40d8-bdca-a90426b045f4",
   "metadata": {},
   "outputs": [],
   "source": [
    "# https://nida.nih.gov/sites/default/files/cadchart.pdf\n",
    "for keyword, words in drug_keywords_map.items():\n",
    "    pattern = fr'\\b(?:{\"|\".join(words)})\\b'\n",
    "    df_2020[keyword] = df_2020['text'].str.contains(pattern, case=False).astype(int)"
   ]
  },
  {
   "cell_type": "code",
   "execution_count": 5,
   "id": "3d92f04c-d2d8-48e2-b984-ec33517001fc",
   "metadata": {},
   "outputs": [],
   "source": [
    "df_2020['drug_type'] = df_2020[drug_cols].apply(lambda row: next((col for col, val in zip(drug_cols, row) if val == 1), None), axis=1)"
   ]
  },
  {
   "cell_type": "markdown",
   "id": "e04651d2-687e-4b94-b762-e0ef47379a68",
   "metadata": {},
   "source": [
    "## Theme analysis"
   ]
  },
  {
   "cell_type": "code",
   "execution_count": 6,
   "id": "16485a75-856c-4aba-805a-e4c1ab844ea0",
   "metadata": {},
   "outputs": [],
   "source": [
    "covid = ['covid', 'corona', 'coronavirus', 'outbreak', 'spread', 'viral','virus', 'flu', 'infect','pcr test', 'national emergency', 'wuhan', 'CDC', 'ncov', 'SARS', 'mask', 'sanitizer',\n",
    "         'toll', 'new disease', 'news', 'positive', 'test', 'cases',  'dangerous year', 'fake year', 'fda', 'flatten', 'cov2', 'quarantine', 'lockdown',\n",
    "         'pandemic', 'epidemic', 'ventilator', 'symptomatic', 'incubation', 'transmission', 'immune', 'vaccine',\n",
    "          'hard to breath', 'shortness of breath','start nose', 'variant']\n",
    "\n",
    "economic =  ['job', 'job loss', 'jobless', 'no job', 'lost job', 'income', 'salary', 'paycheck', 'money', 'bills', 'bill raise',  'check', 'saving', 'wage','fulltime',\n",
    "             'unemployed', 'economy', 'layoff', 'recession', 'stimulus', 'evict', 'laid', 'bankrupt', 'owe', 'afford',  'eviction', 'credit', 'debt', 'loan', 'financial crisis', 'inflation',\n",
    "              'poor', 'poverty', 'normalize risk', 'cost', 'homeless', 'rent', 'mortgage', 'no food',  'no shelter', 'wallet', 'hungry street', 'fda']\n",
    "\n",
    "social = ['lockdown', 'bully', \"loneliness\", \"emptiness\", \"lonely\", \"distancing\", \"insecurities\", \"no one care\", \"trap\", \"feel ignore\", \"ignored\", 'bored', \n",
    "         'quarantine', 'alone', 'stay home', 'stayhome', 'stay safe', 'stayathome', 'single', 'solo', 'lockup', 'disconnect', \n",
    "          'silence', 'off limit',  'frayed', 'indoor']\n",
    "\n",
    "mentalhealth = ['sad', 'angry', 'mad', 'tension', 'depress', 'tire', 'exhausted', 'fear', 'scared', 'stress', 'worry', 'disappear', 'selfharm', 'crisis', 'dizzi', 'no hunger', 'no sleep','no hope', 'hopeless', 'loneliness', 'no will', 'quit life', 'no motivation', 'no motif', 'no focus', 'no dedication', 'cannot focus',\n",
    "                'panic', 'panic attack', 'rapid heartbeat','heartbeat fast', 'suicidal thought', 'ending my life', 'no reason to live', 'feeling worthless',  'seeking a way out', 'feel like a burden', 'struggling to cope', 'lack of purpose', 'wanting the pain to stop',\n",
    "                'mental pain', 'mental anguish', 'feel pressure', 'feel trapped', 'desperation', 'broken inside', 'losing the will to live','dark thought', 'depression', 'anxiety', 'ptsd', 'bipolar',\n",
    "               'intrusive', 'trauma', 'burnout', 'grief', 'dyingfeel', 'sorrow']\n",
    "\n",
    "supply_disruption = ['steal', 'deliver', 'refuse', 'small rate', 'sellout', 'sell bath', 'sell illegal', 'sell weed', 'cheap deal', 'box sale', 'sale', 'order', 'order pack', 'cut safe', 'strong', 'weak', 'legal high', \n",
    "                     'dangerous', 'toxic', 'industry', 'contaminated', 'local', 'import', 'international', 'darknet',  'market', 'stock alert', 'batch', 'customs', 'seizure', 'permit', 'lack', 'shortage', 'crisis', 'sale', 'buy drug', 'supply']\n",
    "\n",
    "medical_disruption = ['health crisis', 'shut down', 'cut off', 'on hold',  'locked out', 'dead end', \n",
    "                      'dry', 'mia',  \n",
    "                      'rehab', 'virtual', 'telehealth', 'teletherapy', 'telemedicine', 'appointment',  'close clinic', 'limited hours',\n",
    "                       'waitlist', 'treatment full', 'medical line', 'freeze', 'overload', 'emergency','drought', 'no help line', 'pharmacy', 'customer service']\n",
    "factor_keywords_map = {\n",
    "                 'covid': covid,\n",
    "                 'economic': economic,\n",
    "                 'social' : social,\n",
    "                 'mentalhealth': mentalhealth,\n",
    "                 'supply_disruption': supply_disruption,\n",
    "                 'medical_disruption': medical_disruption\n",
    "                }\n",
    "\n",
    "for keyword, words in factor_keywords_map.items():\n",
    "    pattern = fr'\\b(?:{\"|\".join(words)})\\b'\n",
    "    df_2020[keyword] = df_2020['text'].str.contains(pattern, case=False).astype(int)"
   ]
  },
  {
   "cell_type": "code",
   "execution_count": 7,
   "id": "2ce6c0d9-e525-4ced-b6e8-a195685e83ed",
   "metadata": {},
   "outputs": [],
   "source": [
    "df_2020['created_at'] = pd.to_datetime(df_2020['created_at'], format='%a %b %d %H:%M:%S %z %Y')"
   ]
  },
  {
   "cell_type": "code",
   "execution_count": 8,
   "id": "e2a55ab7-6242-4af8-a8c4-7bce914fa44d",
   "metadata": {},
   "outputs": [],
   "source": [
    "sub_data = df_2020[df_2020['drug_type']=='alcohol']"
   ]
  },
  {
   "cell_type": "code",
   "execution_count": null,
   "id": "51a330be",
   "metadata": {},
   "outputs": [],
   "source": [
    "df_2020"
   ]
  },
  {
   "cell_type": "code",
   "execution_count": 9,
   "id": "00a9c5a8-00c3-49e1-8b83-d298061244b0",
   "metadata": {},
   "outputs": [
    {
     "data": {
      "application/vnd.microsoft.datawrangler.viewer.v0+json": {
       "columns": [
        {
         "name": "index",
         "rawType": "object",
         "type": "string"
        },
        {
         "name": "covid",
         "rawType": "object",
         "type": "string"
        },
        {
         "name": "economic",
         "rawType": "object",
         "type": "string"
        },
        {
         "name": "social",
         "rawType": "object",
         "type": "string"
        },
        {
         "name": "mentalhealth",
         "rawType": "object",
         "type": "string"
        },
        {
         "name": "supply_disruption",
         "rawType": "object",
         "type": "string"
        },
        {
         "name": "medical_disruption",
         "rawType": "object",
         "type": "string"
        }
       ],
       "ref": "e95e1990-1dea-4ba8-9d14-0b74c439a720",
       "rows": [
        [
         "2020-02-01",
         "1.45%",
         "1.81%",
         "0.65%",
         "0.72%",
         "2.85%",
         "0.3%"
        ],
        [
         "2020-02-15",
         "1.5%",
         "1.36%",
         "0.71%",
         "0.65%",
         "2.84%",
         "0.32%"
        ],
        [
         "2020-03-01",
         "11.15%",
         "4.71%",
         "1.9%",
         "1.22%",
         "2.91%",
         "0.32%"
        ],
        [
         "2020-03-15",
         "12.1%",
         "1.61%",
         "8.57%",
         "4.62%",
         "7.4%",
         "4.11%"
        ],
        [
         "2020-04-01",
         "5.32%",
         "1.55%",
         "3.4%",
         "1.05%",
         "3.8%",
         "0.63%"
        ],
        [
         "2020-04-15",
         "4.86%",
         "1.85%",
         "4.14%",
         "0.94%",
         "3.74%",
         "0.46%"
        ],
        [
         "2020-05-01",
         "10.46%",
         "2.88%",
         "3.86%",
         "0.98%",
         "5.57%",
         "0.52%"
        ],
        [
         "2020-05-15",
         "2.79%",
         "1.62%",
         "1.58%",
         "0.73%",
         "3.61%",
         "0.45%"
        ]
       ],
       "shape": {
        "columns": 6,
        "rows": 8
       }
      },
      "text/html": [
       "<div>\n",
       "<style scoped>\n",
       "    .dataframe tbody tr th:only-of-type {\n",
       "        vertical-align: middle;\n",
       "    }\n",
       "\n",
       "    .dataframe tbody tr th {\n",
       "        vertical-align: top;\n",
       "    }\n",
       "\n",
       "    .dataframe thead th {\n",
       "        text-align: right;\n",
       "    }\n",
       "</style>\n",
       "<table border=\"1\" class=\"dataframe\">\n",
       "  <thead>\n",
       "    <tr style=\"text-align: right;\">\n",
       "      <th></th>\n",
       "      <th>covid</th>\n",
       "      <th>economic</th>\n",
       "      <th>social</th>\n",
       "      <th>mentalhealth</th>\n",
       "      <th>supply_disruption</th>\n",
       "      <th>medical_disruption</th>\n",
       "    </tr>\n",
       "  </thead>\n",
       "  <tbody>\n",
       "    <tr>\n",
       "      <th>2020-02-01</th>\n",
       "      <td>1.45%</td>\n",
       "      <td>1.81%</td>\n",
       "      <td>0.65%</td>\n",
       "      <td>0.72%</td>\n",
       "      <td>2.85%</td>\n",
       "      <td>0.3%</td>\n",
       "    </tr>\n",
       "    <tr>\n",
       "      <th>2020-02-15</th>\n",
       "      <td>1.5%</td>\n",
       "      <td>1.36%</td>\n",
       "      <td>0.71%</td>\n",
       "      <td>0.65%</td>\n",
       "      <td>2.84%</td>\n",
       "      <td>0.32%</td>\n",
       "    </tr>\n",
       "    <tr>\n",
       "      <th>2020-03-01</th>\n",
       "      <td>11.15%</td>\n",
       "      <td>4.71%</td>\n",
       "      <td>1.9%</td>\n",
       "      <td>1.22%</td>\n",
       "      <td>2.91%</td>\n",
       "      <td>0.32%</td>\n",
       "    </tr>\n",
       "    <tr>\n",
       "      <th>2020-03-15</th>\n",
       "      <td>12.1%</td>\n",
       "      <td>1.61%</td>\n",
       "      <td>8.57%</td>\n",
       "      <td>4.62%</td>\n",
       "      <td>7.4%</td>\n",
       "      <td>4.11%</td>\n",
       "    </tr>\n",
       "    <tr>\n",
       "      <th>2020-04-01</th>\n",
       "      <td>5.32%</td>\n",
       "      <td>1.55%</td>\n",
       "      <td>3.4%</td>\n",
       "      <td>1.05%</td>\n",
       "      <td>3.8%</td>\n",
       "      <td>0.63%</td>\n",
       "    </tr>\n",
       "    <tr>\n",
       "      <th>2020-04-15</th>\n",
       "      <td>4.86%</td>\n",
       "      <td>1.85%</td>\n",
       "      <td>4.14%</td>\n",
       "      <td>0.94%</td>\n",
       "      <td>3.74%</td>\n",
       "      <td>0.46%</td>\n",
       "    </tr>\n",
       "    <tr>\n",
       "      <th>2020-05-01</th>\n",
       "      <td>10.46%</td>\n",
       "      <td>2.88%</td>\n",
       "      <td>3.86%</td>\n",
       "      <td>0.98%</td>\n",
       "      <td>5.57%</td>\n",
       "      <td>0.52%</td>\n",
       "    </tr>\n",
       "    <tr>\n",
       "      <th>2020-05-15</th>\n",
       "      <td>2.79%</td>\n",
       "      <td>1.62%</td>\n",
       "      <td>1.58%</td>\n",
       "      <td>0.73%</td>\n",
       "      <td>3.61%</td>\n",
       "      <td>0.45%</td>\n",
       "    </tr>\n",
       "  </tbody>\n",
       "</table>\n",
       "</div>"
      ],
      "text/plain": [
       "             covid economic social mentalhealth supply_disruption  \\\n",
       "2020-02-01   1.45%    1.81%  0.65%        0.72%             2.85%   \n",
       "2020-02-15    1.5%    1.36%  0.71%        0.65%             2.84%   \n",
       "2020-03-01  11.15%    4.71%   1.9%        1.22%             2.91%   \n",
       "2020-03-15   12.1%    1.61%  8.57%        4.62%              7.4%   \n",
       "2020-04-01   5.32%    1.55%   3.4%        1.05%              3.8%   \n",
       "2020-04-15   4.86%    1.85%  4.14%        0.94%             3.74%   \n",
       "2020-05-01  10.46%    2.88%  3.86%        0.98%             5.57%   \n",
       "2020-05-15   2.79%    1.62%  1.58%        0.73%             3.61%   \n",
       "\n",
       "           medical_disruption  \n",
       "2020-02-01               0.3%  \n",
       "2020-02-15              0.32%  \n",
       "2020-03-01              0.32%  \n",
       "2020-03-15              4.11%  \n",
       "2020-04-01              0.63%  \n",
       "2020-04-15              0.46%  \n",
       "2020-05-01              0.52%  \n",
       "2020-05-15              0.45%  "
      ]
     },
     "execution_count": 9,
     "metadata": {},
     "output_type": "execute_result"
    }
   ],
   "source": [
    "results = pd.DataFrame()\n",
    "periods = [\n",
    "    ('2020-02-01', '2020-02-14'),\n",
    "    ('2020-02-15', '2020-02-28'),\n",
    "    ('2020-03-01', '2020-03-14'),\n",
    "    ('2020-03-15', '2020-03-31'),\n",
    "    ('2020-04-01', '2020-04-14'),\n",
    "    ('2020-04-15', '2020-04-30'),\n",
    "    ('2020-05-01', '2020-05-14'),\n",
    "    ('2020-05-15', '2020-05-31')\n",
    "]\n",
    "for i, (start_date, end_date) in enumerate(periods, 1):\n",
    "    period_data = sub_data[(sub_data['created_at'] >= start_date) & (sub_data['created_at'] <= end_date)]\n",
    "    counts = period_data[['covid', 'economic', 'social', 'mentalhealth', 'supply_disruption', 'medical_disruption']].sum()\n",
    "    percentages = (counts / len(period_data)) * 100\n",
    "    # combined = counts.astype(str) + ' (' + percentages.round(2).astype(str) + '%)'\n",
    "    combined =  percentages.round(2).astype(str) + '%'\n",
    "\n",
    "    combined.name = f'{start_date}'\n",
    "    \n",
    "    if results.empty:\n",
    "        results = pd.DataFrame(combined)\n",
    "    else:\n",
    "        results = results.join(pd.DataFrame(combined))\n",
    "\n",
    "results.T"
   ]
  },
  {
   "cell_type": "code",
   "execution_count": 14,
   "id": "e0847b5c",
   "metadata": {},
   "outputs": [
    {
     "name": "stdout",
     "output_type": "stream",
     "text": [
      "2020-02-01 2020-02-14 6635\n",
      "2020-02-15 2020-02-28 5383\n",
      "2020-03-01 2020-03-14 12863\n",
      "2020-03-15 2020-03-31 26550\n",
      "2020-04-01 2020-04-14 20772\n",
      "2020-04-15 2020-04-30 21027\n",
      "2020-05-01 2020-05-14 20571\n",
      "2020-05-15 2020-05-31 18128\n"
     ]
    },
    {
     "data": {
      "application/vnd.microsoft.datawrangler.viewer.v0+json": {
       "columns": [
        {
         "name": "index",
         "rawType": "object",
         "type": "string"
        },
        {
         "name": "covid",
         "rawType": "object",
         "type": "string"
        },
        {
         "name": "economic",
         "rawType": "object",
         "type": "string"
        },
        {
         "name": "social",
         "rawType": "object",
         "type": "string"
        },
        {
         "name": "mentalhealth",
         "rawType": "object",
         "type": "string"
        },
        {
         "name": "supply_disruption",
         "rawType": "object",
         "type": "string"
        },
        {
         "name": "medical_disruption",
         "rawType": "object",
         "type": "string"
        }
       ],
       "ref": "7aa5ffb1-23da-4990-beae-150b4854f087",
       "rows": [
        [
         "2020-02-01 to 2020-02-14",
         "96 (1.45%)",
         "120 (1.81%)",
         "43 (0.65%)",
         "48 (0.72%)",
         "189 (2.85%)",
         "20 (0.30%)"
        ],
        [
         "2020-02-15 to 2020-02-28",
         "81 (1.50%)",
         "73 (1.36%)",
         "38 (0.71%)",
         "35 (0.65%)",
         "153 (2.84%)",
         "17 (0.32%)"
        ],
        [
         "2020-03-01 to 2020-03-14",
         "1,434 (11.15%)",
         "606 (4.71%)",
         "245 (1.90%)",
         "157 (1.22%)",
         "374 (2.91%)",
         "41 (0.32%)"
        ],
        [
         "2020-03-15 to 2020-03-31",
         "3,213 (12.10%)",
         "427 (1.61%)",
         "2,275 (8.57%)",
         "1,226 (4.62%)",
         "1,966 (7.40%)",
         "1,091 (4.11%)"
        ],
        [
         "2020-04-01 to 2020-04-14",
         "1,105 (5.32%)",
         "323 (1.55%)",
         "706 (3.40%)",
         "219 (1.05%)",
         "789 (3.80%)",
         "131 (0.63%)"
        ],
        [
         "2020-04-15 to 2020-04-30",
         "1,022 (4.86%)",
         "389 (1.85%)",
         "871 (4.14%)",
         "198 (0.94%)",
         "787 (3.74%)",
         "97 (0.46%)"
        ],
        [
         "2020-05-01 to 2020-05-14",
         "2,151 (10.46%)",
         "593 (2.88%)",
         "795 (3.86%)",
         "202 (0.98%)",
         "1,145 (5.57%)",
         "106 (0.52%)"
        ],
        [
         "2020-05-15 to 2020-05-31",
         "505 (2.79%)",
         "293 (1.62%)",
         "286 (1.58%)",
         "132 (0.73%)",
         "654 (3.61%)",
         "82 (0.45%)"
        ]
       ],
       "shape": {
        "columns": 6,
        "rows": 8
       }
      },
      "text/html": [
       "<div>\n",
       "<style scoped>\n",
       "    .dataframe tbody tr th:only-of-type {\n",
       "        vertical-align: middle;\n",
       "    }\n",
       "\n",
       "    .dataframe tbody tr th {\n",
       "        vertical-align: top;\n",
       "    }\n",
       "\n",
       "    .dataframe thead th {\n",
       "        text-align: right;\n",
       "    }\n",
       "</style>\n",
       "<table border=\"1\" class=\"dataframe\">\n",
       "  <thead>\n",
       "    <tr style=\"text-align: right;\">\n",
       "      <th></th>\n",
       "      <th>covid</th>\n",
       "      <th>economic</th>\n",
       "      <th>social</th>\n",
       "      <th>mentalhealth</th>\n",
       "      <th>supply_disruption</th>\n",
       "      <th>medical_disruption</th>\n",
       "    </tr>\n",
       "  </thead>\n",
       "  <tbody>\n",
       "    <tr>\n",
       "      <th>2020-02-01 to 2020-02-14</th>\n",
       "      <td>96 (1.45%)</td>\n",
       "      <td>120 (1.81%)</td>\n",
       "      <td>43 (0.65%)</td>\n",
       "      <td>48 (0.72%)</td>\n",
       "      <td>189 (2.85%)</td>\n",
       "      <td>20 (0.30%)</td>\n",
       "    </tr>\n",
       "    <tr>\n",
       "      <th>2020-02-15 to 2020-02-28</th>\n",
       "      <td>81 (1.50%)</td>\n",
       "      <td>73 (1.36%)</td>\n",
       "      <td>38 (0.71%)</td>\n",
       "      <td>35 (0.65%)</td>\n",
       "      <td>153 (2.84%)</td>\n",
       "      <td>17 (0.32%)</td>\n",
       "    </tr>\n",
       "    <tr>\n",
       "      <th>2020-03-01 to 2020-03-14</th>\n",
       "      <td>1,434 (11.15%)</td>\n",
       "      <td>606 (4.71%)</td>\n",
       "      <td>245 (1.90%)</td>\n",
       "      <td>157 (1.22%)</td>\n",
       "      <td>374 (2.91%)</td>\n",
       "      <td>41 (0.32%)</td>\n",
       "    </tr>\n",
       "    <tr>\n",
       "      <th>2020-03-15 to 2020-03-31</th>\n",
       "      <td>3,213 (12.10%)</td>\n",
       "      <td>427 (1.61%)</td>\n",
       "      <td>2,275 (8.57%)</td>\n",
       "      <td>1,226 (4.62%)</td>\n",
       "      <td>1,966 (7.40%)</td>\n",
       "      <td>1,091 (4.11%)</td>\n",
       "    </tr>\n",
       "    <tr>\n",
       "      <th>2020-04-01 to 2020-04-14</th>\n",
       "      <td>1,105 (5.32%)</td>\n",
       "      <td>323 (1.55%)</td>\n",
       "      <td>706 (3.40%)</td>\n",
       "      <td>219 (1.05%)</td>\n",
       "      <td>789 (3.80%)</td>\n",
       "      <td>131 (0.63%)</td>\n",
       "    </tr>\n",
       "    <tr>\n",
       "      <th>2020-04-15 to 2020-04-30</th>\n",
       "      <td>1,022 (4.86%)</td>\n",
       "      <td>389 (1.85%)</td>\n",
       "      <td>871 (4.14%)</td>\n",
       "      <td>198 (0.94%)</td>\n",
       "      <td>787 (3.74%)</td>\n",
       "      <td>97 (0.46%)</td>\n",
       "    </tr>\n",
       "    <tr>\n",
       "      <th>2020-05-01 to 2020-05-14</th>\n",
       "      <td>2,151 (10.46%)</td>\n",
       "      <td>593 (2.88%)</td>\n",
       "      <td>795 (3.86%)</td>\n",
       "      <td>202 (0.98%)</td>\n",
       "      <td>1,145 (5.57%)</td>\n",
       "      <td>106 (0.52%)</td>\n",
       "    </tr>\n",
       "    <tr>\n",
       "      <th>2020-05-15 to 2020-05-31</th>\n",
       "      <td>505 (2.79%)</td>\n",
       "      <td>293 (1.62%)</td>\n",
       "      <td>286 (1.58%)</td>\n",
       "      <td>132 (0.73%)</td>\n",
       "      <td>654 (3.61%)</td>\n",
       "      <td>82 (0.45%)</td>\n",
       "    </tr>\n",
       "  </tbody>\n",
       "</table>\n",
       "</div>"
      ],
      "text/plain": [
       "                                   covid     economic         social  \\\n",
       "2020-02-01 to 2020-02-14      96 (1.45%)  120 (1.81%)     43 (0.65%)   \n",
       "2020-02-15 to 2020-02-28      81 (1.50%)   73 (1.36%)     38 (0.71%)   \n",
       "2020-03-01 to 2020-03-14  1,434 (11.15%)  606 (4.71%)    245 (1.90%)   \n",
       "2020-03-15 to 2020-03-31  3,213 (12.10%)  427 (1.61%)  2,275 (8.57%)   \n",
       "2020-04-01 to 2020-04-14   1,105 (5.32%)  323 (1.55%)    706 (3.40%)   \n",
       "2020-04-15 to 2020-04-30   1,022 (4.86%)  389 (1.85%)    871 (4.14%)   \n",
       "2020-05-01 to 2020-05-14  2,151 (10.46%)  593 (2.88%)    795 (3.86%)   \n",
       "2020-05-15 to 2020-05-31     505 (2.79%)  293 (1.62%)    286 (1.58%)   \n",
       "\n",
       "                           mentalhealth supply_disruption medical_disruption  \n",
       "2020-02-01 to 2020-02-14     48 (0.72%)       189 (2.85%)         20 (0.30%)  \n",
       "2020-02-15 to 2020-02-28     35 (0.65%)       153 (2.84%)         17 (0.32%)  \n",
       "2020-03-01 to 2020-03-14    157 (1.22%)       374 (2.91%)         41 (0.32%)  \n",
       "2020-03-15 to 2020-03-31  1,226 (4.62%)     1,966 (7.40%)      1,091 (4.11%)  \n",
       "2020-04-01 to 2020-04-14    219 (1.05%)       789 (3.80%)        131 (0.63%)  \n",
       "2020-04-15 to 2020-04-30    198 (0.94%)       787 (3.74%)         97 (0.46%)  \n",
       "2020-05-01 to 2020-05-14    202 (0.98%)     1,145 (5.57%)        106 (0.52%)  \n",
       "2020-05-15 to 2020-05-31    132 (0.73%)       654 (3.61%)         82 (0.45%)  "
      ]
     },
     "execution_count": 14,
     "metadata": {},
     "output_type": "execute_result"
    }
   ],
   "source": [
    "results = pd.DataFrame()\n",
    "periods = [\n",
    "    ('2020-02-01', '2020-02-14'),\n",
    "    ('2020-02-15', '2020-02-28'),\n",
    "    ('2020-03-01', '2020-03-14'),\n",
    "    ('2020-03-15', '2020-03-31'),\n",
    "    ('2020-04-01', '2020-04-14'),\n",
    "    ('2020-04-15', '2020-04-30'),\n",
    "    ('2020-05-01', '2020-05-14'),\n",
    "    ('2020-05-15', '2020-05-31')\n",
    "]\n",
    "\n",
    "for i, (start_date, end_date) in enumerate(periods, 1):\n",
    "    period_data = sub_data[(sub_data['created_at'] >= start_date) & (sub_data['created_at'] <= end_date)]\n",
    "    counts = period_data[['covid', 'economic', 'social', 'mentalhealth', 'supply_disruption', 'medical_disruption']].sum()\n",
    "    total_posts = len(period_data)  # Denominator for percentages\n",
    "    print(start_date, end_date, total_posts)\n",
    "    percentages = (counts / total_posts) * 100\n",
    "    \n",
    "    # Apply JMIR decimal rules based on denominator size\n",
    "    def format_percentage(n, percentage):\n",
    "        if total_posts >= 1000:\n",
    "            return f\"{n:,} ({percentage:.2f}%)\"\n",
    "        elif total_posts >= 100:\n",
    "            return f\"{n:,} ({percentage:.1f}%)\"\n",
    "        else:\n",
    "            return f\"{n:,} ({int(round(percentage))}%)\"\n",
    "    \n",
    "    # Format each value with n and percentage\n",
    "    combined = [format_percentage(n, p) for n, p in zip(counts, percentages)]\n",
    "    combined = pd.Series(combined, index=counts.index)\n",
    "    combined.name = f'{start_date} to {end_date}'\n",
    "    \n",
    "    if results.empty:\n",
    "        results = pd.DataFrame(combined)\n",
    "    else:\n",
    "        results = results.join(pd.DataFrame(combined))\n",
    "\n",
    "# Transpose for better readability (dates as rows)\n",
    "final_results = results.T\n",
    "final_results"
   ]
  },
  {
   "cell_type": "code",
   "execution_count": null,
   "id": "8accfc05-5994-4fad-9be0-057f79fc0675",
   "metadata": {},
   "outputs": [],
   "source": [
    "df = results.T\n",
    "df.reset_index(inplace=True)\n",
    "df.rename(columns={'index': 'Week'},inplace=True)\n",
    "df.rename(columns={'covid': 'Covid', 'economic':'Economic', 'social':'Social', 'supply_disruption':' Supply Disruption', 'mentalhealth' :'Mental Health', 'medical_disruption': 'Medical Disruption'}, inplace=True)\n",
    "df"
   ]
  },
  {
   "cell_type": "code",
   "execution_count": null,
   "id": "ace199b3-4d86-4922-b57e-39af7b6250c0",
   "metadata": {},
   "outputs": [],
   "source": [
    "from matplotlib import font_manager\n",
    "\n",
    "def plot_tables_side_by_side(table, layout=(1, 2)):\n",
    "    fig, ax = plt.subplots(figsize=(12, 5))\n",
    "    filename = 'By Theme'\n",
    "    ax.axis('off') \n",
    "    font_prop = font_manager.FontProperties(size=16)\n",
    "    col_labels = [label.replace(' ', '\\n') for label in table.columns]\n",
    "    table_obj = ax.table(cellText=table.values, colLabels=col_labels, cellLoc='center', \n",
    "                         loc='center', bbox=[0, 0, 1, 1],\n",
    "                         edges='closed')  \n",
    "    \n",
    "    for i, key in enumerate(table_obj.get_celld().keys()):\n",
    "        cell = table_obj.get_celld()[key]\n",
    "        cell.set_edgecolor('white')  \n",
    "        cell.set_linewidth(1)  \n",
    "\n",
    "        if key[0] == 0:  \n",
    "            cell.set_text_props(weight='bold', color='white')\n",
    "            cell.set_facecolor('#003366')  # Dark blue\n",
    "            cell.set_height(0.09) \n",
    "\n",
    "        else:\n",
    "            # cell.set_fontsize(\"10\")\n",
    "            cell.set_text_props(color='black')\n",
    "            if key[0] % 2 == 0:\n",
    "                cell.set_facecolor('#f0f0f0')  # Light gray\n",
    "            else:\n",
    "                cell.set_facecolor('#ffffff')  # White\n",
    "        if key[1] == 0:   # First column\n",
    "            cell.set_text_props(horizontalalignment='left')\n",
    "\n",
    "    # table_obj.auto_set_column_width([ 2])  # Automatically adjust width of the second and third columns\n",
    "    table_obj.set_fontsize(12)           \n",
    "    plt.subplots_adjust(top=0.90)  \n",
    "    # if mailfile:\n",
    "        # fig.suptitle('Drug User Demographics in 2020' , fontsize=16)\n",
    "    plt.savefig('themes_alcohol_peak_pandemic_big_font.png', bbox_inches='tight')\n",
    "    plt.show()\n"
   ]
  },
  {
   "cell_type": "code",
   "execution_count": null,
   "id": "9807831b-4d51-4747-a75e-74e4c78592ed",
   "metadata": {},
   "outputs": [],
   "source": [
    "plot_tables_side_by_side(df)"
   ]
  },
  {
   "cell_type": "code",
   "execution_count": null,
   "id": "7f7c3c29-07a0-44f8-b973-a96dd20767f1",
   "metadata": {},
   "outputs": [],
   "source": [
    "plot_tables_side_by_side(df)"
   ]
  },
  {
   "cell_type": "code",
   "execution_count": null,
   "id": "d9e8597f-6c91-4de6-8aa5-34eee812d5b6",
   "metadata": {},
   "outputs": [],
   "source": [
    "pandemic= sub_data[(sub_data['created_at'] >= '2020-03-07') & (sub_data['created_at'] <= '2020-03-15')]\n",
    "pandemic.shape"
   ]
  },
  {
   "cell_type": "markdown",
   "id": "e9c10900-5742-4dec-a1b7-4a77dd0ab107",
   "metadata": {},
   "source": [
    "## Topic analysis below"
   ]
  },
  {
   "cell_type": "code",
   "execution_count": null,
   "id": "74f32bcb-ab19-4ab4-a584-1aad8f60842d",
   "metadata": {},
   "outputs": [],
   "source": [
    "df = pandemic[pandemic['social']==1]\n",
    "# df"
   ]
  },
  {
   "cell_type": "code",
   "execution_count": null,
   "id": "6e193e21-b7a4-4934-8945-6e7d63f1d0d2",
   "metadata": {},
   "outputs": [],
   "source": [
    "df.groupby('sentiment').size(), pandemic.groupby('sentiment').size()"
   ]
  },
  {
   "cell_type": "code",
   "execution_count": null,
   "id": "cd5e8091-eb2a-41b1-80a2-25064a9568d1",
   "metadata": {},
   "outputs": [],
   "source": [
    "df.groupby('age').size(), df.groupby('gender').size()"
   ]
  },
  {
   "cell_type": "markdown",
   "id": "557b7eda-498b-42d0-be4a-4101ce953909",
   "metadata": {},
   "source": [
    "## LDA"
   ]
  },
  {
   "cell_type": "code",
   "execution_count": null,
   "id": "b019ffac-5d1a-432b-a7a3-aca06f11d723",
   "metadata": {},
   "outputs": [],
   "source": [
    "import nltk\n",
    "from nltk.corpus import stopwords\n",
    "\n",
    "# Download stopwords if not already downloaded\n",
    "nltk.download('stopwords')"
   ]
  },
  {
   "cell_type": "code",
   "execution_count": null,
   "id": "cfc2ad10-a484-420c-9a75-fc6ddb9028d9",
   "metadata": {},
   "outputs": [],
   "source": [
    "words_to_remove = set(['httpurl', 'hashtag', 'user'])\n",
    "stop_words = set(stopwords.words('english')).union(words_to_remove)\n",
    "df['cleaned_text'] = df['text'].apply(lambda x: ' '.join([word for word in x.split() if word.lower() not in stop_words]))"
   ]
  },
  {
   "cell_type": "code",
   "execution_count": null,
   "id": "ecc2f049-4e4e-4c3a-b47e-8ac8c3721382",
   "metadata": {},
   "outputs": [],
   "source": [
    "vectorizer = TfidfVectorizer(analyzer='word', ngram_range=(1, 3), max_df=0.75, min_df=0.001, use_idf=True)\n",
    "posts_tfidf_bowdff = vectorizer.fit_transform(df['cleaned_text'].values.astype('U'))\n",
    "\n",
    "lda_model=LatentDirichletAllocation(n_components=4,learning_method='online',random_state=42,max_iter=1) \n",
    "lda_top = lda_model.fit_transform(posts_tfidf_bowdff)\n",
    "# vocab = vectorizer.get_feature_names()\n",
    "vocab = vectorizer.get_feature_names_out()\n",
    "for i, comp in enumerate(lda_model.components_):\n",
    "     vocab_comp = zip(vocab, comp)\n",
    "     sorted_words = sorted(vocab_comp, key= lambda x:x[1], reverse=True)[:20]\n",
    "     print(\"Topic \"+str(i)+\": \")\n",
    "     for t in sorted_words:\n",
    "        print(t[0], end=\" \")\n",
    "     print('\\n')"
   ]
  },
  {
   "cell_type": "code",
   "execution_count": null,
   "id": "d9064d0d-8ba6-42a2-982f-b9d05b1d0ccc",
   "metadata": {},
   "outputs": [],
   "source": [
    "import pyLDAvis\n",
    "import pyLDAvis.sklearn\n",
    "\n",
    "# Prepare the visualization\n",
    "lda_visualization = pyLDAvis.sklearn.prepare(lda_model, posts_tfidf_bowdff, vectorizer)\n",
    "\n",
    "# Display the visualization (this works in a notebook, or Jupyter environment)\n",
    "pyLDAvis.display(lda_visualization)\n",
    "\n",
    "# Optionally save as an HTML file\n",
    "pyLDAvis.save_html(lda_visualization, 'lda_visualization.html')\n"
   ]
  },
  {
   "cell_type": "code",
   "execution_count": null,
   "id": "b676ef64",
   "metadata": {},
   "outputs": [],
   "source": [
    "# vocab = vectorizer.get_feature_names()\n",
    "vocab = vectorizer.get_feature_names_out()\n",
    "for i, comp in enumerate(lda_model.components_):\n",
    "     vocab_comp = zip(vocab, comp)\n",
    "     sorted_words = sorted(vocab_comp, key= lambda x:x[1], reverse=True)[:20]\n",
    "     print(\"Topic \"+str(i)+\": \")\n",
    "     for t in sorted_words:\n",
    "        print(t[0], end=\" \")\n",
    "     print('\\n')"
   ]
  },
  {
   "cell_type": "markdown",
   "id": "4dec2f74-def2-4a15-80ef-d11b69277920",
   "metadata": {},
   "source": [
    "## BERT Topic"
   ]
  },
  {
   "cell_type": "code",
   "execution_count": null,
   "id": "a979208c-0410-4ee7-9c45-66632cbf92b4",
   "metadata": {},
   "outputs": [],
   "source": [
    "from bertopic import BERTopic"
   ]
  },
  {
   "cell_type": "code",
   "execution_count": null,
   "id": "140ba8c6-bb16-4ee1-967e-07780061566e",
   "metadata": {},
   "outputs": [],
   "source": [
    "docs = df.cleaned_text.tolist()"
   ]
  },
  {
   "cell_type": "code",
   "execution_count": null,
   "id": "03d8e153-4e91-4a8d-b200-e137daff1e1c",
   "metadata": {},
   "outputs": [],
   "source": [
    "from sentence_transformers import SentenceTransformer\n",
    "# Pre-calculate embeddings\n",
    "embedding_model = SentenceTransformer(\"all-MiniLM-L6-v2\")\n",
    "embeddings = embedding_model.encode(docs, show_progress_bar=True)"
   ]
  },
  {
   "cell_type": "code",
   "execution_count": null,
   "id": "8eb733fd-cc6e-4e8f-b002-c8fc71c86538",
   "metadata": {},
   "outputs": [],
   "source": [
    "from umap import UMAP\n",
    "umap_model = UMAP(n_neighbors=15, n_components=5, min_dist=0.0, metric='cosine', random_state=42)"
   ]
  },
  {
   "cell_type": "code",
   "execution_count": null,
   "id": "321d1ee2-7c9b-474e-909a-0895a6e61134",
   "metadata": {},
   "outputs": [],
   "source": [
    "from hdbscan import HDBSCAN\n",
    "hdbscan_model = HDBSCAN(min_cluster_size=150, metric='euclidean', cluster_selection_method='eom', prediction_data=True)"
   ]
  },
  {
   "cell_type": "code",
   "execution_count": null,
   "id": "51ff38e6-2c0f-46f7-83c2-c8e71d0105d8",
   "metadata": {},
   "outputs": [],
   "source": [
    "from sklearn.feature_extraction.text import CountVectorizer\n",
    "# stop_words = stop_words + ['httpurl', 'hashtag', 'user']\n",
    "vectorizer_model = CountVectorizer(stop_words=\"english\", min_df=2, ngram_range=(1, 2))"
   ]
  },
  {
   "cell_type": "code",
   "execution_count": null,
   "id": "76ae3436-6ca8-4ea5-8090-61523655815a",
   "metadata": {},
   "outputs": [],
   "source": [
    "# import openai\n",
    "from bertopic.representation import KeyBERTInspired, MaximalMarginalRelevance, OpenAI, PartOfSpeech\n",
    "\n",
    "# KeyBERT\n",
    "keybert_model = KeyBERTInspired()\n",
    "\n",
    "# Part-of-Speech\n",
    "# pos_model = PartOfSpeech(\"en_core_web_sm\")\n",
    "\n",
    "# MMR\n",
    "mmr_model = MaximalMarginalRelevance(diversity=0.3)\n",
    "\n",
    "# GPT-3.5\n",
    "# openai.api_key = \"sk-...\"\n",
    "# prompt = \"\"\"\n",
    "# I have a topic that contains the following documents: \n",
    "# [DOCUMENTS]\n",
    "# The topic is described by the following keywords: [KEYWORDS]\n",
    "\n",
    "# Based on the information above, extract a short but highly descriptive topic label of at most 5 words. Make sure it is in the following format:\n",
    "# topic: <topic label>\n",
    "# \"\"\"\n",
    "# openai_model = OpenAI(model=\"gpt-3.5-turbo\", exponential_backoff=True, chat=True, prompt=prompt)\n",
    "\n",
    "# All representation models\n",
    "representation_model = {\n",
    "    \"KeyBERT\": keybert_model,\n",
    "    # \"OpenAI\": openai_model,  # Uncomment if you will use OpenAI\n",
    "    \"MMR\": mmr_model,\n",
    "    # \"POS\": pos_model\n",
    "}\n"
   ]
  },
  {
   "cell_type": "code",
   "execution_count": null,
   "id": "eba2bf8b-388b-45dc-9328-b310d4291cef",
   "metadata": {},
   "outputs": [],
   "source": [
    "from bertopic import BERTopic\n",
    "\n",
    "topic_model = BERTopic(\n",
    "  # Pipeline models\n",
    "  embedding_model=embedding_model,\n",
    "  umap_model=umap_model,\n",
    "  hdbscan_model=hdbscan_model,\n",
    "  vectorizer_model=vectorizer_model,\n",
    "  representation_model=representation_model,\n",
    "\n",
    "  # Hyperparameters\n",
    "  top_n_words=20,\n",
    "  verbose=True\n",
    ")\n",
    "\n",
    "# Train model\n",
    "topics, probs = topic_model.fit_transform(docs, embeddings)\n",
    "\n",
    "# Show topics\n",
    "# topic_model.get_topic_info()"
   ]
  },
  {
   "cell_type": "code",
   "execution_count": null,
   "id": "4a8d9cfc-2b8e-4ec3-b16a-8560f0651ff4",
   "metadata": {},
   "outputs": [],
   "source": [
    "\n",
    "# # GPT-3.5\n",
    "# client = openai.OpenAI(api_key=\"sk-proj-V9eUaxTcHBwbuk09RvpHT3BlbkFJiONTDMtF1Nb9SWIfmWIn\")\n",
    "# prompt = \"\"\"\n",
    "# I have a topic that contains the following documents: [DOCUMENTS]\n",
    "# The topic is described by the following keywords: [KEYWORDS]\n",
    "\n",
    "# Based on the information above, extract a short but highly descriptive topic label of at most 5 words. Make sure it is in the following format:\n",
    "# topic: <topic label>\n",
    "# \"\"\"\n",
    "# openai_model = OpenAI(client,  prompt=prompt)\n",
    "\n",
    "# topic_model = BERTopic(representation_model=openai_model)"
   ]
  },
  {
   "cell_type": "code",
   "execution_count": null,
   "id": "416765a4-4526-4013-8afd-199d6092ec03",
   "metadata": {},
   "outputs": [],
   "source": [
    "freq = topic_model.get_topic_info()\n",
    "freq.shape"
   ]
  },
  {
   "cell_type": "code",
   "execution_count": null,
   "id": "4cdc861e-d6d7-4704-bdde-cf8381f7c82b",
   "metadata": {},
   "outputs": [],
   "source": [
    "freq"
   ]
  },
  {
   "cell_type": "code",
   "execution_count": null,
   "id": "80b94bd6-4a75-494b-bb57-000bb172b3cc",
   "metadata": {},
   "outputs": [],
   "source": [
    "# topic_model.get_topic(-1)"
   ]
  },
  {
   "cell_type": "code",
   "execution_count": null,
   "id": "e9bae216-46b7-4454-8705-881684cc4bb9",
   "metadata": {},
   "outputs": [],
   "source": [
    "topic_model.visualize_barchart(top_n_topics=5)"
   ]
  },
  {
   "cell_type": "code",
   "execution_count": null,
   "id": "f5e9fae3-c865-4b5c-85b0-a9774d9f6249",
   "metadata": {},
   "outputs": [],
   "source": [
    "freq.iloc[-1]['Representative_Docs']"
   ]
  },
  {
   "cell_type": "code",
   "execution_count": null,
   "id": "1c476fa2-598a-4b5d-82f6-745f262269a2",
   "metadata": {},
   "outputs": [],
   "source": [
    "df[df['topic']==-1]"
   ]
  },
  {
   "cell_type": "code",
   "execution_count": null,
   "id": "c2d4576e-ca09-4d83-b167-ceedac9d704b",
   "metadata": {},
   "outputs": [],
   "source": [
    "topic_model.reduce_topics(docs, nr_topics=2)"
   ]
  }
 ],
 "metadata": {
  "kernelspec": {
   "display_name": "gpu2",
   "language": "python",
   "name": "gpu2"
  },
  "language_info": {
   "codemirror_mode": {
    "name": "ipython",
    "version": 3
   },
   "file_extension": ".py",
   "mimetype": "text/x-python",
   "name": "python",
   "nbconvert_exporter": "python",
   "pygments_lexer": "ipython3",
   "version": "3.10.14"
  }
 },
 "nbformat": 4,
 "nbformat_minor": 5
}
