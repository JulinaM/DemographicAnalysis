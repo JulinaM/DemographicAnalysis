{
 "cells": [
  {
   "cell_type": "code",
   "execution_count": 1,
   "id": "9abaa34c-5200-4c4b-bace-be89b77614ea",
   "metadata": {},
   "outputs": [],
   "source": [
    "import pandas as pd\n",
    "import numpy as np\n",
    "import matplotlib.pyplot as plt\n",
    "from matplotlib import rc\n",
    "import re,os\n",
    "import glob, traceback\n",
    "import seaborn as sns\n",
    "from sklearn.feature_extraction.text import TfidfVectorizer\n",
    "from sklearn.decomposition import LatentDirichletAllocation"
   ]
  },
  {
   "cell_type": "markdown",
   "id": "bc894643-a3f2-4a38-85fc-028feb893bc3",
   "metadata": {},
   "source": [
    "## 0. Read all csv files"
   ]
  },
  {
   "cell_type": "code",
   "execution_count": 2,
   "id": "d0d0404d-bdd2-4dc3-9148-e04dabea5ef4",
   "metadata": {},
   "outputs": [
    {
     "data": {
      "text/plain": [
       "((3502171, 17), (2275943, 18), (3502171, 18))"
      ]
     },
     "execution_count": 2,
     "metadata": {},
     "output_type": "execute_result"
    }
   ],
   "source": [
    "df = pd.read_csv('/data2/julina/scripts/tweets/cleaned_data_by_year/2020.csv')\n",
    "df.drop_duplicates(subset=['text', 'created_at'], inplace=True)\n",
    "df = df.loc[:, ~df.columns.str.match('Unnamed')]\n",
    "\n",
    "df_r = pd.read_csv('/data2/julina/scripts/tweets/cleaned_data_by_year/2020_race.csv')\n",
    "df_r.drop_duplicates(subset=['text', 'created_at'], inplace=True)\n",
    "df_r = df_r.loc[:, ~df_r.columns.str.match('Unnamed')]\n",
    "\n",
    "df_2020 = pd.merge(df, df_r[['id', 'user_id', 'race']],  how='left', on=['id','user_id'])\n",
    "df_2020.shape\n",
    "\n",
    "df.shape, df_r.shape, df_2020.shape"
   ]
  },
  {
   "cell_type": "code",
   "execution_count": 3,
   "id": "1ac65af7-f312-4c9a-ac50-9dfb4b3d8621",
   "metadata": {},
   "outputs": [],
   "source": [
    "drug_keywords_map= {\n",
    "# 'tobacco' : ['nicotine', 'tobacco', 'cigarette', 'cigarrette', 'cigar', 'bidis', 'snuff'],\n",
    "'alcohol' : ['liquor', 'beer', 'wine'],\n",
    "# 'cannabinoids' : ['marijuana', 'blunt', 'dope', 'ganja', 'grass', 'herb', 'joint', 'bud', 'mary jane', 'pot', 'reefer', 'green', 'trees', 'smoke', 'sinsemilla', 'skunk', 'weed','hashish', 'boom', 'gangster', 'hash', 'hash oil', 'hemp'],\n",
    "# 'opioids' : ['heroin', 'smack', 'horse', 'brown sugar', 'dope', \n",
    "#              # 'H',\n",
    "#              'junk', 'skag', 'skunk', 'white horse', 'China white','opium', 'laudanum', 'paregoric', 'big O', 'black stuff', 'block', 'gum', 'hop'],\n",
    "# 'stimulants': ['cocaine', 'hydrochloride', 'blow', 'bump',\n",
    "#                # 'C',\n",
    "#                 'candy', 'Charlie', 'coke', 'crack', 'flake', 'rock', 'snow', 'toot','amphetamine', 'Biphetamine', 'Dexedrine', 'bennies', 'black beauties', 'crosses', 'hearts', 'LA turnaround', 'speed', 'truck drivers', 'uppers','methamphetamine', 'Desoxyn','meth', 'ice', 'crank', 'chalk', 'crystal', 'fire', 'glass', 'go fast', 'speed'],\n",
    "# 'club_drugs':['mdma', 'ecstasy', 'adam', 'clarity', 'eve', \"lover's speed\", 'peace', 'uppers','flunitrazepam', 'rohypnol', 'forget-me pill', 'mexican valium', 'r2', 'roach', 'roche', 'roffles', 'roofinol', 'rope', 'rophies','ghb', 'Gamma-hydroxybutyrate', \n",
    "#               # 'G',\n",
    "#               'Georgia home boy', 'grievous bodily harm', 'liquid ecstasy', 'soap', 'scoop', 'goop', 'liquid X'],\n",
    "# 'dissociative_drugs':['ketamine', 'Ketalar SV', 'cat Valium',\n",
    "#                       # 'K',\n",
    "#                       'Special K', 'vitamin K','pcp and analogs', 'phencyclidine' 'angel dust', 'boat', 'hog', 'love boat', 'peace pill','salvia divinorum', 'salvia', 'shepherdess’s herb', 'maria pastora', 'magic mint', 'sally-d','dextromethorphan', 'dxm',  'robotripping', 'robo', 'triple'],\n",
    "# 'hallucinogens':['lsd','Lysergic acid diethylamide', 'acid', 'blotter', 'cubes', 'microdot', 'yellow sunshine', 'blue heaven', 'mescaline', 'Buttons', 'cactus', 'mesc', 'peyote', 'psilocybin', 'Magic mushrooms', 'purple passion', 'shrooms', 'little smoke'],\n",
    "# 'other_compounds':['anabolic_steroids', 'Anadrol', 'Oxandrin', 'Durabolin', 'Depo-Testosterone', 'Equipoise', 'roids', 'juice', 'gym candy', 'pumpers','inhalants', 'Solvents', 'paint thinners', 'gasoline', 'glues', 'gasses', 'butane', 'propane', 'aerosol propellants', 'nitrous oxide',  'nitrites' ,'isoamyl', 'isobutyl', 'cyclohexyl','laughing gas', 'poppers', 'snappers', 'whippets'],\n",
    "# 'prescription_medications':['cns_depressants', 'stimulants', 'opioid pain relievers', 'OxyContin','Oxycodone', 'Vicodin', 'Norco', 'Lortab', 'Hydrocodone', 'Acetaminophen', 'Percocet ', 'Oxycodone', 'Acetaminophen','Tramadol','Codeine','Morphine','Methadone','Demerol', 'meperidine','Acetaminophen','Tylenol', 'Excedrin', 'Vanquish','Aspirin', 'Bayer', 'Bufferin', 'Ecotrin', 'Excedrin', 'Vanquish','Diclofenac', 'Voltaren Gel','Ibuprofen', 'Advil', 'Motrin IB','Naproxen', 'Aleve']\n",
    "}\n",
    "\n",
    "drug_cols = drug_keywords_map.keys()"
   ]
  },
  {
   "cell_type": "code",
   "execution_count": 4,
   "id": "8a89fd2a-b4d3-40d8-bdca-a90426b045f4",
   "metadata": {},
   "outputs": [],
   "source": [
    "# https://nida.nih.gov/sites/default/files/cadchart.pdf\n",
    "for keyword, words in drug_keywords_map.items():\n",
    "    pattern = fr'\\b(?:{\"|\".join(words)})\\b'\n",
    "    df_2020[keyword] = df_2020['text'].str.contains(pattern, case=False).astype(int)"
   ]
  },
  {
   "cell_type": "code",
   "execution_count": 5,
   "id": "3d92f04c-d2d8-48e2-b984-ec33517001fc",
   "metadata": {},
   "outputs": [],
   "source": [
    "df_2020['drug_type'] = df_2020[drug_cols].apply(lambda row: next((col for col, val in zip(drug_cols, row) if val == 1), None), axis=1)"
   ]
  },
  {
   "cell_type": "markdown",
   "id": "e04651d2-687e-4b94-b762-e0ef47379a68",
   "metadata": {},
   "source": [
    "## Theme analysis"
   ]
  },
  {
   "cell_type": "code",
   "execution_count": 6,
   "id": "16485a75-856c-4aba-805a-e4c1ab844ea0",
   "metadata": {},
   "outputs": [],
   "source": [
    "covid = ['covid', 'corona', 'coronavirus', 'outbreak', 'spread', 'viral','virus', 'flu', 'infect','pcr test', 'national emergency', 'wuhan', 'CDC', 'ncov', 'SARS', 'mask', 'sanitizer',\n",
    "         'toll', 'new disease', 'news', 'positive', 'test', 'cases',  'dangerous year', 'fake year', 'fda', 'flatten', 'cov2', 'quarantine', 'lockdown',\n",
    "         'pandemic', 'epidemic', 'ventilator', 'symptomatic', 'incubation', 'transmission', 'immune', 'vaccine',\n",
    "          'hard to breath', 'shortness of breath','start nose', 'variant']\n",
    "\n",
    "economic =  ['job', 'job loss', 'jobless', 'no job', 'lost job', 'income', 'salary', 'paycheck', 'money', 'bills', 'bill raise',  'check', 'saving', 'wage','fulltime',\n",
    "             'unemployed', 'economy', 'layoff', 'recession', 'stimulus', 'evict', 'laid', 'bankrupt', 'owe', 'afford',  'eviction', 'credit', 'debt', 'loan', 'financial crisis', 'inflation',\n",
    "              'poor', 'poverty', 'normalize risk', 'cost', 'homeless', 'rent', 'mortgage', 'no food',  'no shelter', 'wallet', 'hungry street', 'fda']\n",
    "\n",
    "social = ['lockdown', 'bully', \"loneliness\", \"emptiness\", \"lonely\", \"distancing\", \"insecurities\", \"no one care\", \"trap\", \"feel ignore\", \"ignored\", 'bored', \n",
    "         'quarantine', 'alone', 'stay home', 'stayhome', 'stay safe', 'stayathome', 'single', 'solo', 'lockup', 'disconnect', \n",
    "          'silence', 'off limit',  'frayed', 'indoor']\n",
    "\n",
    "mentalhealth = ['sad', 'angry', 'mad', 'tension', 'depress', 'tire', 'exhausted', 'fear', 'scared', 'stress', 'worry', 'disappear', 'selfharm', 'crisis', 'dizzi', 'no hunger', 'no sleep','no hope', 'hopeless', 'loneliness', 'no will', 'quit life', 'no motivation', 'no motif', 'no focus', 'no dedication', 'cannot focus',\n",
    "                'panic', 'panic attack', 'rapid heartbeat','heartbeat fast', 'suicidal thought', 'ending my life', 'no reason to live', 'feeling worthless',  'seeking a way out', 'feel like a burden', 'struggling to cope', 'lack of purpose', 'wanting the pain to stop',\n",
    "                'mental pain', 'mental anguish', 'feel pressure', 'feel trapped', 'desperation', 'broken inside', 'losing the will to live','dark thought', 'depression', 'anxiety', 'ptsd', 'bipolar',\n",
    "               'intrusive', 'trauma', 'burnout', 'grief', 'dyingfeel', 'sorrow']\n",
    "\n",
    "supply_disruption = ['steal', 'deliver', 'refuse', 'small rate', 'sellout', 'sell bath', 'sell illegal', 'sell weed', 'cheap deal', 'box sale', 'sale', 'order', 'order pack', 'cut safe', 'strong', 'weak', 'legal high', \n",
    "                     'dangerous', 'toxic', 'industry', 'contaminated', 'local', 'import', 'international', 'darknet',  'market', 'stock alert', 'batch', 'customs', 'seizure', 'permit', 'lack', 'shortage', 'crisis', 'sale', 'buy drug', 'supply']\n",
    "\n",
    "medical_disruption = ['health crisis', 'shut down', 'cut off', 'on hold',  'locked out', 'dead end', \n",
    "                      'dry', 'mia',  \n",
    "                      'rehab', 'virtual', 'telehealth', 'teletherapy', 'telemedicine', 'appointment',  'close clinic', 'limited hours',\n",
    "                       'waitlist', 'treatment full', 'medical line', 'freeze', 'overload', 'emergency','drought', 'no help line', 'pharmacy', 'customer service']\n",
    "factor_keywords_map = {\n",
    "                 'covid': covid,\n",
    "                 'economic': economic,\n",
    "                 'social' : social,\n",
    "                 'mentalhealth': mentalhealth,\n",
    "                 'supply_disruption': supply_disruption,\n",
    "                 'medical_disruption': medical_disruption\n",
    "                }\n",
    "\n",
    "for keyword, words in factor_keywords_map.items():\n",
    "    pattern = fr'\\b(?:{\"|\".join(words)})\\b'\n",
    "    df_2020[keyword] = df_2020['text'].str.contains(pattern, case=False).astype(int)"
   ]
  },
  {
   "cell_type": "code",
   "execution_count": 7,
   "id": "2ce6c0d9-e525-4ced-b6e8-a195685e83ed",
   "metadata": {},
   "outputs": [],
   "source": [
    "df_2020['created_at'] = pd.to_datetime(df_2020['created_at'], format='%a %b %d %H:%M:%S %z %Y')"
   ]
  },
  {
   "cell_type": "code",
   "execution_count": 9,
   "id": "e2a55ab7-6242-4af8-a8c4-7bce914fa44d",
   "metadata": {},
   "outputs": [],
   "source": [
    "sub_data = df_2020[df_2020['drug_type']=='alcohol']"
   ]
  },
  {
   "cell_type": "code",
   "execution_count": 10,
   "id": "5e6f41da-7712-4f06-ab3b-ef53ffa6cbbd",
   "metadata": {},
   "outputs": [
    {
     "data": {
      "text/plain": [
       "(26550, 25)"
      ]
     },
     "execution_count": 10,
     "metadata": {},
     "output_type": "execute_result"
    }
   ],
   "source": [
    "pandemic= sub_data[(sub_data['created_at'] >= '2020-03-15') & (sub_data['created_at'] <= '2020-03-31')]\n",
    "pandemic.shape"
   ]
  },
  {
   "cell_type": "code",
   "execution_count": 88,
   "id": "00a9c5a8-00c3-49e1-8b83-d298061244b0",
   "metadata": {},
   "outputs": [
    {
     "data": {
      "text/html": [
       "<div>\n",
       "<style scoped>\n",
       "    .dataframe tbody tr th:only-of-type {\n",
       "        vertical-align: middle;\n",
       "    }\n",
       "\n",
       "    .dataframe tbody tr th {\n",
       "        vertical-align: top;\n",
       "    }\n",
       "\n",
       "    .dataframe thead th {\n",
       "        text-align: right;\n",
       "    }\n",
       "</style>\n",
       "<table border=\"1\" class=\"dataframe\">\n",
       "  <thead>\n",
       "    <tr style=\"text-align: right;\">\n",
       "      <th></th>\n",
       "      <th>covid</th>\n",
       "      <th>economic</th>\n",
       "      <th>social</th>\n",
       "      <th>mentalhealth</th>\n",
       "      <th>supply_disruption</th>\n",
       "      <th>medical_disruption</th>\n",
       "    </tr>\n",
       "  </thead>\n",
       "  <tbody>\n",
       "    <tr>\n",
       "      <th>wk 2020-03-01</th>\n",
       "      <td>1434 (11.15%)</td>\n",
       "      <td>606 (4.71%)</td>\n",
       "      <td>245 (1.9%)</td>\n",
       "      <td>157 (1.22%)</td>\n",
       "      <td>374 (2.91%)</td>\n",
       "      <td>41 (0.32%)</td>\n",
       "    </tr>\n",
       "    <tr>\n",
       "      <th>wk 2020-03-15</th>\n",
       "      <td>3213 (12.1%)</td>\n",
       "      <td>427 (1.61%)</td>\n",
       "      <td>2275 (8.57%)</td>\n",
       "      <td>1226 (4.62%)</td>\n",
       "      <td>1966 (7.4%)</td>\n",
       "      <td>1091 (4.11%)</td>\n",
       "    </tr>\n",
       "    <tr>\n",
       "      <th>wk 2020-04-01</th>\n",
       "      <td>1105 (5.32%)</td>\n",
       "      <td>323 (1.55%)</td>\n",
       "      <td>706 (3.4%)</td>\n",
       "      <td>219 (1.05%)</td>\n",
       "      <td>789 (3.8%)</td>\n",
       "      <td>131 (0.63%)</td>\n",
       "    </tr>\n",
       "    <tr>\n",
       "      <th>wk 2020-04-15</th>\n",
       "      <td>1022 (4.86%)</td>\n",
       "      <td>389 (1.85%)</td>\n",
       "      <td>871 (4.14%)</td>\n",
       "      <td>198 (0.94%)</td>\n",
       "      <td>787 (3.74%)</td>\n",
       "      <td>97 (0.46%)</td>\n",
       "    </tr>\n",
       "    <tr>\n",
       "      <th>wk 2020-05-01</th>\n",
       "      <td>2151 (10.46%)</td>\n",
       "      <td>593 (2.88%)</td>\n",
       "      <td>795 (3.86%)</td>\n",
       "      <td>202 (0.98%)</td>\n",
       "      <td>1145 (5.57%)</td>\n",
       "      <td>106 (0.52%)</td>\n",
       "    </tr>\n",
       "    <tr>\n",
       "      <th>wk 2020-05-15</th>\n",
       "      <td>505 (2.79%)</td>\n",
       "      <td>293 (1.62%)</td>\n",
       "      <td>286 (1.58%)</td>\n",
       "      <td>132 (0.73%)</td>\n",
       "      <td>654 (3.61%)</td>\n",
       "      <td>82 (0.45%)</td>\n",
       "    </tr>\n",
       "  </tbody>\n",
       "</table>\n",
       "</div>"
      ],
      "text/plain": [
       "                       covid     economic        social  mentalhealth  \\\n",
       "wk 2020-03-01  1434 (11.15%)  606 (4.71%)    245 (1.9%)   157 (1.22%)   \n",
       "wk 2020-03-15   3213 (12.1%)  427 (1.61%)  2275 (8.57%)  1226 (4.62%)   \n",
       "wk 2020-04-01   1105 (5.32%)  323 (1.55%)    706 (3.4%)   219 (1.05%)   \n",
       "wk 2020-04-15   1022 (4.86%)  389 (1.85%)   871 (4.14%)   198 (0.94%)   \n",
       "wk 2020-05-01  2151 (10.46%)  593 (2.88%)   795 (3.86%)   202 (0.98%)   \n",
       "wk 2020-05-15    505 (2.79%)  293 (1.62%)   286 (1.58%)   132 (0.73%)   \n",
       "\n",
       "              supply_disruption medical_disruption  \n",
       "wk 2020-03-01       374 (2.91%)         41 (0.32%)  \n",
       "wk 2020-03-15       1966 (7.4%)       1091 (4.11%)  \n",
       "wk 2020-04-01        789 (3.8%)        131 (0.63%)  \n",
       "wk 2020-04-15       787 (3.74%)         97 (0.46%)  \n",
       "wk 2020-05-01      1145 (5.57%)        106 (0.52%)  \n",
       "wk 2020-05-15       654 (3.61%)         82 (0.45%)  "
      ]
     },
     "execution_count": 88,
     "metadata": {},
     "output_type": "execute_result"
    }
   ],
   "source": [
    "results = pd.DataFrame()\n",
    "periods = [\n",
    "    ('2020-03-01', '2020-03-14'),\n",
    "    ('2020-03-15', '2020-03-31'),\n",
    "    ('2020-04-01', '2020-04-14'),\n",
    "    ('2020-04-15', '2020-04-30'),\n",
    "    ('2020-05-01', '2020-05-14'),\n",
    "    ('2020-05-15', '2020-05-31')\n",
    "]\n",
    "for i, (start_date, end_date) in enumerate(periods, 1):\n",
    "    period_data = sub_data[(sub_data['created_at'] >= start_date) & (sub_data['created_at'] <= end_date)]\n",
    "    counts = period_data[['covid', 'economic', 'social', 'mentalhealth', 'supply_disruption', 'medical_disruption']].sum()\n",
    "    percentages = (counts / len(period_data)) * 100\n",
    "    combined = counts.astype(str) + ' (' + percentages.round(2).astype(str) + '%)'\n",
    "    combined.name = f'wk {start_date}'\n",
    "    \n",
    "    if results.empty:\n",
    "        results = pd.DataFrame(combined)\n",
    "    else:\n",
    "        results = results.join(pd.DataFrame(combined))\n",
    "\n",
    "results.T"
   ]
  },
  {
   "cell_type": "markdown",
   "id": "e9c10900-5742-4dec-a1b7-4a77dd0ab107",
   "metadata": {},
   "source": [
    "## Topic analysis below"
   ]
  },
  {
   "cell_type": "code",
   "execution_count": null,
   "id": "74f32bcb-ab19-4ab4-a584-1aad8f60842d",
   "metadata": {},
   "outputs": [],
   "source": [
    "df = pandemic[pandemic['mentalhealth']==1]\n",
    "# df"
   ]
  },
  {
   "cell_type": "code",
   "execution_count": 90,
   "id": "fb73cf27-3b29-41e9-a7b6-0794c943d516",
   "metadata": {},
   "outputs": [
    {
     "data": {
      "text/plain": [
       "gender\n",
       "female    12169\n",
       "male      14381\n",
       "dtype: int64"
      ]
     },
     "execution_count": 90,
     "metadata": {},
     "output_type": "execute_result"
    }
   ],
   "source": [
    "pandemic.groupby('gender').size()"
   ]
  },
  {
   "cell_type": "code",
   "execution_count": 77,
   "id": "6e193e21-b7a4-4934-8945-6e7d63f1d0d2",
   "metadata": {},
   "outputs": [
    {
     "data": {
      "text/plain": [
       "(sentiment\n",
       " neg    1155\n",
       " neu      20\n",
       " pos      51\n",
       " dtype: int64,\n",
       " sentiment\n",
       " neg     5757\n",
       " neu    10117\n",
       " pos    10676\n",
       " dtype: int64)"
      ]
     },
     "execution_count": 77,
     "metadata": {},
     "output_type": "execute_result"
    }
   ],
   "source": [
    "df.groupby('sentiment').size(), pandemic.groupby('sentiment').size()"
   ]
  },
  {
   "cell_type": "code",
   "execution_count": 38,
   "id": "cd5e8091-eb2a-41b1-80a2-25064a9568d1",
   "metadata": {},
   "outputs": [
    {
     "data": {
      "text/plain": [
       "(age\n",
       " 19-29    395\n",
       " 30-39    244\n",
       " <=18     381\n",
       " >=40     206\n",
       " dtype: int64,\n",
       " gender\n",
       " female    627\n",
       " male      599\n",
       " dtype: int64)"
      ]
     },
     "execution_count": 38,
     "metadata": {},
     "output_type": "execute_result"
    }
   ],
   "source": [
    "df.groupby('age').size(), df.groupby('gender').size()"
   ]
  },
  {
   "cell_type": "markdown",
   "id": "557b7eda-498b-42d0-be4a-4101ce953909",
   "metadata": {},
   "source": [
    "## LDA"
   ]
  },
  {
   "cell_type": "code",
   "execution_count": 65,
   "id": "b019ffac-5d1a-432b-a7a3-aca06f11d723",
   "metadata": {},
   "outputs": [
    {
     "name": "stderr",
     "output_type": "stream",
     "text": [
      "[nltk_data] Downloading package stopwords to\n",
      "[nltk_data]     /home/jmaharja/nltk_data...\n",
      "[nltk_data]   Package stopwords is already up-to-date!\n"
     ]
    },
    {
     "data": {
      "text/plain": [
       "True"
      ]
     },
     "execution_count": 65,
     "metadata": {},
     "output_type": "execute_result"
    }
   ],
   "source": [
    "import nltk\n",
    "from nltk.corpus import stopwords\n",
    "\n",
    "# Download stopwords if not already downloaded\n",
    "nltk.download('stopwords')"
   ]
  },
  {
   "cell_type": "code",
   "execution_count": 66,
   "id": "cfc2ad10-a484-420c-9a75-fc6ddb9028d9",
   "metadata": {},
   "outputs": [],
   "source": [
    "words_to_remove = set(['httpurl', 'hashtag', 'user'])\n",
    "stop_words = set(stopwords.words('english')).union(words_to_remove)"
   ]
  },
  {
   "cell_type": "code",
   "execution_count": 67,
   "id": "3d4883b4-23a7-4866-a2ec-a38411858520",
   "metadata": {},
   "outputs": [],
   "source": [
    "df['cleaned_text'] = df['text'].apply(lambda x: ' '.join([word for word in x.split() if word.lower() not in stop_words]))"
   ]
  },
  {
   "cell_type": "code",
   "execution_count": 68,
   "id": "ae4f4c51-570f-4ac1-a25d-81fad770e171",
   "metadata": {},
   "outputs": [],
   "source": [
    "vectorizer = TfidfVectorizer(analyzer='word', ngram_range=(1, 3), max_df=0.75, min_df=0.001, use_idf=True)\n",
    "posts_tfidf_bowdff = vectorizer.fit_transform(df['cleaned_text'].values.astype('U'))"
   ]
  },
  {
   "cell_type": "code",
   "execution_count": 75,
   "id": "614a9eb5-a49d-40c7-bdf3-452b2c4b44e2",
   "metadata": {},
   "outputs": [],
   "source": [
    "lda_model=LatentDirichletAllocation(n_components=4,learning_method='online',random_state=42,max_iter=1) \n",
    "lda_top = lda_model.fit_transform(posts_tfidf_bowdff)"
   ]
  },
  {
   "cell_type": "code",
   "execution_count": 89,
   "id": "ecc2f049-4e4e-4c3a-b47e-8ac8c3721382",
   "metadata": {},
   "outputs": [
    {
     "name": "stdout",
     "output_type": "stream",
     "text": [
      "Topic 0: \n",
      "wine coronavirus coronavirus crisis beer anxiety denver https bar limit staff month beer mat pay nearly 100000 wage coronavirus crisis https spend nearly mat pay bar staff martin spend wage \n",
      "\n",
      "Topic 1: \n",
      "beer wine sad buy drink worry mad fear panic get bottle store close panic buy close really run liquor store close drink beer still little \n",
      "\n",
      "Topic 2: \n",
      "wine beer panic drink go mad people bottle bottle wine get drown one stress glass panic buying buying life okay people found panic found bottle \n",
      "\n",
      "Topic 3: \n",
      "1920 alcohol essential business national liquor store essential store essential 1920 alcohol prohibit 2020 national health prohibit 2020 liquor alcohol prohibit 2020 alcohol prohibit health crisis 1920 2020 liquor 2020 liquor store business national health national store essential business prohibit 2020 business national national health crisis \n",
      "\n"
     ]
    }
   ],
   "source": [
    "# vocab = vectorizer.get_feature_names()\n",
    "vocab = vectorizer.get_feature_names_out()\n",
    "for i, comp in enumerate(lda_model.components_):\n",
    "     vocab_comp = zip(vocab, comp)\n",
    "     sorted_words = sorted(vocab_comp, key= lambda x:x[1], reverse=True)[:20]\n",
    "     print(\"Topic \"+str(i)+\": \")\n",
    "     for t in sorted_words:\n",
    "        print(t[0], end=\" \")\n",
    "     print('\\n')"
   ]
  },
  {
   "cell_type": "markdown",
   "id": "4dec2f74-def2-4a15-80ef-d11b69277920",
   "metadata": {},
   "source": [
    "## BERT Topic"
   ]
  },
  {
   "cell_type": "code",
   "execution_count": 20,
   "id": "a979208c-0410-4ee7-9c45-66632cbf92b4",
   "metadata": {},
   "outputs": [
    {
     "name": "stderr",
     "output_type": "stream",
     "text": [
      "/home/jmaharja/anaconda3/envs/gpu2/lib/python3.10/site-packages/umap/distances.py:1063: NumbaDeprecationWarning: \u001b[1mThe 'nopython' keyword argument was not supplied to the 'numba.jit' decorator. The implicit default value for this argument is currently False, but it will be changed to True in Numba 0.59.0. See https://numba.readthedocs.io/en/stable/reference/deprecation.html#deprecation-of-object-mode-fall-back-behaviour-when-using-jit for details.\u001b[0m\n",
      "  @numba.jit()\n",
      "/home/jmaharja/anaconda3/envs/gpu2/lib/python3.10/site-packages/umap/distances.py:1071: NumbaDeprecationWarning: \u001b[1mThe 'nopython' keyword argument was not supplied to the 'numba.jit' decorator. The implicit default value for this argument is currently False, but it will be changed to True in Numba 0.59.0. See https://numba.readthedocs.io/en/stable/reference/deprecation.html#deprecation-of-object-mode-fall-back-behaviour-when-using-jit for details.\u001b[0m\n",
      "  @numba.jit()\n",
      "/home/jmaharja/anaconda3/envs/gpu2/lib/python3.10/site-packages/umap/distances.py:1086: NumbaDeprecationWarning: \u001b[1mThe 'nopython' keyword argument was not supplied to the 'numba.jit' decorator. The implicit default value for this argument is currently False, but it will be changed to True in Numba 0.59.0. See https://numba.readthedocs.io/en/stable/reference/deprecation.html#deprecation-of-object-mode-fall-back-behaviour-when-using-jit for details.\u001b[0m\n",
      "  @numba.jit()\n",
      "/home/jmaharja/anaconda3/envs/gpu2/lib/python3.10/site-packages/tqdm/auto.py:21: TqdmWarning: IProgress not found. Please update jupyter and ipywidgets. See https://ipywidgets.readthedocs.io/en/stable/user_install.html\n",
      "  from .autonotebook import tqdm as notebook_tqdm\n",
      "/home/jmaharja/anaconda3/envs/gpu2/lib/python3.10/site-packages/umap/umap_.py:660: NumbaDeprecationWarning: \u001b[1mThe 'nopython' keyword argument was not supplied to the 'numba.jit' decorator. The implicit default value for this argument is currently False, but it will be changed to True in Numba 0.59.0. See https://numba.readthedocs.io/en/stable/reference/deprecation.html#deprecation-of-object-mode-fall-back-behaviour-when-using-jit for details.\u001b[0m\n",
      "  @numba.jit()\n",
      "2024-08-01 19:12:06.633108: I tensorflow/core/util/port.cc:111] oneDNN custom operations are on. You may see slightly different numerical results due to floating-point round-off errors from different computation orders. To turn them off, set the environment variable `TF_ENABLE_ONEDNN_OPTS=0`.\n",
      "2024-08-01 19:12:06.687486: E tensorflow/compiler/xla/stream_executor/cuda/cuda_dnn.cc:9342] Unable to register cuDNN factory: Attempting to register factory for plugin cuDNN when one has already been registered\n",
      "2024-08-01 19:12:06.687519: E tensorflow/compiler/xla/stream_executor/cuda/cuda_fft.cc:609] Unable to register cuFFT factory: Attempting to register factory for plugin cuFFT when one has already been registered\n",
      "2024-08-01 19:12:06.687547: E tensorflow/compiler/xla/stream_executor/cuda/cuda_blas.cc:1518] Unable to register cuBLAS factory: Attempting to register factory for plugin cuBLAS when one has already been registered\n",
      "2024-08-01 19:12:06.695622: I tensorflow/core/platform/cpu_feature_guard.cc:182] This TensorFlow binary is optimized to use available CPU instructions in performance-critical operations.\n",
      "To enable the following instructions: AVX2 AVX512F AVX512_VNNI FMA, in other operations, rebuild TensorFlow with the appropriate compiler flags.\n",
      "2024-08-01 19:12:07.263318: W tensorflow/compiler/tf2tensorrt/utils/py_utils.cc:38] TF-TRT Warning: Could not find TensorRT\n"
     ]
    }
   ],
   "source": [
    "from bertopic import BERTopic"
   ]
  },
  {
   "cell_type": "code",
   "execution_count": 23,
   "id": "140ba8c6-bb16-4ee1-967e-07780061566e",
   "metadata": {},
   "outputs": [],
   "source": [
    "docs = df.cleaned_text.tolist()"
   ]
  },
  {
   "cell_type": "code",
   "execution_count": 24,
   "id": "03d8e153-4e91-4a8d-b200-e137daff1e1c",
   "metadata": {},
   "outputs": [
    {
     "name": "stderr",
     "output_type": "stream",
     "text": [
      "Batches: 100%|███████████████████████████████████████████████████████████████████████████████████████████████████████| 830/830 [00:18<00:00, 45.62it/s]\n"
     ]
    }
   ],
   "source": [
    "from sentence_transformers import SentenceTransformer\n",
    "# Pre-calculate embeddings\n",
    "embedding_model = SentenceTransformer(\"all-MiniLM-L6-v2\")\n",
    "embeddings = embedding_model.encode(docs, show_progress_bar=True)"
   ]
  },
  {
   "cell_type": "code",
   "execution_count": null,
   "id": "8eb733fd-cc6e-4e8f-b002-c8fc71c86538",
   "metadata": {},
   "outputs": [],
   "source": [
    "from umap import UMAP\n",
    "umap_model = UMAP(n_neighbors=15, n_components=5, min_dist=0.0, metric='cosine', random_state=42)"
   ]
  },
  {
   "cell_type": "code",
   "execution_count": null,
   "id": "321d1ee2-7c9b-474e-909a-0895a6e61134",
   "metadata": {},
   "outputs": [],
   "source": [
    "from hdbscan import HDBSCAN\n",
    "hdbscan_model = HDBSCAN(min_cluster_size=150, metric='euclidean', cluster_selection_method='eom', prediction_data=True)"
   ]
  },
  {
   "cell_type": "code",
   "execution_count": null,
   "id": "51ff38e6-2c0f-46f7-83c2-c8e71d0105d8",
   "metadata": {},
   "outputs": [],
   "source": [
    "from sklearn.feature_extraction.text import CountVectorizer\n",
    "# stop_words = stop_words + ['httpurl', 'hashtag', 'user']\n",
    "vectorizer_model = CountVectorizer(stop_words=\"english\", min_df=2, ngram_range=(1, 2))"
   ]
  },
  {
   "cell_type": "code",
   "execution_count": null,
   "id": "76ae3436-6ca8-4ea5-8090-61523655815a",
   "metadata": {},
   "outputs": [],
   "source": [
    "# import openai\n",
    "from bertopic.representation import KeyBERTInspired, MaximalMarginalRelevance, OpenAI, PartOfSpeech\n",
    "\n",
    "# KeyBERT\n",
    "keybert_model = KeyBERTInspired()\n",
    "\n",
    "# Part-of-Speech\n",
    "# pos_model = PartOfSpeech(\"en_core_web_sm\")\n",
    "\n",
    "# MMR\n",
    "mmr_model = MaximalMarginalRelevance(diversity=0.3)\n",
    "\n",
    "# GPT-3.5\n",
    "# openai.api_key = \"sk-...\"\n",
    "# prompt = \"\"\"\n",
    "# I have a topic that contains the following documents: \n",
    "# [DOCUMENTS]\n",
    "# The topic is described by the following keywords: [KEYWORDS]\n",
    "\n",
    "# Based on the information above, extract a short but highly descriptive topic label of at most 5 words. Make sure it is in the following format:\n",
    "# topic: <topic label>\n",
    "# \"\"\"\n",
    "# openai_model = OpenAI(model=\"gpt-3.5-turbo\", exponential_backoff=True, chat=True, prompt=prompt)\n",
    "\n",
    "# All representation models\n",
    "representation_model = {\n",
    "    \"KeyBERT\": keybert_model,\n",
    "    # \"OpenAI\": openai_model,  # Uncomment if you will use OpenAI\n",
    "    \"MMR\": mmr_model,\n",
    "    # \"POS\": pos_model\n",
    "}\n"
   ]
  },
  {
   "cell_type": "code",
   "execution_count": null,
   "id": "eba2bf8b-388b-45dc-9328-b310d4291cef",
   "metadata": {},
   "outputs": [],
   "source": [
    "from bertopic import BERTopic\n",
    "\n",
    "topic_model = BERTopic(\n",
    "  # Pipeline models\n",
    "  embedding_model=embedding_model,\n",
    "  umap_model=umap_model,\n",
    "  hdbscan_model=hdbscan_model,\n",
    "  vectorizer_model=vectorizer_model,\n",
    "  representation_model=representation_model,\n",
    "\n",
    "  # Hyperparameters\n",
    "  top_n_words=20,\n",
    "  verbose=True\n",
    ")\n",
    "\n",
    "# Train model\n",
    "topics, probs = topic_model.fit_transform(docs, embeddings)\n",
    "\n",
    "# Show topics\n",
    "# topic_model.get_topic_info()"
   ]
  },
  {
   "cell_type": "code",
   "execution_count": null,
   "id": "4a8d9cfc-2b8e-4ec3-b16a-8560f0651ff4",
   "metadata": {},
   "outputs": [],
   "source": [
    "\n",
    "# # GPT-3.5\n",
    "# client = openai.OpenAI(api_key=\"sk-proj-V9eUaxTcHBwbuk09RvpHT3BlbkFJiONTDMtF1Nb9SWIfmWIn\")\n",
    "# prompt = \"\"\"\n",
    "# I have a topic that contains the following documents: [DOCUMENTS]\n",
    "# The topic is described by the following keywords: [KEYWORDS]\n",
    "\n",
    "# Based on the information above, extract a short but highly descriptive topic label of at most 5 words. Make sure it is in the following format:\n",
    "# topic: <topic label>\n",
    "# \"\"\"\n",
    "# openai_model = OpenAI(client,  prompt=prompt)\n",
    "\n",
    "# topic_model = BERTopic(representation_model=openai_model)"
   ]
  },
  {
   "cell_type": "code",
   "execution_count": null,
   "id": "416765a4-4526-4013-8afd-199d6092ec03",
   "metadata": {},
   "outputs": [],
   "source": [
    "freq = topic_model.get_topic_info()\n",
    "freq.shape"
   ]
  },
  {
   "cell_type": "code",
   "execution_count": null,
   "id": "4cdc861e-d6d7-4704-bdde-cf8381f7c82b",
   "metadata": {},
   "outputs": [],
   "source": [
    "freq"
   ]
  },
  {
   "cell_type": "code",
   "execution_count": null,
   "id": "80b94bd6-4a75-494b-bb57-000bb172b3cc",
   "metadata": {},
   "outputs": [],
   "source": [
    "# topic_model.get_topic(-1)"
   ]
  },
  {
   "cell_type": "code",
   "execution_count": null,
   "id": "e9bae216-46b7-4454-8705-881684cc4bb9",
   "metadata": {},
   "outputs": [],
   "source": [
    "topic_model.visualize_barchart(top_n_topics=5)"
   ]
  },
  {
   "cell_type": "code",
   "execution_count": null,
   "id": "f5e9fae3-c865-4b5c-85b0-a9774d9f6249",
   "metadata": {},
   "outputs": [],
   "source": [
    "freq.iloc[-1]['Representative_Docs']"
   ]
  },
  {
   "cell_type": "code",
   "execution_count": null,
   "id": "1c476fa2-598a-4b5d-82f6-745f262269a2",
   "metadata": {},
   "outputs": [],
   "source": [
    "df[df['topic']==-1]"
   ]
  },
  {
   "cell_type": "code",
   "execution_count": null,
   "id": "c2d4576e-ca09-4d83-b167-ceedac9d704b",
   "metadata": {},
   "outputs": [],
   "source": [
    "topic_model.reduce_topics(docs, nr_topics=2)"
   ]
  }
 ],
 "metadata": {
  "kernelspec": {
   "display_name": "gpu2",
   "language": "python",
   "name": "gpu2"
  },
  "language_info": {
   "codemirror_mode": {
    "name": "ipython",
    "version": 3
   },
   "file_extension": ".py",
   "mimetype": "text/x-python",
   "name": "python",
   "nbconvert_exporter": "python",
   "pygments_lexer": "ipython3",
   "version": "3.10.14"
  }
 },
 "nbformat": 4,
 "nbformat_minor": 5
}
